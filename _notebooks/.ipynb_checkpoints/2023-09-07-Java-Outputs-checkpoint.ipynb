{
 "cells": [
  {
   "cell_type": "markdown",
   "metadata": {},
   "source": [
    "---\n",
    "toc: true\n",
    "comments: true\n",
    "layout: post\n",
    "title: Java Output Objects\n",
    "description: Java Ouptput Objects Hacks\n",
    "type: hacks\n",
    "courses: { csse: {week: 1}, csp: {week: 1, categories: [4.A]}, csa: {week: 0}, labnotebook: {week: 3} }\n",
    "categories: [C1.4]\n",
    "---"
   ]
  },
  {
   "cell_type": "markdown",
   "metadata": {},
   "source": [
    "### Hack no 1: Explain, how console.log can help find errors in code?\n",
    "\n",
    "console.log can help find errors in code by allowing a developer to print certain steps in their code to make sure things are working correctly. When I code, I often insert print statements in my code to make sure some variables are functioning correctly, and this works on the same principle.\n",
    "\n",
    "### Hack no 2: Relate console output on last step to a previous hack\n",
    "This is similar to python, where we use the print function in python to check our variables\n",
    "\n",
    "### Hack no 3: Adapt this tutorial to your own work.\n",
    "Okay..."
   ]
  },
  {
   "cell_type": "code",
   "execution_count": 2,
   "metadata": {
    "vscode": {
     "languageId": "java"
    }
   },
   "outputs": [
    {
     "data": {
      "application/javascript": [
       "console.log(\"Hello\")\n"
      ],
      "text/plain": [
       "<IPython.core.display.Javascript object>"
      ]
     },
     "metadata": {},
     "output_type": "display_data"
    }
   ],
   "source": [
    "%%js\n",
    "console.log(\"Hello\")"
   ]
  },
  {
   "cell_type": "code",
   "execution_count": 3,
   "metadata": {},
   "outputs": [
    {
     "data": {
      "application/javascript": [
       "element.textContent = \"Hello, World!\";\n"
      ],
      "text/plain": [
       "<IPython.core.display.Javascript object>"
      ]
     },
     "metadata": {},
     "output_type": "display_data"
    }
   ],
   "source": [
    "%%js \n",
    "element.textContent = \"Hello, World!\";"
   ]
  },
  {
   "cell_type": "code",
   "execution_count": 4,
   "metadata": {},
   "outputs": [
    {
     "data": {
      "application/javascript": [
       "element.textContent = \"This is a demonstration of the tutorial\";\n",
       "\n",
       "var msg = \"I am hungry\";\n",
       "\n",
       "element.textContent = msg\n"
      ],
      "text/plain": [
       "<IPython.core.display.Javascript object>"
      ]
     },
     "metadata": {},
     "output_type": "display_data"
    }
   ],
   "source": [
    "%%js\n",
    "element.textContent = \"This is a demonstration of the tutorial\";\n",
    "\n",
    "var msg = \"I am hungry\";\n",
    "\n",
    "element.textContent = msg"
   ]
  },
  {
   "cell_type": "markdown",
   "metadata": {},
   "source": [
    "See how the above code does not work, lets resolve that"
   ]
  },
  {
   "cell_type": "code",
   "execution_count": 10,
   "metadata": {},
   "outputs": [
    {
     "data": {
      "application/javascript": [
       "let message = [\"I am hungry\", \"Good Morning!\", \"Hello!\"];\n",
       "element.textContent = message[0] += \", \" + message[1]\n"
      ],
      "text/plain": [
       "<IPython.core.display.Javascript object>"
      ]
     },
     "metadata": {},
     "output_type": "display_data"
    }
   ],
   "source": [
    "%%js\n",
    "let message = [\"I am hungry\", \"Good Morning!\", \"Hello!\"];\n",
    "element.textContent = message[0] += \", \" + message[1]"
   ]
  },
  {
   "cell_type": "markdown",
   "metadata": {},
   "source": [
    "Now that we know how we can concatenate strings and output them, lets create something a little fun! Lets create a input output system that can log messages!"
   ]
  },
  {
   "cell_type": "code",
   "execution_count": 16,
   "metadata": {},
   "outputs": [
    {
     "data": {
      "application/javascript": [
       "let messages = [\"Hello\", \"Hi\"];\n",
       "function messageLog(message) {\n",
       "    messages.push(message)\n",
       "}\n",
       "\n",
       "function getMessageNo(messageNo) {\n",
       "    return messages[messageNo]\n",
       "}\n",
       "element.textContent = getMessageNo(1)\n"
      ],
      "text/plain": [
       "<IPython.core.display.Javascript object>"
      ]
     },
     "metadata": {},
     "output_type": "display_data"
    }
   ],
   "source": [
    "%%js\n",
    "let messages = [\"Hello\", \"Hi\"];\n",
    "function messageLog(message) {\n",
    "    messages.push(message)\n",
    "}\n",
    "\n",
    "function getMessageNo(messageNo) {\n",
    "    return messages[messageNo]\n",
    "}\n",
    "element.textContent = getMessageNo(1)"
   ]
  },
  {
   "cell_type": "markdown",
   "metadata": {},
   "source": [
    "Now lets try to get input"
   ]
  },
  {
   "cell_type": "code",
   "execution_count": 17,
   "metadata": {},
   "outputs": [
    {
     "data": {
      "application/javascript": [
       "prompt(\"hello\")\n"
      ],
      "text/plain": [
       "<IPython.core.display.Javascript object>"
      ]
     },
     "metadata": {},
     "output_type": "display_data"
    }
   ],
   "source": [
    "%%js\n",
    "prompt(\"hello\")"
   ]
  },
  {
   "cell_type": "markdown",
   "metadata": {},
   "source": [
    "Finally, we drop in data, and enable a fetching mechanism at the end"
   ]
  },
  {
   "cell_type": "code",
   "execution_count": 20,
   "metadata": {},
   "outputs": [
    {
     "data": {
      "application/javascript": [
       "let messages = [\"Hello\", \"Hi\"];\n",
       "function messageLog(message) {\n",
       "    messages.push(message)\n",
       "}\n",
       "\n",
       "function getMessageNo(messageNo) {\n",
       "    return messages[messageNo]\n",
       "}\n",
       "var some_message = prompt(\"Enter your secret message...\")\n",
       "var message_no = prompt(\"Which message would you like to recieve?\")\n",
       "messageLog(some_message)\n",
       "element.textcontent = getMessageNo(message_no)\n"
      ],
      "text/plain": [
       "<IPython.core.display.Javascript object>"
      ]
     },
     "metadata": {},
     "output_type": "display_data"
    }
   ],
   "source": [
    "%%js\n",
    "let messages = [\"Hello\", \"Hi\"];\n",
    "function messageLog(message) {\n",
    "    messages.push(message)\n",
    "}\n",
    "\n",
    "function getMessageNo(messageNo) {\n",
    "    return messages[messageNo]\n",
    "}\n",
    "var some_message = prompt(\"Enter your secret message...\")\n",
    "var message_no = prompt(\"Which message would you like to recieve?\")\n",
    "messageLog(some_message)\n",
    "element.textcontent = getMessageNo(message_no)"
   ]
  },
  {
   "cell_type": "code",
   "execution_count": null,
   "metadata": {},
   "outputs": [],
   "source": []
  }
 ],
 "metadata": {
  "kernelspec": {
   "display_name": "Python 3 (ipykernel)",
   "language": "python",
   "name": "python3"
  },
  "language_info": {
   "codemirror_mode": {
    "name": "ipython",
    "version": 3
   },
   "file_extension": ".py",
   "mimetype": "text/x-python",
   "name": "python",
   "nbconvert_exporter": "python",
   "pygments_lexer": "ipython3",
   "version": "3.11.4"
  }
 },
 "nbformat": 4,
 "nbformat_minor": 4
}
