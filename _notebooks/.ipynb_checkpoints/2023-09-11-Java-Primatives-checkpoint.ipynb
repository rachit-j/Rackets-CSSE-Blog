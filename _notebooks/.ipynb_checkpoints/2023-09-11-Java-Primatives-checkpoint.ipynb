{
 "cells": [
  {
   "cell_type": "markdown",
   "id": "c965301c-1167-42ab-82c8-b323cd390865",
   "metadata": {},
   "source": [
    "---\n",
    "toc: true\n",
    "comments: true\n",
    "layout: post\n",
    "title: Java Output Objects\n",
    "description: Java Ouptput Objects Hacks\n",
    "type: hacks\n",
    "courses: { csse: {week: 1}, csp: {week: 1, categories: [4.A]}, csa: {week: 0}, labnotebook: {week: 4} }\n",
    "categories: [C1.4]\n",
    "---"
   ]
  },
  {
   "cell_type": "markdown",
   "id": "cdd62c4c-504e-40dd-b5d8-d770df212e19",
   "metadata": {},
   "source": [
    "### This is the hack for Java Primatives\n",
    "The following is a GPA Calculator"
   ]
  },
  {
   "cell_type": "code",
   "execution_count": 10,
   "id": "30963740-b50a-4ff2-8507-3a185f53d94d",
   "metadata": {},
   "outputs": [],
   "source": [
    "\n",
    "// Define the GPACalculator class\n",
    "class GPACalculator {\n",
    "    private int totalSubjects;\n",
    "    private double totalPoints;\n",
    "\n",
    "    public GPACalculator() {\n",
    "        totalSubjects = 0;\n",
    "        totalPoints = 0.0;\n",
    "    }\n",
    "\n",
    "    public boolean addSubject(String subject, int credits, double grade) {\n",
    "        // Ensure valid data types and inputs\n",
    "        if (credits > 0 && grade >= 0 && grade <= 4.0) {\n",
    "            totalSubjects++;\n",
    "            totalPoints += credits * grade;\n",
    "            return true;\n",
    "        } else {\n",
    "            System.out.println(\"Invalid input. Please provide valid inputs.\");\n",
    "            return false;\n",
    "        }\n",
    "    }\n",
    "\n",
    "    public double calculateGPA() {\n",
    "        if (totalSubjects > 0) {\n",
    "            return totalPoints / totalSubjects;\n",
    "        } else {\n",
    "            return 0.0;\n",
    "        }\n",
    "    }\n",
    "}\n"
   ]
  },
  {
   "cell_type": "code",
   "execution_count": 11,
   "id": "5068fef1-b89f-4f7f-9161-cfa3e301d9a2",
   "metadata": {},
   "outputs": [],
   "source": [
    "\n",
    "import java.util.Scanner;\n",
    "\n",
    "public class Main {\n",
    "    public static void main(String[] args) {\n",
    "        Scanner scanner = new Scanner(System.in);\n",
    "\n",
    "        // Initialize the GPA calculator\n",
    "        GPACalculator gpaCalculator = new GPACalculator();\n",
    "\n",
    "        // Input subjects, credits, and grades\n",
    "        while (true) {\n",
    "            System.out.print(\"Enter subject name (or 'quit' to exit): \");\n",
    "            String subjectName = scanner.nextLine();\n",
    "\n",
    "            if (subjectName.equalsIgnoreCase(\"quit\")) {\n",
    "                break;\n",
    "            }\n",
    "\n",
    "            System.out.print(\"Enter credits for \" + subjectName + \": \");\n",
    "            int credits = scanner.nextInt();\n",
    "\n",
    "            System.out.print(\"Enter grade for \" + subjectName + \": \");\n",
    "            double grade = scanner.nextDouble();\n",
    "\n",
    "            // Add subject to GPA calculator\n",
    "            boolean success = gpaCalculator.addSubject(subjectName, credits, grade);\n",
    "\n",
    "            if (success) {\n",
    "                System.out.println(subjectName + \" added to GPA calculation.\");\n",
    "            }\n",
    "\n",
    "            scanner.nextLine(); // Consume the newline character\n",
    "        }\n",
    "\n",
    "        // Calculate and display GPA\n",
    "        double gpa = gpaCalculator.calculateGPA();\n",
    "        System.out.println(\"\\nYour GPA is: \" + String.format(\"%.2f\", gpa));\n",
    "\n",
    "        scanner.close();\n",
    "    }\n",
    "}\n"
   ]
  },
  {
   "cell_type": "code",
   "execution_count": null,
   "id": "f86bcc6c-8c34-4258-a4d6-450c208af140",
   "metadata": {},
   "outputs": [],
   "source": []
  }
 ],
 "metadata": {
  "kernelspec": {
   "display_name": "Java",
   "language": "java",
   "name": "java"
  },
  "language_info": {
   "codemirror_mode": "java",
   "file_extension": ".jshell",
   "mimetype": "text/x-java-source",
   "name": "Java",
   "pygments_lexer": "java",
   "version": "20.0.2+9-78"
  }
 },
 "nbformat": 4,
 "nbformat_minor": 5
}
