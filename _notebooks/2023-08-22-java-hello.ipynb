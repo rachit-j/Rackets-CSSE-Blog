{
 "cells": [
  {
   "cell_type": "markdown",
   "metadata": {},
   "source": [
    "---\n",
    "toc: true\n",
    "comments: true\n",
    "layout: post\n",
    "title: Java Hello\n",
    "description: The complete Hack of the section Java. This page is also saved in a jupyter notebook.\n",
    "type: hacks\n",
    "courses: { csse: {week: 1}, csp: {week: 1, categories: [4.A]}, csa: {week: 0}, labnotebook: {week: 1} }\n",
    "categories: [C1.4]\n",
    "---"
   ]
  },
  {
   "cell_type": "markdown",
   "metadata": {},
   "source": [
    "### Java Notebook - Java Hello\n",
    "\n",
    "#### Understanding Classes\n",
    "\n",
    "<div style=\"text-align: center;\">   \n",
    "    <img src=\"/Rackets-Blog/images/java_class_diagram.png\" alt=\"drawing\" width=\"800\" style=\"border-radius: 20%;\"/>\n",
    "</div>\n",
    "\n",
    "#### My Class Code\n",
    "The following code aims to create a class to record major cities, their prominent zip code, and their state. The class can be modified and data can be recieved. For the criteria of the hack, the comments and the following explanations will go through the CollegeBoard Criteria. "
   ]
  },
  {
   "cell_type": "code",
   "execution_count": 4,
   "metadata": {},
   "outputs": [],
   "source": [
    "// Define a class\n",
    "public class CityInfo {\n",
    "    private String name;\n",
    "    private int zip;\n",
    "    private String state;\n",
    "\n",
    "    // Constructor 1 -- No-argument constructor\n",
    "    public CityInfo() {\n",
    "        this.name = \"\";\n",
    "        this.zip = 0;\n",
    "        this.state = \"\";\n",
    "    }\n",
    "\n",
    "    // Constructor 2\n",
    "    public CityInfo(String name, int zip, String state) {\n",
    "        this.name = name;\n",
    "        this.zip = zip;\n",
    "        this.state = state;\n",
    "    }\n",
    "\n",
    "    // Setters\n",
    "    public void setName(String newName) {\n",
    "        this.name = newName;\n",
    "    }\n",
    "    public void setzip(int newzip) {\n",
    "        this.zip = newzip;\n",
    "    }\n",
    "    public void setstate(String newstate) {\n",
    "        this.state = newstate;\n",
    "    }\n",
    "\n",
    "    // Getters\n",
    "    public String getName() {\n",
    "        return this.name;\n",
    "    }\n",
    "    public int getzip() {\n",
    "        return this.zip;\n",
    "    }\n",
    "    public String getstate() {\n",
    "        return this.state;\n",
    "    }\n",
    "\n",
    "    public static void main(String[] args) {\n",
    "        System.out.println(\"Starting the program\");\n",
    "\n",
    "        // new instance of class\n",
    "        CityInfo san_diego = new CityInfo();\n",
    "        san_diego.setName(\"San Diego\");\n",
    "        san_diego.setstate(\"California\");\n",
    "        san_diego.setzip(92154);\n",
    "\n",
    "        // Using Parameterized Constructor\n",
    "        CityInfo denver = new CityInfo(\"Denver\", 80219, \"Colorado\");\n",
    "        CityInfo phoenix = new CityInfo(\"Phoenix\", 85001, \"Arizona\");\n",
    "        CityInfo augusta = new CityInfo(\"Augusta\", 04330, \"Maine\");\n",
    "        CityInfo boston = new CityInfo(\"Boston\", 02201, \"Massachusetts\");\n",
    "        CityInfo jackson = new CityInfo(\"Jackson\", 39205, \"Mississippi\");\n",
    "\n",
    "        // Print Statements\n",
    "        System.out.println(\"Key: City | Zip | State\");\n",
    "        System.out.println(san_diego.getName() + \" | \" + san_diego.getzip() + \" | \" + san_diego.getstate());\n",
    "        System.out.println(denver.getName() + \" | \" + denver.getzip() + \" | \" + denver.getstate());\n",
    "        System.out.println(phoenix.getName() + \" | \" + phoenix.getzip() + \" | \" + phoenix.getstate());\n",
    "        System.out.println(augusta.getName() + \" | \" + augusta.getzip() + \" | \" + augusta.getstate());\n",
    "        System.out.println(boston.getName() + \" | \" + boston.getzip() + \" | \" + boston.getstate());\n",
    "        System.out.println(jackson.getName() + \" | \" + jackson.getzip() + \" | \" + jackson.getstate());\n",
    "    }\n",
    "}\n",
    "\n"
   ]
  },
  {
   "cell_type": "markdown",
   "metadata": {},
   "source": [
    "### The Hack\n",
    "\n",
    "Essentially, we do the same thing as the above but we make it simpler and easier to demonstrate"
   ]
  },
  {
   "cell_type": "code",
   "execution_count": 3,
   "metadata": {},
   "outputs": [
    {
     "name": "stdout",
     "output_type": "stream",
     "text": [
      "Starting the program\n",
      "Key: City | Zip | State\n",
      "San Diego | 92154 | \n",
      "Denver | 80219 | Colorado\n",
      "Phoenix | 85001 | Arizona\n",
      "Augusta | 2264 | Maine\n",
      "Boston | 1153 | Massachusetts\n",
      "Jackson | 39205 | Mississippi\n"
     ]
    }
   ],
   "source": [
    "CityInfo.main(null);"
   ]
  },
  {
   "cell_type": "markdown",
   "metadata": {
    "vscode": {
     "languageId": "java"
    }
   },
   "source": [
    "Lets Say I wanted to dynamically change something. All I would have to do is change the value of the item!"
   ]
  },
  {
   "cell_type": "code",
   "execution_count": 11,
   "metadata": {},
   "outputs": [],
   "source": [
    "denver.setstate(\"California\")"
   ]
  },
  {
   "cell_type": "code",
   "execution_count": 16,
   "metadata": {},
   "outputs": [
    {
     "data": {
      "text/plain": [
       "California"
      ]
     },
     "execution_count": 16,
     "metadata": {},
     "output_type": "execute_result"
    }
   ],
   "source": [
    "denver.getstate();"
   ]
  }
 ],
 "metadata": {
  "kernelspec": {
   "display_name": "Java",
   "language": "java",
   "name": "java"
  },
  "language_info": {
   "codemirror_mode": "java",
   "file_extension": ".jshell",
   "mimetype": "text/x-java-source",
   "name": "java",
   "pygments_lexer": "java",
   "version": "20.0.2+9-78"
  }
 },
 "nbformat": 4,
 "nbformat_minor": 4
}
