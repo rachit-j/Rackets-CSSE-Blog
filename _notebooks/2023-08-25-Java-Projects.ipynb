{
 "cells": [
  {
   "cell_type": "markdown",
   "metadata": {},
   "source": [
    "---\n",
    "toc: true\n",
    "comments: true\n",
    "layout: post\n",
    "title: Java Projects\n",
    "description: The complete Hack of the section Linux Shell and Bash. This page is also saved in a jupyter notebook.\n",
    "type: hacks\n",
    "courses: { csse: {week: 1}, csp: {week: 1, categories: [4.A]}, csa: {week: 0}, labnotebook: {week: 1} }\n",
    "categories: [C1.4]\n",
    "---"
   ]
  },
  {
   "cell_type": "markdown",
   "metadata": {},
   "source": [
    "### Games\n",
    "Here is some code for some console games in Java"
   ]
  },
  {
   "cell_type": "markdown",
   "metadata": {},
   "source": [
    "#### Games\n",
    "By modifying the logic of the games and splitting them into different classes, it is a lot easer to make edits to them and simplify them, as well as create a new game and simply add it to the menu. Take a look at the following games. "
   ]
  },
  {
   "cell_type": "code",
   "execution_count": 5,
   "metadata": {},
   "outputs": [],
   "source": [
    "public class HigherOrLower { // Unit 5\n",
    "    public static void main(String[] args) { // Unit 9\n",
    "        System.out.println(\"Higher or Lower\");\n",
    "        System.out.println(\"You have three guesses to guess the number I am thinking of between 1-8.\");\n",
    "        System.out.println(\"If you guess the number correctly, you win!\");\n",
    "        Scanner scHL = new Scanner(System.in);\n",
    "        int randomG = (int) (Math.random() * 8) + 1;\n",
    "        int guess = scHL.nextInt(); // UNIT 1\n",
    "        for(int i = 3; i > 0; i--){ //Unit 3\n",
    "            if(guess == randomG){\n",
    "                System.out.println(\"You win!\");\n",
    "                break;\n",
    "            }\n",
    "            else if(guess > randomG){\n",
    "                System.out.println(\"The number is lower\");\n",
    "            }\n",
    "            else if(guess < randomG){\n",
    "                System.out.println(\"The number is higher\");\n",
    "            }\n",
    "            guess = scHL.nextInt();\n",
    "        }\n",
    "        System.out.println(\"Game over.\");\n",
    "        scHL.close();\n",
    "\n",
    "    }\n",
    "}"
   ]
  },
  {
   "cell_type": "code",
   "execution_count": 7,
   "metadata": {},
   "outputs": [
    {
     "name": "stdout",
     "output_type": "stream",
     "text": [
      "Higher or Lower\n",
      "You have three guesses to guess the number I am thinking of between 1-8.\n",
      "If you guess the number correctly, you win!\n"
     ]
    },
    {
     "name": "stdout",
     "output_type": "stream",
     "text": [
      " 5\n"
     ]
    },
    {
     "name": "stdout",
     "output_type": "stream",
     "text": [
      "The number is higher\n"
     ]
    },
    {
     "name": "stdout",
     "output_type": "stream",
     "text": [
      " 7\n"
     ]
    },
    {
     "name": "stdout",
     "output_type": "stream",
     "text": [
      "The number is higher\n"
     ]
    },
    {
     "name": "stdout",
     "output_type": "stream",
     "text": [
      " 8\n"
     ]
    },
    {
     "name": "stdout",
     "output_type": "stream",
     "text": [
      "You win!\n",
      "Game over.\n"
     ]
    }
   ],
   "source": [
    "HigherOrLower.main(null) // Unit 4"
   ]
  },
  {
   "cell_type": "code",
   "execution_count": 35,
   "metadata": {},
   "outputs": [
    {
     "name": "stdout",
     "output_type": "stream",
     "text": [
      "Your name is Link! You are on a quest to get the legendary Pizza\n",
      "Right now, you are in Kakariko village. To get the Pizza, you have to travel to Hateno Village. However, there are many monsters in your way.\n",
      "Suddenly, a giant pig attacks the village! What would you like to do?\n",
      "1 - Break through to the path to Hateno\n",
      "2 - Fight the pig (without your pizza)\n",
      "3 - Run inside a house and hide like a coward\n"
     ]
    },
    {
     "name": "stdout",
     "output_type": "stream",
     "text": [
      " 3\n"
     ]
    },
    {
     "name": "stdout",
     "output_type": "stream",
     "text": [
      "Good job coward! The pig does not see you, and after killing all the inhabitants, goes away to feast on another village. Weakling.\n",
      "You immediatley head towards Hateno, but you get stuck in a ditch. Do you 1) climb an old rope 2) dig a hole 3) Scream and pray to the gods for help\n"
     ]
    },
    {
     "name": "stdout",
     "output_type": "stream",
     "text": [
      " 2\n"
     ]
    },
    {
     "name": "stdout",
     "output_type": "stream",
     "text": [
      "You successfuly dig a hole and find an underground stream. You hop into it and it carries you right under Hateno. When you get off the dock, there are two doors for you to pass through to get your legendary pizza, and a trapdoor to exit. Which do you choose? 1 - Door 1, 2 - Door 2, 3 - Trapdoor\n"
     ]
    },
    {
     "name": "stdout",
     "output_type": "stream",
     "text": [
      " 3\n"
     ]
    },
    {
     "name": "stdout",
     "output_type": "stream",
     "text": [
      "After cowardly exiting, you head over to the pizza shop, where the owner cooks a new batch of Legendary Pizza. When the monster pig arrives, you easily defeat it after eating the pizza. Well done!\n",
      "Link is Full\n",
      "Game over!\n"
     ]
    }
   ],
   "source": [
    "import java.util.Scanner;\n",
    "import java.lang.Math;\n",
    "\n",
    "public class TheLegendOfZelda { // Unit 5\n",
    "    \n",
    "    public static void main(String[] args) { // Unit 9\n",
    "        Scanner sc = new Scanner(System.in);  // using Java Scanner Object\n",
    "\n",
    "        System.out.println(\"Your name is Link! You are on a quest to get the legendary Pizza\");\n",
    "        System.out.println(\"Right now, you are in Kakariko village. To get the Pizza, you have to travel to Hateno Village. However, there are many monsters in your way.\");\n",
    "        System.out.println(\"Suddenly, a giant pig attacks the village! What would you like to do?\");\n",
    "        System.out.println(\"1 - Break through to the path to Hateno\");\n",
    "        System.out.println(\"2 - Fight the pig (without your pizza)\");\n",
    "        System.out.println(\"3 - Run inside a house and hide like a coward\");\n",
    "\n",
    "        int choice = sc.nextInt(); // UNIT 1\n",
    "        if(choice == 1){ //Unit 3\n",
    "            System.out.println(\"As you try to break through to Hateno, the Giant Pig sees you and stomps on you. Enjoy being a pancake.\");\n",
    "        }\n",
    "        else if(choice == 2) {\n",
    "            System.out.println(\"As you go to draw your sword from its sheath, the pig eats you. Since you don't have your magical pizza, you cannot break out of the pig's stomach and die from the acid.\");\n",
    "        }\n",
    "        else if(choice == 3) {\n",
    "            System.out.println(\"Good job coward! The pig does not see you, and after killing all the inhabitants, goes away to feast on another village. Weakling.\");\n",
    "            System.out.println(\"You immediatley head towards Hateno, but you get stuck in a ditch. Do you 1) climb an old rope 2) dig a hole 3) Scream and pray to the gods for help\");\n",
    "            int choice2 = sc.nextInt();\n",
    "            \n",
    "            if(choice2 == 1){\n",
    "                System.out.println(\"As you are reaching the top, the rope snaps and breaks. You fall to the ground, hitting your head and instantly dying. Stupid. Test the rope first.\");\n",
    "            }\n",
    "            else if(choice2 == 2) {\n",
    "                System.out.println(\"You successfuly dig a hole and find an underground stream. You hop into it and it carries you right under Hateno. When you get off the dock, there are two doors for you to pass through to get your legendary pizza, and a trapdoor to exit. Which do you choose? 1 - Door 1, 2 - Door 2, 3 - Trapdoor\");\n",
    "                int choice3 = sc.nextInt();\n",
    "                if (choice3 == 1) {\n",
    "                    System.out.println(\"Wrong door. You fall into a pit and get impaled by spikes. Whoops...\");\n",
    "                }\n",
    "                else if (choice3 == 2){\n",
    "                    System.out.println(\"Wrong door. You get eaten by a family of snakes. I don't think I'll be following\");\n",
    "                }\n",
    "                else if (choice3 == 3){\n",
    "                    System.out.println(\"After cowardly exiting, you head over to the pizza shop, where the owner cooks a new batch of Legendary Pizza. When the monster pig arrives, you easily defeat it after eating the pizza. Well done!\");\n",
    "                    int rand = (int) (Math.random() * 4);\n",
    "                    String[] GoodJobs = {\"Great\", \"Amazing\", \"Link is Full\", \"YOMP\"}; // Unit 6/7/8\n",
    "                    \n",
    "                    if (rand == 1) {\n",
    "                        System.out.println(GoodJobs[0]);\n",
    "                    }\n",
    "                    else if (rand == 2) {\n",
    "                        System.out.println(GoodJobs[1]);\n",
    "                    }\n",
    "                    \n",
    "                    if (rand == 3) {\n",
    "                        System.out.println(GoodJobs[2]);\n",
    "                    }\n",
    "                    else if (rand == 4) {\n",
    "                        System.out.println(GoodJobs[3]);\n",
    "                    \n",
    "                    }\n",
    "                }\n",
    "            }\n",
    "            else if (choice2 == 3){\n",
    "                System.out.println(\"The gods are pissed that you are too lazy to do anything by yourself, so they strike you down with lightning.\");\n",
    "            }\n",
    "        }\n",
    "        System.out.println(\"Game over!\");\n",
    "    }\n",
    "}\n",
    "\n",
    "\n",
    "TheLegendOfZelda.main(null); // Unit 4"
   ]
  },
  {
   "cell_type": "code",
   "execution_count": 29,
   "metadata": {},
   "outputs": [],
   "source": [
    "public class RockPaperScissors{ // Unit 5\n",
    "    public static void main(String[] args) { // Unit 9\n",
    "            System.out.println(\"Rock Paper Scissors\");\n",
    "            System.out.println(\"Type r for rock, p for paper, or s for scissors\");\n",
    "            Scanner scRPS = new Scanner(System.in); // UNIT 1\n",
    "            String userChoice = scRPS.nextLine().toLowerCase(); // UNIT 1\n",
    "            Boolean quit = false; // Unit 3\n",
    "            int random = (int) (Math.random() * 3); // UNIT 1\n",
    "            while(quit == false){ //Unit 3\n",
    "                if(userChoice.equals(\"r\")){\n",
    "                    if(random == 1){\n",
    "                        System.out.println(\"You chose rock \\nThe computer chose paper \\nYou lose!\");\n",
    "                    }\n",
    "                    else if(random == 2){\n",
    "                        System.out.println(\"You chose rock \\nThe computer chose scissors \\nYou win!\");\n",
    "                    }\n",
    "                    else{\n",
    "                        System.out.println(\"You chose rock \\nThe computer chose rock \\nIt's a tie!\");\n",
    "                    }\n",
    "                    quit = true; //Unit 3\n",
    "                }\n",
    "                else if(userChoice.equals(\"p\")){\n",
    "                    if(random == 1){\n",
    "                        System.out.println(\"You chose paper \\nThe computer chose paper \\nIt's a tie!\");\n",
    "                    }\n",
    "                    else if(random == 2){\n",
    "                        System.out.println(\"You chose paper \\nThe computer chose scissors \\nYou lose!\");\n",
    "                    }\n",
    "                    else{\n",
    "                        System.out.println(\"You chose paper \\nThe computer chose rock \\nYou win!\");\n",
    "                    }\n",
    "                    quit = true; //Unit 3\n",
    "    \n",
    "                }\n",
    "                else if(userChoice.equals(\"s\")){\n",
    "                    if(random == 1){\n",
    "                        System.out.println(\"You chose scissors \\nThe computer chose paper \\nYou win!\");\n",
    "                    }\n",
    "                    else if(random == 2){\n",
    "                        System.out.println(\"You chose scissors \\nThe computer chose scissors \\nIt's a tie!\");\n",
    "                    }\n",
    "                    else{\n",
    "                        System.out.println(\"You chose scissors \\nThe computer chose rock \\nYou lose!\");\n",
    "                    }\n",
    "                    quit = true; //Unit 3\n",
    "    \n",
    "                }\n",
    "                else{\n",
    "                    System.out.println(\"Invalid input, try again\");\n",
    "                    userChoice = scRPS.nextLine();\n",
    "                }            \n",
    "            }\n",
    "            scRPS.close();\n",
    "        }\n",
    "}"
   ]
  },
  {
   "cell_type": "code",
   "execution_count": 31,
   "metadata": {},
   "outputs": [
    {
     "name": "stdout",
     "output_type": "stream",
     "text": [
      "Rock Paper Scissors\n",
      "Type r for rock, p for paper, or s for scissors\n"
     ]
    },
    {
     "name": "stdout",
     "output_type": "stream",
     "text": [
      " p\n"
     ]
    },
    {
     "name": "stdout",
     "output_type": "stream",
     "text": [
      "You chose paper \n",
      "The computer chose rock \n",
      "You win!\n"
     ]
    }
   ],
   "source": [
    "RockPaperScissors.main(null)// Unit 4"
   ]
  },
  {
   "cell_type": "code",
   "execution_count": 32,
   "metadata": {},
   "outputs": [
    {
     "name": "stdout",
     "output_type": "stream",
     "text": [
      "\u001b[34m+------------------------------------+\n",
      "| Sintendo Nitch - low quality, free |\n",
      "+------------------------------------+\n",
      "| 0 - Quit                           |\n",
      "| 1 - The Legend of Zelda: Link the  |\n",
      "|     shorty                         |\n",
      "| 2 - Higher or Lower (improved)     |\n",
      "| 3 - Rock Paper Scissors            |\n",
      "+------------------------------------+\n",
      "\u001b[0m\n"
     ]
    },
    {
     "name": "stdout",
     "output_type": "stream",
     "text": [
      " 1\n"
     ]
    },
    {
     "name": "stdout",
     "output_type": "stream",
     "text": [
      "\u001b[34m1: \u001b[0mYour name is Link! You are on a quest to get the legendary Pizza\n",
      "Right now, you are in Kakariko village. To get the Pizza, you have to travel to Hateno Village. However, there are many monsters in your way.\n",
      "Suddenly, a giant pig attacks the village! What would you like to do?\n",
      "1 - Break through to the path to Hateno\n",
      "2 - Fight the pig (without your pizza)\n",
      "3 - Run inside a house and hide like a coward\n"
     ]
    },
    {
     "name": "stdout",
     "output_type": "stream",
     "text": [
      " 3\n"
     ]
    },
    {
     "name": "stdout",
     "output_type": "stream",
     "text": [
      "Good job coward! The pig does not see you, and after killing all the inhabitants, goes away to feast on another village. Weakling.\n",
      "You immediatley head towards Hateno, but you get stuck in a ditch. Do you 1) climb an old rope 2) dig a hole 3) Scream and pray to the gods for help\n"
     ]
    },
    {
     "name": "stdout",
     "output_type": "stream",
     "text": [
      " 2\n"
     ]
    },
    {
     "name": "stdout",
     "output_type": "stream",
     "text": [
      "You successfuly dig a hole and find an underground stream. You hop into it and it carries you right under Hateno. When you get off the dock, there are two doors for you to pass through to get your legendary pizza, and a trapdoor to exit. Which do you choose? 1 - Door 1, 2 - Door 2, 3 - Trapdoor\n"
     ]
    },
    {
     "name": "stdout",
     "output_type": "stream",
     "text": [
      " 3\n"
     ]
    },
    {
     "name": "stdout",
     "output_type": "stream",
     "text": [
      "After cowardly exiting, you head over to the pizza shop, where the owner cooks a new batch of Legendary Pizza. When the monster pig arrives, you easily defeat it after eating the pizza. Well done!\n",
      "Game over!\n",
      "\u001b[0m\n",
      "\u001b[34m+------------------------------------+\n",
      "| Sintendo Nitch - low quality, free |\n",
      "+------------------------------------+\n",
      "| 0 - Quit                           |\n",
      "| 1 - The Legend of Zelda: Link the  |\n",
      "|     shorty                         |\n",
      "| 2 - Higher or Lower (improved)     |\n",
      "| 3 - Rock Paper Scissors            |\n",
      "+------------------------------------+\n",
      "\u001b[0m\n"
     ]
    },
    {
     "name": "stdout",
     "output_type": "stream",
     "text": [
      " 2\n"
     ]
    },
    {
     "name": "stdout",
     "output_type": "stream",
     "text": [
      "\u001b[34m2: \u001b[0mHigher or Lower\n",
      "You have three guesses to guess the number I am thinking of between 1-8.\n",
      "If you guess the number correctly, you win!\n"
     ]
    },
    {
     "name": "stdout",
     "output_type": "stream",
     "text": [
      " 5\n"
     ]
    },
    {
     "name": "stdout",
     "output_type": "stream",
     "text": [
      "The number is lower\n"
     ]
    },
    {
     "name": "stdout",
     "output_type": "stream",
     "text": [
      " 3\n"
     ]
    },
    {
     "name": "stdout",
     "output_type": "stream",
     "text": [
      "The number is lower\n"
     ]
    },
    {
     "name": "stdout",
     "output_type": "stream",
     "text": [
      " 2\n"
     ]
    },
    {
     "name": "stdout",
     "output_type": "stream",
     "text": [
      "You win!\n",
      "Game over.\n",
      "\u001b[0m\n",
      "\u001b[34m+------------------------------------+\n",
      "| Sintendo Nitch - low quality, free |\n",
      "+------------------------------------+\n",
      "| 0 - Quit                           |\n",
      "| 1 - The Legend of Zelda: Link the  |\n",
      "|     shorty                         |\n",
      "| 2 - Higher or Lower (improved)     |\n",
      "| 3 - Rock Paper Scissors            |\n",
      "+------------------------------------+\n",
      "\u001b[0m\n"
     ]
    },
    {
     "name": "stdout",
     "output_type": "stream",
     "text": [
      " 3\n"
     ]
    },
    {
     "name": "stdout",
     "output_type": "stream",
     "text": [
      "\u001b[34m3: \u001b[0mRock Paper Scissors\n",
      "Type r for rock, p for paper, or s for scissors\n"
     ]
    },
    {
     "name": "stdout",
     "output_type": "stream",
     "text": [
      " s\n"
     ]
    },
    {
     "name": "stdout",
     "output_type": "stream",
     "text": [
      "You chose scissors \n",
      "The computer chose rock \n",
      "You lose!\n",
      "\u001b[0m\n",
      "\u001b[34m+------------------------------------+\n",
      "| Sintendo Nitch - low quality, free |\n",
      "+------------------------------------+\n",
      "| 0 - Quit                           |\n",
      "| 1 - The Legend of Zelda: Link the  |\n",
      "|     shorty                         |\n",
      "| 2 - Higher or Lower (improved)     |\n",
      "| 3 - Rock Paper Scissors            |\n",
      "+------------------------------------+\n",
      "\u001b[0m\n"
     ]
    },
    {
     "name": "stdout",
     "output_type": "stream",
     "text": [
      " 0\n"
     ]
    },
    {
     "name": "stdout",
     "output_type": "stream",
     "text": [
      "\u001b[34m0: \u001b[0m\u001b[34mGoodbye, World!\u001b[0m\u001b[0m\n"
     ]
    }
   ],
   "source": [
    "import java.util.Scanner;\n",
    "\n",
    "public class ConsoleGame {\n",
    "    public static final String DEFAULT = \"\\u001B[0m\"; // UNIT 1\n",
    "    public static final String ANSI_BLUE = \"\\u001B[34m\"; // UNIT 1\n",
    "\n",
    "    public ConsoleGame() { // Unit 10\n",
    "        Scanner sc = new Scanner(System.in);\n",
    "\n",
    "        this.menuString();\n",
    "        try {\n",
    "            int choice = sc.nextInt();\n",
    "            System.out.print(ANSI_BLUE + choice + \": \" + DEFAULT);\n",
    "            if (!this.action(choice)) {\n",
    "                new ConsoleGame(); // Recursively create a new instance of ConsoleGame to display the menu again.\n",
    "            }\n",
    "        } catch (Exception e) {\n",
    "            sc.nextLine(); // error: clear buffer\n",
    "            System.out.println(ANSI_BLUE + e + \": Not a number, try again.\" + DEFAULT);\n",
    "            new ConsoleGame(); // Recursively create a new instance of ConsoleGame to display the menu again.\n",
    "        }\n",
    "        \n",
    "        sc.close();\n",
    "    }\n",
    "\n",
    "    public void menuString() {\n",
    "        String menuText = ANSI_BLUE \n",
    "            + \"+------------------------------------+\\n\"\n",
    "            + \"| Sintendo Nitch - low quality, free |\\n\"\n",
    "            + \"+------------------------------------+\\n\"\n",
    "            + \"| 0 - Quit                           |\\n\"\n",
    "            + \"| 1 - The Legend of Zelda: Link the  |\\n\"\n",
    "            + \"|     shorty                         |\\n\"\n",
    "            + \"| 2 - Higher or Lower (improved)     |\\n\"\n",
    "            + \"| 3 - Rock Paper Scissors            |\\n\"\n",
    "            + \"+------------------------------------+\\n\" \n",
    "            + DEFAULT;\n",
    "        System.out.println(menuText);\n",
    "    }\n",
    "\n",
    "    private boolean action(int selection) {\n",
    "        boolean quit = false;\n",
    "        switch (selection) {\n",
    "            case 0:\n",
    "                System.out.print(ANSI_BLUE + \"Goodbye, World!\" + DEFAULT); \n",
    "                quit = true; \n",
    "                break;\n",
    "            case 1:\n",
    "                tloz();\n",
    "                break; \n",
    "            case 2:\n",
    "                horl();\n",
    "                break;\n",
    "            case 3:\n",
    "                rps();\n",
    "                break;\n",
    "            default:\n",
    "                System.out.print(ANSI_BLUE + \"Unexpected choice, try again.\" + DEFAULT);\n",
    "        }\n",
    "        System.out.println(DEFAULT);\n",
    "        return quit;\n",
    "    }\n",
    "\n",
    "    public void horl() {\n",
    "        HigherOrLower.main(null); // Unit 2/4\n",
    "    }\n",
    "\n",
    "    public void tloz() {\n",
    "        TheLegendOfZelda.main(null); // Unit 2/4\n",
    "    }\n",
    "\n",
    "    // Assuming you have a rps() method or you can add it\n",
    "    public void rps() {\n",
    "        RockPaperScissors.main(null); // Unit 2/4\n",
    "    }\n",
    "\n",
    "    public static void main(String[] args) {\n",
    "        new ConsoleGame(); \n",
    "    }\n",
    "\n",
    "}\n",
    "\n",
    "ConsoleGame.main(null); // Unit 2/4\n"
   ]
  },
  {
   "cell_type": "markdown",
   "metadata": {},
   "source": [
    "#### Answering the Question: Why do you think reorganization and AP indetification is important?\n",
    "I think reorgainization is important so that people can understand the code and modify more easily. If the code is split into different classes, it is very easy to just change the class instead of changing the code, just like a function. \n",
    "\n",
    "AP Identification is important because it shows that we are able to understand the code, not just copy it from a source. AP Identification shows our mastery of the code, and proves that we know what we're doing. "
   ]
  }
 ],
 "metadata": {
  "kernelspec": {
   "display_name": "Java",
   "language": "java",
   "name": "java"
  },
  "language_info": {
   "codemirror_mode": "java",
   "file_extension": ".jshell",
   "mimetype": "text/x-java-source",
   "name": "java",
   "pygments_lexer": "java",
   "version": "20.0.2+9-78"
  }
 },
 "nbformat": 4,
 "nbformat_minor": 4
}
