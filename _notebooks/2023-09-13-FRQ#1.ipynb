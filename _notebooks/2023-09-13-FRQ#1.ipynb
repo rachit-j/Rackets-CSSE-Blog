{
 "cells": [
  {
   "cell_type": "markdown",
   "id": "8889ca8b",
   "metadata": {},
   "source": [
    "---\n",
    "toc: true\n",
    "comments: true\n",
    "layout: post\n",
    "title: Collegeboard FRQ 2023 Question 1\n",
    "description: From Collegeboard\n",
    "type: hacks\n",
    "courses: { csse: {week: 1}, csp: {week: 1, categories: [4.A]}, csa: {week: 0}, labnotebook: {week: 4} }\n",
    "categories: [C1.4]\n",
    "---"
   ]
  },
  {
   "cell_type": "markdown",
   "id": "e7150b92",
   "metadata": {},
   "source": [
    "## FRQ #1 - Methods and Control Structures\n",
    "This question involves the AppointmentBook class, which provides methods for students to schedule appointments with their teacher. Appointments can be scheduled during one of eight class periods during the school day, numbered 1 through 8. A requested appointment has a duration, which is the number of mins the appointment will last. The 60 minutes within a period are numbered 0 through 59. In order for an appointment to be scheduled, the teacher must have a block of consecutive, available minutes that contains at least the requested number of minutes in a requested period. Scheduled appointments must start and end within the same period.\n",
    "\n",
    "![Question](https://media.discordapp.net/attachments/1010780182476496908/1151949183197139034/image.png?width=842&height=998)"
   ]
  },
  {
   "cell_type": "markdown",
   "id": "3415c03b",
   "metadata": {},
   "source": [
    "## Part A\n",
    "\n",
    "![Part a](https://media.discordapp.net/attachments/1010780182476496908/1151949486470484119/image.png?width=912&height=998)"
   ]
  },
  {
   "cell_type": "code",
   "execution_count": 2,
   "metadata": {},
   "outputs": [],
   "source": [
    "public int findFreeBlock(int period, int duration)\n",
    "{\n",
    "    int free = 0;\n",
    "    \n",
    "    for(int min = 0; min <= 59; min++)\n",
    "    {\n",
    "        if(isMinuteFree(period, minute))\n",
    "            free++;\n",
    "        else\n",
    "            free = 0;\n",
    "        \n",
    "        if(free == duration)\n",
    "            return min - free + 1;\n",
    "    }\n",
    "    \n",
    "    return -1;\n",
    "}"
   ]
  },
  {
   "cell_type": "markdown",
   "id": "2f5b1421",
   "metadata": {},
   "source": [
    "## Part B\n",
    "\n",
    "![Part B_1](https://media.discordapp.net/attachments/1010780182476496908/1151956661628575804/image.png?width=826&height=998)\n",
    "\n",
    "![Part B_2](https://media.discordapp.net/attachments/1010780182476496908/1151956694650322955/image.png?width=1256&height=998)"
   ]
  },
  {
   "cell_type": "code",
   "execution_count": 1,
   "id": "3d71b922",
   "metadata": {},
   "outputs": [],
   "source": [
    "public boolean makeAppointment(int start, int end, int duration)\n",
    "{\n",
    "    for(int period = start; period <= end; period++)\n",
    "    {\n",
    "        int startMinute = findFreeBlock(period, duration);\n",
    "        if(startMinute != -1)\n",
    "        {\n",
    "            reserveBlock(period, startMinute, duration);\n",
    "            return true;\n",
    "        }\n",
    "    }\n",
    "    return false;\n",
    "}"
   ]
  },
  {
   "cell_type": "markdown",
   "id": "43397f4b",
   "metadata": {},
   "source": [
    "## Part 3\n",
    "Array Experimentation"
   ]
  },
  {
   "cell_type": "code",
   "execution_count": 6,
   "id": "c5958abc",
   "metadata": {},
   "outputs": [
    {
     "name": "stdout",
     "output_type": "stream",
     "text": [
      "Burrito\n"
     ]
    }
   ],
   "source": [
    "String Foods;\n",
    "String[] Foods = {\"Burrito\", \"Pasta\", \"Tacos\", \"Rice\"};\n",
    "System.out.println(Foods[0])"
   ]
  },
  {
   "cell_type": "code",
   "execution_count": 7,
   "id": "83dabd54",
   "metadata": {},
   "outputs": [
    {
     "name": "stdout",
     "output_type": "stream",
     "text": [
      "4\n"
     ]
    }
   ],
   "source": [
    "System.out.println(Foods.length);"
   ]
  },
  {
   "cell_type": "markdown",
   "id": "a35a8dbe",
   "metadata": {},
   "source": [
    "Now we will go with 2D Arrays, this is some experimentation"
   ]
  },
  {
   "cell_type": "code",
   "execution_count": 18,
   "id": "20309859",
   "metadata": {},
   "outputs": [
    {
     "name": "stdout",
     "output_type": "stream",
     "text": [
      "Pos 0: 1, 2\n",
      "Pos 1: 3, 4\n"
     ]
    }
   ],
   "source": [
    "int[][] arr = { { 1, 2 }, { 3, 4 } };\n",
    "System.out.println(\"Pos 0: \" + arr[0][0] + \", \" + arr[0][1]);\n",
    "System.out.println(\"Pos 1: \" + arr[1][0] + \", \" + arr[1][1]);"
   ]
  },
  {
   "cell_type": "markdown",
   "id": "fcda393d",
   "metadata": {},
   "source": [
    "## Part 4 -- Array Implimentation\n",
    "### Part A\n",
    "There is only one variable here so it would not really make sense to put an array for a static variable that we are only changing to determine the time; ie we need no history of the variable as well."
   ]
  },
  {
   "cell_type": "code",
   "execution_count": null,
   "id": "92cd9247",
   "metadata": {},
   "outputs": [],
   "source": [
    "public int findFreeBlock(int period, int duration)\n",
    "{\n",
    "    int free = 0;\n",
    "    \n",
    "    for(int min = 0; min <= 59; min++)\n",
    "    {\n",
    "        if(isMinuteFree(period, minute))\n",
    "            free++;\n",
    "        else\n",
    "            free = 0;\n",
    "        \n",
    "        if(free == duration)\n",
    "            return min - free + 1;\n",
    "    }\n",
    "    \n",
    "    return -1;\n",
    "}"
   ]
  },
  {
   "cell_type": "markdown",
   "id": "a42f2c62",
   "metadata": {},
   "source": [
    "### Part B\n",
    "Since we only use one variable here, pulling only one definate value from a function, it would be impractical to use an array here. "
   ]
  },
  {
   "cell_type": "code",
   "execution_count": null,
   "id": "be365235",
   "metadata": {},
   "outputs": [],
   "source": [
    "public boolean makeAppointment(int start, int end, int duration)\n",
    "{\n",
    "    for(int period = start; period <= end; period++)\n",
    "    {\n",
    "        int startMinute = findFreeBlock(period, duration);\n",
    "        if(startMinute != -1)\n",
    "        {\n",
    "            reserveBlock(period, startMinute, duration);\n",
    "            return true;\n",
    "        }\n",
    "    }\n",
    "    return false;\n",
    "}"
   ]
  },
  {
   "cell_type": "markdown",
   "id": "f631eb9d",
   "metadata": {},
   "source": [
    "### Part A -- Implimented"
   ]
  },
  {
   "cell_type": "code",
   "execution_count": null,
   "id": "a8099d2e",
   "metadata": {},
   "outputs": [],
   "source": [
    "public int findFreeBlock(int period, int duration)\n",
    "{\n",
    "    int[] free = {0};\n",
    "    \n",
    "    for(int min = 0; min <= 59; min++)\n",
    "    {\n",
    "        if(isMinuteFree(period, minute))\n",
    "            free[0]++;\n",
    "        else\n",
    "            free[0] = 0;\n",
    "        \n",
    "        if(free[0] == duration)\n",
    "            return min - free + 1;\n",
    "    }\n",
    "    \n",
    "    return -1;\n",
    "}"
   ]
  },
  {
   "cell_type": "markdown",
   "id": "abc62966",
   "metadata": {},
   "source": [
    "## Part 5: Project with Arrays with Methods and Control Structures"
   ]
  },
  {
   "cell_type": "code",
   "execution_count": 33,
   "id": "c2d08650",
   "metadata": {},
   "outputs": [],
   "source": [
    "public int transform(int original)\n",
    "{\n",
    "    int[] transformers = {1, -1, 2, -3, 5, -8, 13, -21};\n",
    "\n",
    "    for(int i = 0; i <= 7; i++)\n",
    "    {\n",
    "        // original = original + transformers[i];\n",
    "        if(original < 0)\n",
    "            original = (transformers[i] * original) - transformers[i];\n",
    "        else\n",
    "            original = (transformers[i] * original) + transformers[i];\n",
    "    }\n",
    "    return original;\n",
    "}"
   ]
  },
  {
   "cell_type": "code",
   "execution_count": 35,
   "id": "89b19569",
   "metadata": {},
   "outputs": [
    {
     "data": {
      "text/plain": [
       "6794718"
      ]
     },
     "execution_count": 35,
     "metadata": {},
     "output_type": "execute_result"
    }
   ],
   "source": [
    "transform(100)"
   ]
  },
  {
   "cell_type": "code",
   "execution_count": 36,
   "id": "655594e6",
   "metadata": {},
   "outputs": [
    {
     "data": {
      "text/plain": [
       "-308238"
      ]
     },
     "execution_count": 36,
     "metadata": {},
     "output_type": "execute_result"
    }
   ],
   "source": [
    "transform(-1)"
   ]
  },
  {
   "cell_type": "code",
   "execution_count": 37,
   "id": "ba20be38",
   "metadata": {},
   "outputs": [
    {
     "ename": "CompilationException",
     "evalue": "",
     "output_type": "error",
     "traceback": [
      "\u001b[1m\u001b[30m|   \u001b[1m\u001b[30mtransform(\u001b[0m\u001b[1m\u001b[30m\u001b[41m0.5\u001b[0m\u001b[1m\u001b[30m)\u001b[0m",
      "\u001b[1m\u001b[31mincompatible types: possible lossy conversion from double to int\u001b[0m",
      ""
     ]
    }
   ],
   "source": [
    "transform(0.5)"
   ]
  },
  {
   "cell_type": "code",
   "execution_count": 38,
   "id": "48b91e3f",
   "metadata": {},
   "outputs": [
    {
     "data": {
      "text/plain": [
       "-19898718"
      ]
     },
     "execution_count": 38,
     "metadata": {},
     "output_type": "execute_result"
    }
   ],
   "source": [
    "transform(-300)"
   ]
  },
  {
   "cell_type": "code",
   "execution_count": 39,
   "id": "bf31322e",
   "metadata": {},
   "outputs": [
    {
     "data": {
      "text/plain": [
       "242718"
      ]
     },
     "execution_count": 39,
     "metadata": {},
     "output_type": "execute_result"
    }
   ],
   "source": [
    "transform(0)"
   ]
  },
  {
   "cell_type": "markdown",
   "id": "7a93c84f",
   "metadata": {},
   "source": [
    "## Complete Code Execution"
   ]
  },
  {
   "cell_type": "code",
   "execution_count": 4,
   "id": "49a5bfbb",
   "metadata": {},
   "outputs": [],
   "source": [
    "public class AppointmentBook\n",
    "{\n",
    "    // package access for testing\n",
    "    // [period - 1][minute]\n",
    "    boolean[][] freeMinutes;\n",
    "    \n",
    "    public AppointmentBook()\n",
    "    {\n",
    "        freeMinutes = new boolean[8][60];\n",
    "        \n",
    "        for(int r = 0; r < freeMinutes.length; r++)\n",
    "            for(int c = 0; c < freeMinutes[0].length; c++)\n",
    "                freeMinutes[r][c] = true;\n",
    "    }\n",
    "    \n",
    "    private boolean isMinuteFree(int period, int minute)\n",
    "    {\n",
    "        return freeMinutes[period - 1][minute];\n",
    "    }\n",
    "    \n",
    "    // package access for testing\n",
    "    void reserveBlock(int period, int startMinute, int duration)\n",
    "    {\n",
    "        for(int minute = startMinute; minute < startMinute + duration; minute++)\n",
    "            freeMinutes[period - 1][minute] = false;\n",
    "    }\n",
    "    \n",
    "    public int findFreeBlock(int period, int duration)\n",
    "    {\n",
    "        int freeInARow = 0;\n",
    "        \n",
    "        for(int minute = 0; minute <= 59; minute++)\n",
    "        {\n",
    "            if(isMinuteFree(period, minute))\n",
    "                freeInARow++;\n",
    "            else\n",
    "                freeInARow = 0;\n",
    "            \n",
    "            if(freeInARow == duration)\n",
    "                return minute - freeInARow + 1;\n",
    "        }\n",
    "        \n",
    "        return -1;\n",
    "    }\n",
    "    \n",
    "    public boolean makeAppointment(int startPeriod, int endPeriod,\n",
    "                                   int duration)\n",
    "    {\n",
    "        for(int period = startPeriod; period <= endPeriod; period++)\n",
    "        {\n",
    "            int startMinute = findFreeBlock(period, duration);\n",
    "            \n",
    "            if(startMinute != -1)\n",
    "            {\n",
    "                reserveBlock(period, startMinute, duration);\n",
    "                return true;\n",
    "            }\n",
    "        }\n",
    "        \n",
    "        return false;\n",
    "    }\n",
    "}"
   ]
  },
  {
   "cell_type": "code",
   "execution_count": 5,
   "id": "c590b4ac",
   "metadata": {},
   "outputs": [],
   "source": [
    "import java.util.Arrays;\n",
    "//import org.junit.Test;\n",
    "//import org.junit.Assert;\n",
    "\n",
    "public class OneTest\n",
    "{\n",
    "    public void testFindFreeBlockAgainstExamples()\n",
    "    {\n",
    "        AppointmentBook book = new AppointmentBook();\n",
    "        \n",
    "        book.reserveBlock(2, 0, 10);\n",
    "        book.reserveBlock(2, 15, 15);\n",
    "        book.reserveBlock(2, 45, 5);\n",
    "        \n",
    "        System.out.println(book.findFreeBlock(2, 15) == 30);\n",
    "        System.out.println(book.findFreeBlock(2, 9) == 30);\n",
    "        System.out.println(book.findFreeBlock(2, 20) == -1);\n",
    "    }\n",
    "    \n",
    "    public void testMakeAppointmentAgainstExamples()\n",
    "    {\n",
    "        AppointmentBook book = new AppointmentBook();\n",
    "        \n",
    "        book.reserveBlock(2, 0, 25);\n",
    "        book.reserveBlock(2, 30, 30);\n",
    "        book.reserveBlock(3, 15, 26);\n",
    "        book.reserveBlock(4, 0, 5);\n",
    "        book.reserveBlock(4, 30, 14);\n",
    "        \n",
    "        AppointmentBook expectedBook = new AppointmentBook();\n",
    "        \n",
    "        expectedBook.reserveBlock(2, 0, 25);\n",
    "        expectedBook.reserveBlock(2, 30, 30);\n",
    "        expectedBook.reserveBlock(3, 15, 26);\n",
    "        expectedBook.reserveBlock(4, 0, 5);\n",
    "        expectedBook.reserveBlock(4, 30, 14);\n",
    "        \n",
    "        expectedBook.reserveBlock(4, 5, 22);\n",
    "        \n",
    "        System.out.println(book.makeAppointment(2, 4, 22));\n",
    "        System.out.println(Arrays.deepEquals(expectedBook.freeMinutes, book.freeMinutes));\n",
    "        \n",
    "        expectedBook.reserveBlock(3, 0, 3);\n",
    "        \n",
    "        System.out.println(book.makeAppointment(3, 4, 3));\n",
    "        System.out.println(Arrays.deepEquals(expectedBook.freeMinutes, book.freeMinutes));\n",
    "        \n",
    "        System.out.println(!book.makeAppointment(2, 4, 30));\n",
    "        System.out.println(Arrays.deepEquals(expectedBook.freeMinutes, book.freeMinutes));\n",
    "    }\n",
    "}\n"
   ]
  },
  {
   "cell_type": "code",
   "execution_count": 6,
   "id": "76081f7c",
   "metadata": {},
   "outputs": [
    {
     "name": "stdout",
     "output_type": "stream",
     "text": [
      "true\n",
      "true\n",
      "true\n",
      "true\n",
      "true\n",
      "true\n",
      "true\n",
      "true\n",
      "true\n"
     ]
    }
   ],
   "source": [
    "OneTest test = new OneTest();\n",
    "test.testFindFreeBlockAgainstExamples();\n",
    "test.testMakeAppointmentAgainstExamples();"
   ]
  }
 ],
 "metadata": {
  "kernelspec": {
   "display_name": "Java",
   "language": "java",
   "name": "java"
  },
  "language_info": {
   "codemirror_mode": "java",
   "file_extension": ".jshell",
   "mimetype": "text/x-java-source",
   "name": "java",
   "pygments_lexer": "java",
   "version": "20.0.2+9-78"
  }
 },
 "nbformat": 4,
 "nbformat_minor": 5
}
