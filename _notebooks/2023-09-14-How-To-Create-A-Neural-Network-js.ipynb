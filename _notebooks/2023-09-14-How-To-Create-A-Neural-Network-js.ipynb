{
 "cells": [
  {
   "cell_type": "markdown",
   "metadata": {},
   "source": [
    "# Creating a Neural Network in Object Oriented JavaScript\n",
    "\n",
    "Neural networks are hard to create. They are even harder to understand. Even more, they are extremely hard to program, especially in object oriented JavaScript. This blog is meant to educate students about the very **basics** of a neural network and how to make a **very basic** one that is also very simple."
   ]
  },
  {
   "cell_type": "markdown",
   "metadata": {},
   "source": [
    "## Section 1: The Network Class\n",
    "\n"
   ]
  }
 ],
 "metadata": {
  "language_info": {
   "name": "python"
  }
 },
 "nbformat": 4,
 "nbformat_minor": 2
}
