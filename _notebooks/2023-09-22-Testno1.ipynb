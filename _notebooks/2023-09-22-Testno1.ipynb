{
 "cells": [
  {
   "cell_type": "code",
   "execution_count": 1,
   "metadata": {},
   "outputs": [
    {
     "name": "stdout",
     "output_type": "stream",
     "text": [
      "Hello World!\n"
     ]
    }
   ],
   "source": [
    "// Test\n",
    "\n",
    "System.out.println(\"Hello World!\")"
   ]
  },
  {
   "cell_type": "markdown",
   "metadata": {},
   "source": [
    "### Reverse an Array"
   ]
  },
  {
   "cell_type": "code",
   "execution_count": 14,
   "metadata": {},
   "outputs": [
    {
     "name": "stdout",
     "output_type": "stream",
     "text": [
      "Array\n",
      "10 8 5 7 6 5 4 3 2 1 1 2 3 4 5 6 7 5 8 10 "
     ]
    }
   ],
   "source": [
    "public static void reverseArray() {\n",
    "    System.out.println(\"Array\");\n",
    "    int[] arr = {10, 9, 8, 7, 6, 5, 4, 3, 2, 1};\n",
    "    for(int length = 0; length < arr.length; length++)\n",
    "    {\n",
    "        System.out.print(arr[length]+ \" \");\n",
    "    }\n",
    "    for(int length = 0; length <= arr.length -1; length++)\n",
    "    {\n",
    "        System.out.print(arr[9 - (length)] + \" \");\n",
    "    }\n",
    "}\n",
    "\n",
    "reverseArray()"
   ]
  },
  {
   "cell_type": "markdown",
   "metadata": {},
   "source": [
    "### Initialize Random Letters in ArrayList"
   ]
  },
  {
   "cell_type": "code",
   "execution_count": 11,
   "metadata": {},
   "outputs": [
    {
     "name": "stdout",
     "output_type": "stream",
     "text": [
      "[p, f, i, n, c]\n"
     ]
    }
   ],
   "source": [
    "import java.util.ArrayList;\n",
    "\n",
    "public static String randomLetters(int max, int min) {\n",
    "    int randomNum = (int) (Math.random() * (max - min + 1) + min);\n",
    "    String[] strArray = {\"a\", \"b\", \"c\", \"d\", \"e\", \"f\", \"g\", \"h\", \"i\", \"j\", \"k\", \"l\", \"m\", \"n\", \"o\", \"p\", \"q\", \"r\", \"s\", \"t\", \"u\", \"v\", \"w\", \"x\", \"y\", \"z\", \"a\", \"b\", \"c\", \"d\", \"e\", \"f\", \"g\", \"h\", \"i\", \"j\", \"k\", \"l\", \"m\", \"n\", \"o\", \"p\", \"q\", \"r\", \"s\", \"t\", \"u\", \"v\", \"w\", \"x\", \"y\", \"z\"};\n",
    "    // System.out.print(strArray[randomNum]);\n",
    "    return strArray[randomNum];\n",
    "}\n",
    "\n",
    "ArrayList<String> letters = new ArrayList<>();\n",
    "\n",
    "// myArray[0] = randomLetters(0, 32);\n",
    "// myArray[1] = randomLetters(0, 32);\n",
    "// myArray[2] = randomLetters(0, 32);\n",
    "// myArray[3] = randomLetters(0, 32);\n",
    "// myArray[4] = randomLetters(0, 32);\n",
    "for(int length = 0; length <= 4; length++) {\n",
    "    letters.add(randomLetters(0,32));\n",
    "}\n",
    "\n",
    "System.out.println(letters);"
   ]
  }
 ],
 "metadata": {
  "kernelspec": {
   "display_name": "Java",
   "language": "java",
   "name": "java"
  },
  "language_info": {
   "codemirror_mode": "java",
   "file_extension": ".jshell",
   "mimetype": "text/x-java-source",
   "name": "java",
   "pygments_lexer": "java",
   "version": "20.0.2+9-78"
  },
  "orig_nbformat": 4
 },
 "nbformat": 4,
 "nbformat_minor": 2
}
