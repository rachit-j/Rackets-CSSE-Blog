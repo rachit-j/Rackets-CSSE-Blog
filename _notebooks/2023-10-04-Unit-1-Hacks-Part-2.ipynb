{
 "cells": [
  {
   "cell_type": "markdown",
   "metadata": {},
   "source": [
    "---\n",
    "toc: true\n",
    "comments: true\n",
    "layout: post\n",
    "title: Y2K Coders FRQ\n",
    "description: Y2K Coders Part 2\n",
    "type: hacks\n",
    "courses: { csse: {week: 1}, csp: {week: 1, categories: [4.A]}, csa: {week: 0}, labnotebook: {week: 7} }\n",
    "categories: [C1.4]\n",
    "---"
   ]
  },
  {
   "cell_type": "markdown",
   "metadata": {},
   "source": [
    "# FRQ: The Mystic Library\n",
    "\n",
    "In the ancient city of Codeville, there's a mystic library that holds books of power. Each book has a unique energy level represented by an int. The library has a special pedestal that can hold two books at a time. When two books are placed on it, their combined energy is evaluated, and a magical event occurs."
   ]
  },
  {
   "cell_type": "code",
   "execution_count": 6,
   "metadata": {},
   "outputs": [],
   "source": [
    "public class MysticLibrary {\n",
    "    int book1Energy = 0;\n",
    "    int book2Energy = 0;\n",
    "\n",
    "    boolean eventTriggered = false;\n",
    "}\n"
   ]
  },
  {
   "cell_type": "markdown",
   "metadata": {},
   "source": [
    "## PART A: Energy Evaluation\n",
    "\n",
    "Write a method evaluateEnergy that calculates the combined energy of the two books. If the combined energy exceeds a threshold of 100, an event is triggered."
   ]
  },
  {
   "cell_type": "code",
   "execution_count": 7,
   "metadata": {},
   "outputs": [],
   "source": [
    "public class MysticLibrary {\n",
    "    int book1Energy = 0;\n",
    "    int book2Energy = 0;\n",
    "\n",
    "    boolean eventTriggered = false;\n",
    "\n",
    "    public void evaluateEnergy() {\n",
    "        int combinedEnergy = book1Energy + book2Energy;\n",
    "        if (combinedEnergy > 100) {\n",
    "            eventTriggered = true;\n",
    "        }\n",
    "    }\n",
    "}\n"
   ]
  },
  {
   "cell_type": "markdown",
   "metadata": {},
   "source": [
    "The evaluateEnergy method calculates the total energy when both books are placed on the pedestal. If their combined energy surpasses 100, a magical event is set in motion, indicated by the eventTriggered variable."
   ]
  },
  {
   "cell_type": "markdown",
   "metadata": {},
   "source": [
    "## PART B: Energy Transfer\n",
    "\n",
    "Sometimes, to balance the energies, the librarian transfers energy from one book to another. Write a method transferEnergy that transfers a specified amount of energy from book1 to book2."
   ]
  },
  {
   "cell_type": "code",
   "execution_count": 8,
   "metadata": {},
   "outputs": [],
   "source": [
    "public class MysticLibrary {\n",
    "    \n",
    "    int book1Energy = 0;\n",
    "    int book2Energy = 0;\n",
    "\n",
    "    boolean eventTriggered = false;\n",
    "\n",
    "    public void evaluateEnergy() {\n",
    "        int combinedEnergy = book1Energy + book2Energy;\n",
    "        if (combinedEnergy > 100) {\n",
    "            eventTriggered = true;\n",
    "        }\n",
    "    }\n",
    "\n",
    "    public void transferEnergy(int transferAmount) {\n",
    "        if (book1Energy >= transferAmount) {\n",
    "            book1Energy -= transferAmount;\n",
    "            book2Energy += transferAmount;\n",
    "        }\n",
    "    }\n",
    "}\n"
   ]
  },
  {
   "cell_type": "markdown",
   "metadata": {},
   "source": [
    "The transferEnergy method allows the librarian to shift energy from one book to another. This is done to maintain equilibrium in the library. The method ensures that energy is only transferred if the first book has enough energy to spare."
   ]
  },
  {
   "cell_type": "markdown",
   "metadata": {},
   "source": [
    "# Grading:\n",
    "\n",
    "1/1 Point for correctly calculating the combined energy in Part A.\n",
    "\n",
    "1/1 Point for triggering the event based on the energy threshold in Part A.\n",
    "\n",
    "1/1 Point for correctly transferring energy between books in Part B.\n",
    "\n",
    "1/1 Point for ensuring that energy is only transferred if book1 has sufficient energy in Part B."
   ]
  }
 ],
 "metadata": {
  "kernelspec": {
   "display_name": "Java",
   "language": "java",
   "name": "java"
  },
  "language_info": {
   "codemirror_mode": "java",
   "file_extension": ".jshell",
   "mimetype": "text/x-java-source",
   "name": "java",
   "pygments_lexer": "java",
   "version": "20.0.2+9-78"
  },
  "orig_nbformat": 4
 },
 "nbformat": 4,
 "nbformat_minor": 2
}
