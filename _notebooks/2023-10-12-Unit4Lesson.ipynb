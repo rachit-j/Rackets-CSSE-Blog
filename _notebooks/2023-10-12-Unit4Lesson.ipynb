{
 "cells": [
  {
   "cell_type": "markdown",
   "metadata": {},
   "source": [
    "---\n",
    "layout: post\n",
    "title: Unit 4 Lesson\n",
    "toc: true\n",
    "comments: true\n",
    "description: Lesson for APCSA Unit 4\n",
    "courses: { csa: {week: 8}, labnotebook: {week: 8} }\n",
    "type: tangibles\n",
    "---"
   ]
  },
  {
   "cell_type": "markdown",
   "metadata": {},
   "source": [
    "# Iteration\n",
    "According to CollegeBoard, **Iteration** is a way to simplify code that would otherwise be repeated many times in succession. Using loops, we can finally implement complex algorithms and solutions to common problems that we weren't able to before.\n",
    "\n",
    "Iteration is repeating sequences to simplify code of advanced algorithms\n",
    "\n",
    "Iteration accounts for **17.5%-22.5%** of the APCSA AP Exam"
   ]
  },
  {
   "cell_type": "markdown",
   "metadata": {},
   "source": [
    "# 4.1: WHILE LOOPS\n",
    "**Learning Objective**: Represent Iterative Processes using a <code>while</code> loop\n",
    "\n",
    "Question: What is a loop and what are some real life examples of this (Setting a Song to repeat on your music player)\n",
    "\n",
    "You know the <code>i</code> variable that you use for while/for loops? It actually has a name, loop control variable"
   ]
  },
  {
   "cell_type": "code",
   "execution_count": 1,
   "metadata": {},
   "outputs": [
    {
     "name": "stdout",
     "output_type": "stream",
     "text": [
      "Doing some code\n",
      "Doing some code\n",
      "Doing some code\n",
      "Doing some code\n",
      "Doing some code\n",
      "Doing some code\n",
      "Doing some code\n",
      "Doing some code\n",
      "Doing some code\n",
      "Doing some code\n"
     ]
    }
   ],
   "source": [
    "int i = 0; // initialize loop control variable\n",
    "while (i < 10)  // checks the loop control variable\n",
    "{\n",
    "    System.out.println(\"Doing some code\");\n",
    "    i++;  // update the loop control variable\n",
    "}"
   ]
  },
  {
   "cell_type": "code",
   "execution_count": 7,
   "metadata": {},
   "outputs": [
    {
     "name": "stdout",
     "output_type": "stream",
     "text": [
      "0\n"
     ]
    },
    {
     "name": "stdout",
     "output_type": "stream",
     "text": [
      "1\n",
      "2\n",
      "3\n",
      "4\n",
      "0\n",
      "1\n",
      "2\n",
      "3\n",
      "4\n"
     ]
    }
   ],
   "source": [
    "// Popcorn Hack: Simplify the code segment below\n",
    "int i = 0;\n",
    "System.out.println(i);\n",
    "i++;\n",
    "System.out.println(i);\n",
    "i++;\n",
    "System.out.println(i);\n",
    "i++;\n",
    "System.out.println(i);\n",
    "i++;\n",
    "System.out.println(i);\n",
    "i++;\n",
    "\n",
    "/* Hint:\n",
    "// while (condition) {\n",
    "\n",
    "}\n",
    "for (condition) {\n",
    "\n",
    "}\n",
    "*/\n",
    "int i = 0;\n",
    "while (i <= 4)  // checks the loop control variable\n",
    "{\n",
    "    System.out.println(i);\n",
    "    i++;  // update the loop control variable\n",
    "}"
   ]
  },
  {
   "cell_type": "code",
   "execution_count": 8,
   "metadata": {},
   "outputs": [
    {
     "name": "stdout",
     "output_type": "stream",
     "text": [
      "0\n",
      "1\n",
      "2\n",
      "3\n",
      "4\n"
     ]
    }
   ],
   "source": [
    "int i = 0;\n",
    "while (i < 5) { System.out.println(i);\n",
    "i++;\n",
    "}"
   ]
  },
  {
   "cell_type": "markdown",
   "metadata": {},
   "source": [
    "## Infinite loop  \n",
    "An infinite loop is when a while loop always evaluates to true. avoid this when you can because it's probably not good for your computer. if this happens by accident, I recommend copying all code in the block and deleting the block. After you delete the code block, close and reopen the tab that the code block was in.\n",
    "\n",
    "**What's wrong with this code block?**"
   ]
  },
  {
   "cell_type": "code",
   "execution_count": 1,
   "metadata": {},
   "outputs": [],
   "source": [
    "while (true)\n",
    "{\n",
    "    System.out.print(\"CONTROL \");\n",
    "}\n",
    "// DO NOT RUN THE CODE"
   ]
  },
  {
   "cell_type": "markdown",
   "metadata": {},
   "source": [
    "## Do While loop\n",
    "  \n",
    "**What will this code block output?**"
   ]
  },
  {
   "cell_type": "code",
   "execution_count": 9,
   "metadata": {},
   "outputs": [
    {
     "name": "stdout",
     "output_type": "stream",
     "text": [
      "Quite shrimple. "
     ]
    }
   ],
   "source": [
    "// Quite shrimple\n",
    "int i = 0;\n",
    "do \n",
    "{\n",
    "    System.out.print(\"Quite shrimple. \");\n",
    "    i++;\n",
    "}\n",
    "while (i < -5);"
   ]
  },
  {
   "cell_type": "markdown",
   "metadata": {},
   "source": [
    "In a do while loop, it will run the \"do\" once before it reaches the \"while\", and at that point it will start to act like a while loop."
   ]
  },
  {
   "cell_type": "markdown",
   "metadata": {},
   "source": [
    "## For loop\n",
    "this is the standard structure of a for loop"
   ]
  },
  {
   "cell_type": "code",
   "execution_count": null,
   "metadata": {},
   "outputs": [],
   "source": [
    "for (initialization; Boolean expression; update)\n",
    "{\n",
    "    System.out.println(\"Doing some code\");\n",
    "}"
   ]
  },
  {
   "cell_type": "markdown",
   "metadata": {},
   "source": [
    "Initialization will run at the start of the loop, boolean expression will get checked with every loop, and update runs after every loop.\n",
    "\n",
    "**How many times will this code print \"Doing some code?\"**"
   ]
  },
  {
   "cell_type": "code",
   "execution_count": 2,
   "metadata": {},
   "outputs": [
    {
     "name": "stdout",
     "output_type": "stream",
     "text": [
      "Doing some code\n",
      "Doing some code\n",
      "Doing some code\n",
      "Doing some code\n",
      "Doing some code\n"
     ]
    }
   ],
   "source": [
    "for (int num = 1; num <= 5; num++)\n",
    "{\n",
    "    System.out.println(\"Doing some code\");\n",
    "}"
   ]
  },
  {
   "cell_type": "markdown",
   "metadata": {},
   "source": [
    "In this code, it creates the variable *num* at the start of the loop, it checks if *num* is less than or equal to 5 after each loop, and it adds 1 to *num* after each loop."
   ]
  },
  {
   "cell_type": "markdown",
   "metadata": {},
   "source": [
    "## Enhanced for loop  \n",
    "this is essentially a javascript for loop, as it will iterate through a list and run code in the loop to each variable inside the list"
   ]
  },
  {
   "cell_type": "code",
   "execution_count": 10,
   "metadata": {},
   "outputs": [
    {
     "name": "stdout",
     "output_type": "stream",
     "text": [
      "1 4 6 2 "
     ]
    }
   ],
   "source": [
    "int[] list = {1, 4, 6, 2};\n",
    "for (int j : list)\n",
    "{\n",
    "    System.out.print(j);\n",
    "    System.out.print(\" \");\n",
    "}"
   ]
  },
  {
   "cell_type": "markdown",
   "metadata": {},
   "source": [
    "## Break and Continue\n",
    "In java there are breaks, but there are also continues.\n",
    "\n",
    "### Break  \n",
    "Breaks, as you likely already know, end a loop. They tend to be used with an *if* statement\n",
    "\n",
    "**How many times will this code print \"Big guy?\"**"
   ]
  },
  {
   "cell_type": "code",
   "execution_count": 11,
   "metadata": {},
   "outputs": [
    {
     "name": "stdout",
     "output_type": "stream",
     "text": [
      "Big guy\n",
      "Big guy\n",
      "Big guy\n",
      "Big guy\n",
      "Big guy\n"
     ]
    }
   ],
   "source": [
    "int i = 0; \n",
    "while (i < 10) \n",
    "{\n",
    "    System.out.println(\"Big guy\");\n",
    "    i++;  \n",
    "    if (i == 5) {\n",
    "        break;\n",
    "    }\n",
    "}"
   ]
  },
  {
   "cell_type": "markdown",
   "metadata": {},
   "source": [
    "### Continue  \n",
    "Continue will skip code for an iteration, but will still keep the loop running"
   ]
  },
  {
   "cell_type": "code",
   "execution_count": 12,
   "metadata": {},
   "outputs": [
    {
     "name": "stdout",
     "output_type": "stream",
     "text": [
      "0\n",
      "1\n",
      "2\n",
      "3\n",
      "4\n",
      "\n",
      "6\n",
      "7\n",
      "8\n",
      "9\n"
     ]
    }
   ],
   "source": [
    "int i = 0; \n",
    "while (i < 10) \n",
    "{\n",
    "    if (i == 5) {\n",
    "        i++; // don't forget this, it creates an error similar to an infinite loop\n",
    "        System.out.println(\"\");\n",
    "        continue;\n",
    "    }\n",
    "    System.out.println(i);\n",
    "    i++;  \n",
    "}"
   ]
  },
  {
   "cell_type": "markdown",
   "metadata": {},
   "source": [
    "# 4.3: Developing Algorithms Using Strings\n",
    "**Learning Objective**: For algorithms in the context of a particular specification that involves <code>String</code> objects:"
   ]
  },
  {
   "cell_type": "markdown",
   "metadata": {},
   "source": [
    "### Methods in Java that help to MANIPULATE STRINGS\n",
    "- String.substring - Retrieves a particular portion of a String\n",
    "- String.equals - Comparees the content of two strings\n",
    "- String.length - Returns the length of a String"
   ]
  },
  {
   "cell_type": "code",
   "execution_count": 26,
   "metadata": {},
   "outputs": [
    {
     "name": "stdout",
     "output_type": "stream",
     "text": [
      "Common Prefix: C\n",
      "Common Prefix: Co\n",
      "Common Prefix: Cod\n",
      "Common Prefix: Codi\n",
      "Common Prefix: Codin\n",
      "Common Prefix: Coding\n",
      "Common Prefix: Coding \n",
      "Common Prefix: Coding i\n",
      "Common Prefix: Coding is\n",
      "Common Prefix: Coding is \n",
      "Common Prefix: Coding is c\n",
      "Common Prefix: Coding is co\n"
     ]
    }
   ],
   "source": [
    "public class Compare {\n",
    "    public static void main(String[] args) {\n",
    "        String string1 = \"Coding is cool!\";\n",
    "        String string2 = \"Coding is coding!\";\n",
    "\n",
    "        int minLength = Math.min(string1.length(), string2.length());\n",
    "\n",
    "        for (int i = 0; i < minLength; i++) {\n",
    "            String subString1 = string1.substring(0, i + 1);\n",
    "            String subString2 = string2.substring(0, i + 1);\n",
    "\n",
    "            if (subString1.equals(subString2)) {\n",
    "                System.out.println(\"Common Prefix: \" + subString2);\n",
    "            }\n",
    "        }\n",
    "    }\n",
    "}\n",
    "Compare.main(null)"
   ]
  },
  {
   "cell_type": "markdown",
   "metadata": {},
   "source": [
    "**Where are the 3 methods in the above Java Cell and how do they contribute to the program's functionality?**\n",
    "\n",
    "The three methods are the substring, the equals, and the length. This contributes to the program's functionality by allowing us to manipulate the strings in the ways we want."
   ]
  },
  {
   "cell_type": "code",
   "execution_count": 13,
   "metadata": {},
   "outputs": [
    {
     "name": "stdout",
     "output_type": "stream",
     "text": [
      "The Number of vowels in \"supercalifragilisticexpialidocious\" is 16\n"
     ]
    }
   ],
   "source": [
    "String word = \"supercalifragilisticexpialidocious\";\n",
    "int count = 0;\n",
    "\n",
    "for (int i = 0; i < word.length(); i++) {\n",
    "    char letter = word.charAt(i);\n",
    "    if (letter == 'a' || letter == 'e' || letter == 'i' || letter == 'o' || letter == 'u') {\n",
    "        count++;\n",
    "    }\n",
    "}\n",
    "\n",
    "System.out.println(\"The Number of vowels in \\\"\" + word + \"\\\" is \" + count);\n"
   ]
  },
  {
   "cell_type": "markdown",
   "metadata": {},
   "source": [
    "**What does word.length() do and how do we use it above?**  \n",
    "Word.legnth stops us from getting an index out of bounds error if our loop tries to progress past our index. We can also change the string without changing the function. \n",
    "\n",
    "**What Boolean Operator is used?**\n",
    "The OR operator is used"
   ]
  },
  {
   "cell_type": "code",
   "execution_count": 14,
   "metadata": {},
   "outputs": [
    {
     "name": "stdout",
     "output_type": "stream",
     "text": [
      "We found the Smaller String!\n"
     ]
    }
   ],
   "source": [
    "public class Main {\n",
    "    public static void main(String[] args) {\n",
    "        String word = \"Scooby Doo\";\n",
    "        String sub = \"Doo\";\n",
    "        boolean found = false;\n",
    "\n",
    "        for (int i = 0; i <= word.length() - sub.length(); i++) {\n",
    "            String portion = word.substring(i, i + sub.length());\n",
    "            if (portion.equals(sub)) {\n",
    "                found = true;\n",
    "            }\n",
    "        }\n",
    "        if (found) {\n",
    "            System.out.println(\"We found the Smaller String!\");\n",
    "        } else {\n",
    "            System.out.println(\"We did not find the Smaller String! \\t Ruh Roh!\");\n",
    "        }\n",
    "    }\n",
    "}\n",
    "Main.main(null)"
   ]
  },
  {
   "cell_type": "markdown",
   "metadata": {},
   "source": [
    "### String concatenation\n",
    "String concatenation is when you want to add to strings together"
   ]
  },
  {
   "cell_type": "code",
   "execution_count": 15,
   "metadata": {},
   "outputs": [
    {
     "name": "stdout",
     "output_type": "stream",
     "text": [
      "Original String: String\n",
      "Reversed String: gnirtS\n"
     ]
    }
   ],
   "source": [
    "String original = \"String\";\n",
    "String reversed = \"\";\n",
    "for (int i = 0; i < original.length(); i++)\n",
    "{\n",
    "    String single = original.substring(i,i+1);\n",
    "    reversed = single + reversed;\n",
    "}\n",
    "System.out.println(\"Original String: \" + original);\n",
    "System.out.println(\"Reversed String: \" + reversed);\n"
   ]
  },
  {
   "cell_type": "markdown",
   "metadata": {},
   "source": [
    "# 4.4: Nested Iteration\n",
    "**Learning Objective**: Represent nested iteration processes\n",
    "\n",
    "Essential Knowledge:\n",
    "- Nested iteration is when an iteration statement appears inside the body of another iteration statement\n",
    "- The inner loop must complete all of its iterations before the outer loop can continue. \n",
    "\n",
    "**Before uncommenting the code, guess what the output will look like:**\n",
    "\n",
    "\n",
    "1 2\n",
    "\n",
    "1 2\n",
    "\n",
    "1 2\n",
    "\n",
    "1 2"
   ]
  },
  {
   "cell_type": "code",
   "execution_count": 17,
   "metadata": {},
   "outputs": [
    {
     "name": "stdout",
     "output_type": "stream",
     "text": [
      "1 2 3 \n",
      "1 2 3 \n",
      "1 2 3 \n"
     ]
    }
   ],
   "source": [
    "public class NestedLoops{\n",
    "\n",
    "    public static void main(String[] args){\n",
    "\n",
    "         for (int outer = 1; outer < 4; outer++){\n",
    "\n",
    "             for (int inner = 1; inner < 4; inner++){\n",
    "                \n",
    "                 System.out.print(inner + \" \");\n",
    "             }\n",
    "\n",
    "             System.out.println();\n",
    "\n",
    "         } \n",
    "\n",
    "    }\n",
    "}\n",
    "\n",
    "NestedLoops.main(null)"
   ]
  },
  {
   "cell_type": "markdown",
   "metadata": {},
   "source": [
    "**What will the output of the code above be if we switch the loop headers (the stuff inside of the for loop)?**\n",
    "You will have different lengths of numbers and lines.\n",
    "\n",
    "\n",
    "**After making a prediction actually switch the loop headers for yourself. What do you notice about the output compared to the output before the change?**\n",
    "\n",
    "Prediction: Change outer <4 and inner < 4\n",
    "1 2 3\n",
    "1 2 3\n",
    "1 2 3"
   ]
  },
  {
   "cell_type": "markdown",
   "metadata": {},
   "source": [
    "# 4.5: Informal Code Analysis\n",
    "\n",
    "Essential Knowledge:\n",
    "- A statement exectution count indicates the number of times a statement is executed by the program\n",
    "\n"
   ]
  },
  {
   "cell_type": "code",
   "execution_count": null,
   "metadata": {},
   "outputs": [],
   "source": [
    "for (int outer = 0; outer < 3; outer++){\n",
    "    for (int inner = 0; inner < 4; inner++){\n",
    "        // statement #1\n",
    "    }\n",
    "}"
   ]
  },
  {
   "cell_type": "markdown",
   "metadata": {},
   "source": [
    "**In the code above, how many times will the inner loop execute when outer = 0?** 12\n",
    "\n",
    "**In the code above, how many times will the inner loop execute when outer = 1?** 8  \n",
    "\n",
    "**In the code above, how many times will the inner loop execute when outer = 2?** 4  \n",
    "\n",
    "**In the code above, how many times will the inner loop execute in total?** 12\n"
   ]
  },
  {
   "cell_type": "code",
   "execution_count": 21,
   "metadata": {},
   "outputs": [
    {
     "name": "stdout",
     "output_type": "stream",
     "text": [
      "12\n"
     ]
    }
   ],
   "source": [
    "// Testing to see if im right\n",
    "\n",
    "int i = 0;\n",
    "for (int outer = 0; outer < 3; outer++){\n",
    "    for (int inner = 0; inner < 4; inner++){\n",
    "        i++;\n",
    "    }\n",
    "}\n",
    "System.out.println(i)"
   ]
  },
  {
   "cell_type": "code",
   "execution_count": null,
   "metadata": {},
   "outputs": [],
   "source": [
    "for (int outer = 5; outer > 0; outer--){\n",
    "    for (int inner = 0; inner < outer; inner++){\n",
    "        // statement #1\n",
    "    }\n",
    "}"
   ]
  },
  {
   "cell_type": "markdown",
   "metadata": {},
   "source": [
    "**In the code above, how many times will the inner loop execute when outer = 5?** 15  \n",
    "\n",
    "**In the code above, how many times will the inner loop execute when outer = 4?** 10  \n",
    "\n",
    "**In the code above, how many times will the inner loop execute when outer = 3?** 6  \n",
    "\n",
    "**In the code above, how many times will the inner loop execute in total?** 15"
   ]
  },
  {
   "cell_type": "code",
   "execution_count": 63,
   "metadata": {},
   "outputs": [],
   "source": [
    "int k = 0;\n",
    "while (k < 5){\n",
    "    int x = (int)(Math.random()*6) + 1;\n",
    "    while (x != 6){\n",
    "        // Statement #1\n",
    "        x = (int)(Math.random()*6) + 1;\n",
    "    }\n",
    "    k++;\n",
    "}\n"
   ]
  },
  {
   "cell_type": "markdown",
   "metadata": {},
   "source": [
    "**In the code above, how many times will the statement #1 execute?** 26"
   ]
  },
  {
   "cell_type": "code",
   "execution_count": 53,
   "metadata": {},
   "outputs": [
    {
     "name": "stdout",
     "output_type": "stream",
     "text": [
      "05101520253035404550556065707580859095100105110115120125130"
     ]
    }
   ],
   "source": [
    "for (int k = 0; k < 135; k += 5) {\n",
    "    System.out.print(k);\n",
    "}"
   ]
  },
  {
   "cell_type": "markdown",
   "metadata": {},
   "source": [
    "**In the code above, how many times will the statement #1 execute?** 27  \n",
    "\n",
    "**In the code above, how many times will the statement #2 execute?** 27\n",
    "\n",
    "Rewrite the code above to be more effecient based on execution count.\n",
    "Done :D"
   ]
  },
  {
   "cell_type": "markdown",
   "metadata": {},
   "source": [
    "# HACKS\n",
    "These hacks will be due on Monday (October 16th) before class"
   ]
  },
  {
   "cell_type": "markdown",
   "metadata": {},
   "source": [
    "### Hacks\n",
    "- Finish the popcorn hacks (0.2)\n",
    "- Rewrite the for loop (0.25)\n",
    "- Complete the Ceaser Cipher Code (0.45)\n"
   ]
  },
  {
   "cell_type": "code",
   "execution_count": 54,
   "metadata": {},
   "outputs": [
    {
     "name": "stdout",
     "output_type": "stream",
     "text": [
      "0\n",
      "4\n",
      "8\n",
      "12\n",
      "16\n",
      "20\n",
      "24\n",
      "28\n",
      "32\n",
      "36\n"
     ]
    }
   ],
   "source": [
    "for (int k = 0; k < 40; k++){\n",
    "    if (k % 4 == 0){\n",
    "        System.out.println(k); \n",
    "    }\n",
    "}"
   ]
  },
  {
   "cell_type": "markdown",
   "metadata": {},
   "source": [
    "Rewrite the code above 3 different times\n",
    "- Your code should be more efficient based execution count\n",
    "- Your code should use 3 different types of loops that you learned above (Hint: You may need to use a list)"
   ]
  },
  {
   "cell_type": "code",
   "execution_count": 57,
   "metadata": {},
   "outputs": [
    {
     "name": "stdout",
     "output_type": "stream",
     "text": [
      "0\n",
      "4\n",
      "8\n",
      "12\n",
      "16\n",
      "20\n",
      "24\n",
      "28\n",
      "32\n",
      "36\n"
     ]
    }
   ],
   "source": [
    "// 1st way\n",
    "Integer[] edwiiin = {0, 4, 8, 12, 16, 20, 24, 28, 32, 36};\n",
    "\n",
    "for(i = 0; i < edwiiin.length; i++) {\n",
    "    System.out.println(edwiiin[i]);\n",
    "}"
   ]
  },
  {
   "cell_type": "code",
   "execution_count": 59,
   "metadata": {},
   "outputs": [
    {
     "name": "stdout",
     "output_type": "stream",
     "text": [
      "0\n",
      "4\n",
      "8\n",
      "12\n",
      "16\n",
      "20\n",
      "24\n",
      "28\n",
      "32\n",
      "36\n"
     ]
    }
   ],
   "source": [
    "// 2nd way\n",
    "for(i = 0; i < 40; i = i + 4) {\n",
    "    System.out.println(i);\n",
    "}"
   ]
  },
  {
   "cell_type": "code",
   "execution_count": 61,
   "metadata": {},
   "outputs": [
    {
     "name": "stdout",
     "output_type": "stream",
     "text": [
      "0\n",
      "4\n",
      "8\n",
      "12\n",
      "16\n",
      "20\n",
      "24\n",
      "28\n",
      "32\n",
      "36\n"
     ]
    }
   ],
   "source": [
    "// 3rd way\n",
    "int i = 0;\n",
    "while(i < 40) {\n",
    "    System.out.println(i);\n",
    "    i = i + 4;\n",
    "}"
   ]
  },
  {
   "cell_type": "markdown",
   "metadata": {},
   "source": [
    "#### Ceaser Cipher Hacks\n",
    "Try to write a cipher program that shifts each letter in a message 3 letters forward. Use any of the methods you learned today. Use it to decode the 3 messages we've given you!"
   ]
  },
  {
   "cell_type": "code",
   "execution_count": 66,
   "metadata": {},
   "outputs": [
    {
     "name": "stdout",
     "output_type": "stream",
     "text": [
      "Nice job!\n",
      "code code code\n",
      "supercalifragilisticexpialidocious\n",
      "Edwin the g <3\n",
      "Me doing this without gpt. Why? Why did I do this?\n"
     ]
    }
   ],
   "source": [
    "public class CaesarCipher {\n",
    "\n",
    "    public static void main(String[] args) {\n",
    "        String message1 = \"Kfzb gly!\";\n",
    "        String message2 = \"zlab zlab zlab\";\n",
    "        String message3 = \"prmbozxifcoxdfifpqfzbumfxifalzflrp\";\n",
    "\n",
    "        System.out.println(caesarShift(message1, 3));\n",
    "        System.out.println(caesarShift(message2, 3));\n",
    "        System.out.println(caesarShift(message3, 3));\n",
    "        System.out.println(caesarShift(\"Batfk qeb d <3\", 3));\n",
    "        System.out.println(caesarShift(\"Jb alfkd qefp tfqelrq dmq. Tev? Tev afa F al qefp?\", 3));\n",
    "    }\n",
    "\n",
    "    public static String caesarShift(String message, int shift) {\n",
    "        String[] letters = {\"a\", \"b\", \"c\", \"d\", \"e\", \"f\", \"g\", \"h\", \"i\", \"j\", \"k\", \"l\", \"m\", \"n\", \"o\", \"p\", \"q\", \"r\", \"s\", \"t\", \"u\", \"v\", \"w\", \"x\", \"y\", \"z\"};\n",
    "        StringBuilder shiftedMessage = new StringBuilder(); // GOOGLE - I thought yall wanted like case sensitive stuff\n",
    "\n",
    "        for (int i = 0; i < message.length(); i++) {\n",
    "            String currentChar = message.substring(i, i+1);\n",
    "            boolean isLetterFound = false;\n",
    "\n",
    "            for(int j = 0; j < letters.length; j++) {\n",
    "                if(currentChar.toLowerCase().equals(letters[j])) {\n",
    "                    int shiftedIndex = (j + shift) % 26; //wrap\n",
    "                    // preserve case\n",
    "                    if (Character.isUpperCase(currentChar.charAt(0))) {\n",
    "                        shiftedMessage.append(letters[shiftedIndex].toUpperCase());\n",
    "                    } else {\n",
    "                        shiftedMessage.append(letters[shiftedIndex]);\n",
    "                    }\n",
    "                    isLetterFound = true;\n",
    "                    break; // effieicentty\n",
    "                }\n",
    "            }\n",
    "\n",
    "            // not a letter\n",
    "            if (!isLetterFound) {\n",
    "                shiftedMessage.append(currentChar);\n",
    "            }\n",
    "        }\n",
    "        // this function took to long :(\n",
    "        return shiftedMessage.toString();\n",
    "    }\n",
    "}\n",
    "CaesarCipher.main(null);"
   ]
  }
 ],
 "metadata": {
  "kernelspec": {
   "display_name": "Java",
   "language": "java",
   "name": "java"
  },
  "language_info": {
   "codemirror_mode": "java",
   "file_extension": ".jshell",
   "mimetype": "text/x-java-source",
   "name": "java",
   "pygments_lexer": "java",
   "version": "20.0.2+9-78"
  }
 },
 "nbformat": 4,
 "nbformat_minor": 2
}
