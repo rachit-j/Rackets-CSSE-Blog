{
 "cells": [
  {
   "attachments": {},
   "cell_type": "markdown",
   "metadata": {},
   "source": [
    "---\n",
    "layout: post\n",
    "title: Unit 5 Part 1\n",
    "toc: true\n",
    "comments: true\n",
    "description: Lesson for APCSA Unit 5\n",
    "courses: { csa: {week: 9}, labnotebook: {week: 9} }\n",
    "type: tangibles\n",
    "---"
   ]
  },
  {
   "attachments": {},
   "cell_type": "markdown",
   "metadata": {},
   "source": [
    "# 5.1 Anatomy of a Class"
   ]
  },
  {
   "attachments": {},
   "cell_type": "markdown",
   "metadata": {},
   "source": [
    "## KEY LEARNING OBJECTIVES:\n",
    "\n",
    "1. Designate access and visibility constraints to classes, data, constructors, and methods.\n",
    "\n",
    "2. Designate private visibility of instance variables to encapsulate the attributes of an object."
   ]
  },
  {
   "attachments": {},
   "cell_type": "markdown",
   "metadata": {},
   "source": [
    "## What is a class?"
   ]
  },
  {
   "attachments": {},
   "cell_type": "markdown",
   "metadata": {},
   "source": [
    "A **class** is a template for creating objects in Java. "
   ]
  },
  {
   "attachments": {},
   "cell_type": "markdown",
   "metadata": {},
   "source": [
    "## Private vs Public Designation\n",
    "\n",
    "**Private**: A private access modifier means that the instance variables, constructors, and methods cannot be accessed outside of the class.\n",
    "\n",
    "**Public**: This allows access from classes outside the original class of declaration."
   ]
  },
  {
   "attachments": {},
   "cell_type": "markdown",
   "metadata": {},
   "source": [
    "## Data Encapsulation\n",
    "\n",
    "This is one of the key components of object oriented programming. \n",
    "\n",
    "It ensures data is secure and restricted by controlling which parts of a class are accessible to other classes."
   ]
  },
  {
   "attachments": {},
   "cell_type": "markdown",
   "metadata": {},
   "source": [
    "In the following example, we look at encapsulation and demonstrate how to create a Student class with private instance variables for name and age, public methods for accessing and modifying these variables, and validation checks to ensure data integrity. "
   ]
  },
  {
   "cell_type": "code",
   "execution_count": 22,
   "metadata": {},
   "outputs": [
    {
     "name": "stdout",
     "output_type": "stream",
     "text": [
      "Meet our star student:\n",
      "Name: Vishnu\n",
      "Age: 17\n"
     ]
    }
   ],
   "source": [
    "public class Student {\n",
    "    // 1. Private variables to store student's name and age\n",
    "    private String name; // Stores the student's name\n",
    "    private int age;     // Stores the student's age\n",
    "\n",
    "    // 2. Public Class: Student\n",
    "\n",
    "    // 3. Constructor Methods\n",
    "    // Constructor to create a Student object with a name and age\n",
    "    public Student(String name, int age) {\n",
    "        this.name = name;\n",
    "        this.age = age;\n",
    "    }\n",
    "\n",
    "    public static void main(String[] args) {\n",
    "        // Let's create a new Student!\n",
    "        Student student = new Student(\"Vishnu\", 17);\n",
    "\n",
    "        // Displaying the student's information\n",
    "        System.out.println(\"Meet our star student:\");\n",
    "        System.out.println(\"Name: \" + student.name); // Accessing the name directly\n",
    "        System.out.println(\"Age: \" + student.age);   // Accessing the age directly\n",
    "    }\n",
    "}\n",
    "\n",
    "Student.main(null);\n"
   ]
  },
  {
   "attachments": {},
   "cell_type": "markdown",
   "metadata": {},
   "source": [
    "# 5.2 Constructors"
   ]
  },
  {
   "attachments": {},
   "cell_type": "markdown",
   "metadata": {},
   "source": [
    "## KEY LEARNING OBJECTIVES"
   ]
  },
  {
   "attachments": {},
   "cell_type": "markdown",
   "metadata": {},
   "source": [
    "Define instance variables for the attributes to be initialized through the constructors of a class."
   ]
  },
  {
   "attachments": {},
   "cell_type": "markdown",
   "metadata": {},
   "source": [
    "Constructors are used to set the initial state of an object.\n"
   ]
  },
  {
   "attachments": {},
   "cell_type": "markdown",
   "metadata": {},
   "source": [
    "**Mutable Objects**: These are objects whose internal state can be changed after its creation. Lists are mutable objects, as are arrays.\n",
    "\n",
    "**Constructor Parameters**: These are values passed to a class's constructor when creating an instance. This initializes the new object's state.\n",
    "\n",
    "**Instance Variables**: These are object attributes that store the objects state. They are declared within the class and can be accessed by the object's methods.\n",
    "\n",
    "**Alias**: Two variables point to the same object."
   ]
  },
  {
   "attachments": {},
   "cell_type": "markdown",
   "metadata": {},
   "source": [
    "A good example of a Java alias:"
   ]
  },
  {
   "cell_type": "code",
   "execution_count": 17,
   "metadata": {},
   "outputs": [
    {
     "name": "stdout",
     "output_type": "stream",
     "text": [
      "Value at index 0 through alias2: 100\n"
     ]
    }
   ],
   "source": [
    "public class AliasExample {\n",
    "    public static void main(String[] args) {\n",
    "        // Create an array and two references (aliases) to it\n",
    "        int[] array = new int[]{1, 2, 3};\n",
    "        int[] alias1 = array;\n",
    "        int[] alias2 = array;\n",
    "\n",
    "        // Modify the array through one of the aliases\n",
    "        alias1[0] = 100;\n",
    "\n",
    "        // Access the modified array through the other alias\n",
    "        System.out.println(\"Value at index 0 through alias2: \" + alias2[0]);\n",
    "    }\n",
    "}\n",
    "\n",
    "AliasExample.main(null);"
   ]
  },
  {
   "attachments": {},
   "cell_type": "markdown",
   "metadata": {},
   "source": [
    "In the below example, we explore encapsulation and demonstrate how to create a Person class to represent individuals with private attributes for name, age, and hobbies. The code showcases how to initialize and manipulate a Person object's state, including adding hobbies to the person's list, while ensuring the original data remains unchanged."
   ]
  },
  {
   "cell_type": "code",
   "execution_count": 1,
   "metadata": {},
   "outputs": [
    {
     "name": "stdout",
     "output_type": "stream",
     "text": [
      "Person 1:\n",
      "Name: Anna\n",
      "Age: 17\n",
      "Person 2:\n",
      "Name: Rohin\n",
      "Age: 13\n"
     ]
    }
   ],
   "source": [
    "public class Person {\n",
    "    private String name;\n",
    "    private int age;\n",
    "\n",
    "    // Constructor to initialize a Person with a name and age\n",
    "    public Person(String name, int age) {\n",
    "        this.name = name;  // Initialize the 'name' field with the provided name\n",
    "        this.age = age;    // Initialize the 'age' field with the provided age\n",
    "    }\n",
    "\n",
    "    // Method to display the person's information\n",
    "    public void displayInfo() {\n",
    "        System.out.println(\"Name: \" + name);\n",
    "        System.out.println(\"Age: \" + age);\n",
    "    }\n",
    "}\n",
    "\n",
    "public class PersonConstructorDemo {\n",
    "    public static void main(String[] args) {\n",
    "        // Create two Person objects using the constructor\n",
    "        Person person1 = new Person(\"Anna\", 17);\n",
    "        Person person2 = new Person(\"Rohin\", 13);\n",
    "\n",
    "        // Display information about the created persons\n",
    "        System.out.println(\"Person 1:\");\n",
    "        person1.displayInfo();\n",
    "        \n",
    "        System.out.println(\"Person 2:\");\n",
    "        person2.displayInfo();\n",
    "    }\n",
    "}\n",
    "\n",
    "PersonConstructorDemo.main(null);\n"
   ]
  },
  {
   "attachments": {},
   "cell_type": "markdown",
   "metadata": {},
   "source": [
    "In the Person class, the hobbies list is encapsulated to prevent unintended modifications. What is the importance of encapsulation and how does it improve the design of the class?\n",
    "\n",
    "It makes sure that the list cannot be damaged and it forces the program to make a copy of the list so that the original list is not changed, but can still be referenced for duplication to make other instances of objects. "
   ]
  },
  {
   "attachments": {},
   "cell_type": "markdown",
   "metadata": {},
   "source": [
    "# 5.3 Documentation with Comments"
   ]
  },
  {
   "attachments": {},
   "cell_type": "markdown",
   "metadata": {},
   "source": [
    "## KEY LEARNING OBJECTIVE"
   ]
  },
  {
   "attachments": {},
   "cell_type": "markdown",
   "metadata": {},
   "source": [
    "Describe the functionality and use of program code through comments."
   ]
  },
  {
   "attachments": {},
   "cell_type": "markdown",
   "metadata": {},
   "source": [
    "**Precondition**: This is a condition that has to be met prior to an execution of a certain part of the code for the method to work.\n",
    "\n",
    "**Postcondition**: This is a condition that has to be met after the execution of a certain part of the code. "
   ]
  },
  {
   "cell_type": "code",
   "execution_count": 2,
   "metadata": {},
   "outputs": [
    {
     "name": "stdout",
     "output_type": "stream",
     "text": [
      "Constructor called with value: 42\n",
      "Value: 42\n"
     ]
    }
   ],
   "source": [
    "public class Comments {\n",
    "    private int value; // Initialize a value\n",
    "\n",
    "    public Comments(int value) {\n",
    "        this.value = value; // Set a constructure for a value\n",
    "        System.out.println(\"Constructor called with value: \" + value); // State a value\n",
    "    }\n",
    "\n",
    "    public int getValue() {\n",
    "        return value; // Just get the value\n",
    "    }\n",
    "\n",
    "    public static void main(String[] args) {\n",
    "        Comments myObject = new Comments(42);  // New object\n",
    "        int result = myObject.getValue();    // Get the value of the object and save it to the result\n",
    "        System.out.println(\"Value: \" + result); // Output the value\n",
    "    }\n",
    "}\n",
    "\n",
    "Comments.main(null); // run the main function\n"
   ]
  },
  {
   "attachments": {},
   "cell_type": "markdown",
   "metadata": {},
   "source": [
    "**ADD DESCRIPTIVE COMMENTS TO THE ABOVE CODE. Provide descriptions of functionality, identify methods used, and initialized variables if any.**"
   ]
  },
  {
   "attachments": {},
   "cell_type": "markdown",
   "metadata": {},
   "source": [
    "# Hacks"
   ]
  },
  {
   "attachments": {},
   "cell_type": "markdown",
   "metadata": {},
   "source": [
    "**POPCORN HACKS: 0.2**"
   ]
  },
  {
   "attachments": {},
   "cell_type": "markdown",
   "metadata": {},
   "source": [
    "**Create a simple To-Do List that utilizes the following (0.8):**\n",
    "\n",
    "1. Private and Public Declaration\n",
    "\n",
    "2. Constructor\n",
    "\n",
    "3. Mutable Array containing To-Do List Items\n",
    "\n",
    "Make sure to add descriptive comments that are describing your code!"
   ]
  },
  {
   "cell_type": "code",
   "execution_count": 27,
   "metadata": {},
   "outputs": [
    {
     "name": "stdout",
     "output_type": "stream",
     "text": [
      "TASKS:\n",
      "- Hhiiii\n",
      "- bie\n",
      "- Eat food\n"
     ]
    }
   ],
   "source": [
    "import java.util.ArrayList;\n",
    "\n",
    "public class TodoList {\n",
    "    private ArrayList<String> items;\n",
    "\n",
    "    // Constructor to initialize a TodoList with an item\n",
    "    public TodoList(String item) {\n",
    "       this.items = new ArrayList<String>();\n",
    "       this.items.add(item);\n",
    "    }\n",
    "\n",
    "    public void displayInfo() {\n",
    "        for(String task : items) { // for all the tasks in the list of items, print it with a dash cuz that a list\n",
    "            System.out.println(\"- \" + task);\n",
    "        }\n",
    "    }\n",
    "}\n",
    "\n",
    "public class ToDoListDemo {\n",
    "    public static void main(String[] args) {\n",
    "        // Create two TodoList objects using the constructor\n",
    "\n",
    "        TodoList task1 = new TodoList(\"Hhiiii\"); // first task\n",
    "        TodoList task2 = new TodoList(\"bie\"); // second task\n",
    "        TodoList task3 = new TodoList(\"Eat food\"); // third task\n",
    "\n",
    "        // Display information about the created tasks\n",
    "        System.out.println(\"TASKS:\");\n",
    "        task1.displayInfo(); // display tasks\n",
    "        task2.displayInfo(); // display tasks\n",
    "        task3.displayInfo(); // display tasks\n",
    "    }\n",
    "}\n",
    "\n",
    "ToDoListDemo.main(null);"
   ]
  }
 ],
 "metadata": {
  "kernelspec": {
   "display_name": "Java",
   "language": "java",
   "name": "java"
  },
  "language_info": {
   "codemirror_mode": "java",
   "file_extension": ".jshell",
   "mimetype": "text/x-java-source",
   "name": "java",
   "pygments_lexer": "java",
   "version": "20.0.2+9-78"
  },
  "orig_nbformat": 4
 },
 "nbformat": 4,
 "nbformat_minor": 2
}
