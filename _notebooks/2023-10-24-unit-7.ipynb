{
 "cells": [
  {
   "cell_type": "markdown",
   "metadata": {},
   "source": [
    "---\n",
    "toc: true\n",
    "comments: false\n",
    "layout: post\n",
    "title: Unit 7 ArrayLists\n",
    "description: ArrayList Lesson\n",
    "type: tangibles\n",
    "courses: { csa: {week: 9}, labnotebook: {week: 10} }\n",
    "permalink: /unit-7\n",
    "---"
   ]
  },
  {
   "cell_type": "markdown",
   "metadata": {},
   "source": [
    "# Unit 7: ArrayList\n",
    "> Mastering the concept of Java's ArrayList. AP Exam weighting: 2.5-7.5%."
   ]
  },
  {
   "cell_type": "markdown",
   "metadata": {},
   "source": [
    "# 7.1: ArrayList Intro"
   ]
  },
  {
   "cell_type": "markdown",
   "metadata": {},
   "source": [
    "- ArrayLists are dynamic, meaning their size can grow or shrink as needed, but arrays are static in size\n",
    "- Instead of creating a new array of a different size and copying the data from the initial array to the new one, we can use ArrayLists\n",
    "\n",
    "|Arrays|ArrayLists|\n",
    "|-------|---------|\n",
    "|Fixed Length|Resizable Length|\n",
    "|Fundamental Java feature|Part of a framework|\n",
    "|An object with no methods|Class with many methods|\n",
    "|Not as flexible|Designed to be very flexible|\n",
    "|Can store primitive data|Not designed to store primitives|\n",
    "||Slightly slower than arrays|\n",
    "||Need an import statement|"
   ]
  },
  {
   "cell_type": "markdown",
   "metadata": {},
   "source": [
    "In order to use the ArrayList class, the ArrayList class needs to be imported from the java util package. This can be done by writing import java.util.ArrayList at the top of the class file."
   ]
  },
  {
   "cell_type": "code",
   "execution_count": 1,
   "metadata": {},
   "outputs": [],
   "source": [
    "import java.util.ArrayList;  // Import the ArrayList class\n",
    "\n",
    "// Declare and initialize an ArrayList of integers\n",
    "ArrayList<Integer> numbersList = new ArrayList<>();"
   ]
  },
  {
   "cell_type": "markdown",
   "metadata": {},
   "source": [
    "ArrayList objects are created in the same fashion as other object classes. The primary difference with ArrayLists is that the element type of the ArrayList must be specified using angled bracket <>. In this example, E represents the data type that will be used in the ArrayList. This can be replaced by an object data type:"
   ]
  },
  {
   "cell_type": "code",
   "execution_count": null,
   "metadata": {},
   "outputs": [],
   "source": [
    "ArrayList<E> list = new ArrayList<E>();"
   ]
  },
  {
   "cell_type": "markdown",
   "metadata": {},
   "source": [
    "We can actually declare ArrayLists without specifying the type that will be included in the ArrayList, but specifying the data type is smarter because it allows the compiler to find errors before run time, so its more efficient and easy to spot errors."
   ]
  },
  {
   "cell_type": "code",
   "execution_count": null,
   "metadata": {},
   "outputs": [],
   "source": [
    "ArrayList list = new ArrayList();"
   ]
  },
  {
   "cell_type": "markdown",
   "metadata": {},
   "source": [
    "#### Quick lil popcorn hack\n",
    "\n",
    "Create 2 ArrayLists, 1 called `studentName` and 1 called `studentAge`"
   ]
  },
  {
   "cell_type": "code",
   "execution_count": 4,
   "metadata": {},
   "outputs": [],
   "source": [
    "import java.util.ArrayList;\n",
    "\n",
    "public class Student\n",
    "{\n",
    "    public static void main(String[] args)\n",
    "    {\n",
    "        ArrayList<String> studentName = new ArrayList<String>();\n",
    "        Arraylist<Integer> studentAge = new ArrayList<Integer>();\n",
    "        \n",
    "    }\n",
    "}"
   ]
  },
  {
   "cell_type": "markdown",
   "metadata": {},
   "source": [
    "# 7.2: ArrayList Methods"
   ]
  },
  {
   "cell_type": "markdown",
   "metadata": {},
   "source": [
    "### Learning Objectives\n",
    "\n",
    "Students will be able to represent collections of related object reference data using `ArrayList` objects.\n",
    "\n",
    "### Essential Knowledge\n",
    "\n",
    "- Iteration statements provide a means to access all the elements stored within an `ArrayList`. This process is referred to as \"traversing the `ArrayList`.\"\n",
    "\n",
    "- The following `ArrayList` methods, including what they do and when they are used, are part of the Java Quick Reference:\n",
    "\n",
    "    * `int size()` - Returns the count of elements within the list. - Returns INT\n",
    "    * `boolean add(E obj)` - Appends the object `obj` to the end of the list and returns `true`. - Returns BOOL\n",
    "    * `void add(int index, E obj)` - Inserts `obj` at the specified `index`, shifting elements at and above that position to the right (incrementing their indices by 1) and increasing the list's size by 1. - No Return (void)\n",
    "    * `E get(int index)` - Retrieves the element at the given `index` in the list. - Get the element (determined by type)\n",
    "    * `E set(int index, E obj)` - Replaces the element at the specified `index` with `obj` and returns the previous element at that index. - Setter\n",
    "    * `E remove(int index)` - Deletes the element at the specified `index`, shifting all subsequent elements one index to the left, reducing the list's size by one, and returning the removed element. - Removes no return\n",
    "\n",
    "- Java allows the generic `ArrayList<E>`, where the generic type `E` specifies the type of element.\n",
    "\n",
    "- When `ArrayList<E>` is specified, the types of the reference parameters and return type when using the methods are type `E`.\n",
    "\n",
    "- `ArrayList<E>` is preferred over `ArrayList` because it allows the compiler to find errors that would otherwise be found at runtime."
   ]
  },
  {
   "cell_type": "markdown",
   "metadata": {},
   "source": [
    "### Size of the `ArrayList`\n",
    "\n",
    "* `int size();` : Returns the number of elements in the list.\n",
    "\n",
    "Consider the following code:"
   ]
  },
  {
   "cell_type": "code",
   "execution_count": 8,
   "metadata": {},
   "outputs": [
    {
     "name": "stdout",
     "output_type": "stream",
     "text": [
      "1\n"
     ]
    }
   ],
   "source": [
    "ArrayList<Integer> a1 = new ArrayList<>();\n",
    "a1.add(10); // Testing\n",
    "System.out.println(a1.size());"
   ]
  },
  {
   "cell_type": "markdown",
   "metadata": {},
   "source": [
    "### Adding Items to an `ArrayList`\n",
    "\n",
    "* `boolean add(E obj);` : Appends `obj` to the end of the list and returns true.\n",
    "* `void add(int index, E obj)` : Inserts `obj` at position `index`, as long as `index` is within the list's length. It moves each element in the list 1 index higher and adds 1 to the list's size.\n",
    "\n",
    "Consider the following code:"
   ]
  },
  {
   "cell_type": "code",
   "execution_count": null,
   "metadata": {},
   "outputs": [
    {
     "name": "stdout",
     "output_type": "stream",
     "text": [
      "[1.0, 4.0, 2.0, 3.0]\n"
     ]
    }
   ],
   "source": [
    "ArrayList<Double> a2 = new ArrayList<>();\n",
    "a2.add(1.0);\n",
    "a2.add(2.0);\n",
    "a2.add(3.0);\n",
    "a2.add(1, 4.0);\n",
    "System.out.println(a2);"
   ]
  },
  {
   "cell_type": "markdown",
   "metadata": {},
   "source": [
    "### Let's Look at an Example\n",
    "\n",
    "Consider the following code:"
   ]
  },
  {
   "cell_type": "code",
   "execution_count": 10,
   "metadata": {},
   "outputs": [
    {
     "ename": "CompilationException",
     "evalue": "",
     "output_type": "error",
     "traceback": [
      "\u001b[1m\u001b[30m|   \u001b[1m\u001b[30mh.add(\u001b[0m\u001b[1m\u001b[30m\u001b[41m26.2\u001b[0m\u001b[1m\u001b[30m);\u001b[0m",
      "\u001b[1m\u001b[31mincompatible types: double cannot be converted to java.lang.String\u001b[0m",
      ""
     ]
    }
   ],
   "source": [
    "ArrayList<String> h = new ArrayList<>();\n",
    "\n",
    "h.add(\"Hello\");\n",
    "h.add(\"Hello\");\n",
    "h.add(\"HeLLO\");\n",
    "h.add(\"Hello\");\n",
    "h.add(1, \"Hola\");\n",
    "\n",
    "h.add(26.2);\n",
    "h.add(new String(\"Hello\"));\n",
    "h.add(false);"
   ]
  },
  {
   "cell_type": "markdown",
   "metadata": {},
   "source": [
    "Now, consider this code:"
   ]
  },
  {
   "cell_type": "code",
   "execution_count": 11,
   "metadata": {},
   "outputs": [
    {
     "name": "stdout",
     "output_type": "stream",
     "text": [
      "[Hello, Hola, Hello, HeLLO, Hello, Hello]\n"
     ]
    }
   ],
   "source": [
    "ArrayList<String> g = new ArrayList<>();\n",
    "\n",
    "g.add(\"Hello\");\n",
    "g.add(\"Hello\");\n",
    "g.add(\"HeLLO\");\n",
    "g.add(\"Hello\");\n",
    "g.add(1, \"Hola\");\n",
    "\n",
    "g.add(new String(\"Hello\"));\n",
    "\n",
    "System.out.println(g);"
   ]
  },
  {
   "cell_type": "markdown",
   "metadata": {},
   "source": [
    "**Question:** Why does this code work?\n",
    "\n",
    "You cannot add other data types to an arraylist that has the object type of a string. You cannot add a double (9 - where it starts to fail) to an arraylist of a string. "
   ]
  },
  {
   "cell_type": "markdown",
   "metadata": {},
   "source": [
    "### Deleting Items from an `ArrayList`\n",
    "\n",
    "`E remove(int index)` : Removes the element at position `index`, and moves the elements at position `index + 1` and higher to the left. It also subtracts one from the list's size. The return value is the element formerly at position `index`."
   ]
  },
  {
   "cell_type": "code",
   "execution_count": 12,
   "metadata": {},
   "outputs": [
    {
     "name": "stdout",
     "output_type": "stream",
     "text": [
      "Hello\n"
     ]
    }
   ],
   "source": [
    "// If you are confused of what list g is, look back at the previous code.\n",
    "g.remove(3);\n",
    "String former = g.remove(0);\n",
    "System.out.println(former);"
   ]
  },
  {
   "cell_type": "markdown",
   "metadata": {},
   "source": [
    "### Updating Items in an `ArrayList`\n",
    "\n",
    "`E set(int index, E obj)` : Replaces the element at position `index` with `obj` and returns the element formerly at position `index`."
   ]
  },
  {
   "cell_type": "code",
   "execution_count": 13,
   "metadata": {},
   "outputs": [
    {
     "name": "stdout",
     "output_type": "stream",
     "text": [
      "Hello\n",
      "[Hola, Bonjour, Hello, Hello]\n"
     ]
    }
   ],
   "source": [
    "String helloFormer = g.set(1, \"Bonjour\");\n",
    "System.out.println(helloFormer);\n",
    "System.out.println(g);"
   ]
  },
  {
   "cell_type": "markdown",
   "metadata": {},
   "source": [
    "### Accessing Items in an `ArrayList`\n",
    "\n",
    "`E get(int index)` Returns the element at position `index` in the list."
   ]
  },
  {
   "cell_type": "code",
   "execution_count": null,
   "metadata": {},
   "outputs": [
    {
     "name": "stdout",
     "output_type": "stream",
     "text": [
      "Hello\n",
      "[Hola, Bonjour, Hello, Hello]\n"
     ]
    }
   ],
   "source": [
    "String hello = g.get(3);\n",
    "System.out.println(hello);\n",
    "System.out.println(g);"
   ]
  },
  {
   "cell_type": "markdown",
   "metadata": {},
   "source": [
    "### Passing an `ArrayList` as a Method Parameter"
   ]
  },
  {
   "cell_type": "markdown",
   "metadata": {},
   "source": [
    "The only time that it is wise to use `ArrayList` instead of `ArrayList<E>` is when it is as a function parameter and it is only using `ArrayList<>.get(E)` or `ArrayList<>.size()`. Consider the following code:"
   ]
  },
  {
   "cell_type": "code",
   "execution_count": null,
   "metadata": {},
   "outputs": [
    {
     "name": "stdout",
     "output_type": "stream",
     "text": [
      "Array is empty\n"
     ]
    }
   ],
   "source": [
    "private void accessOnly(ArrayList arr) {\n",
    "    if (arr.size() > 0) { // if there are items in the list...\n",
    "        System.out.println(arr.get(0)); // Change the index to the one you want to access\n",
    "    } else { //  if there are no items in the list...\n",
    "        System.out.println(\"Array is empty\");\n",
    "    }\n",
    "}\n",
    "\n",
    "ArrayList<Integer> myList = new ArrayList<Integer>();\n",
    "accessOnly(myList);"
   ]
  },
  {
   "cell_type": "markdown",
   "metadata": {},
   "source": [
    "### Returning an `ArrayList` from a Method\n",
    "\n",
    "In order for you to return an `ArrayList`, the data type must be specified, and the return type must be the same as the return value. Consider the following code:"
   ]
  },
  {
   "cell_type": "code",
   "execution_count": 14,
   "metadata": {},
   "outputs": [
    {
     "name": "stdout",
     "output_type": "stream",
     "text": [
      "[Hello]\n"
     ]
    }
   ],
   "source": [
    "private ArrayList<String> returnTheSame() {\n",
    "    ArrayList<String> arr = new ArrayList<String>(); // Initialize the ArrayList\n",
    "    arr.add(\"Hello\");\n",
    "    return arr;\n",
    "}\n",
    "\n",
    "ArrayList<String> result = returnTheSame();\n",
    "System.out.println(result);\n"
   ]
  },
  {
   "cell_type": "markdown",
   "metadata": {},
   "source": [
    "### Hacks\n",
    "\n",
    "- The learning objective is that \"Students will be able to represent collections of related object reference data using `ArrayList` objects.\" What does this mean to you?\n",
    "\n",
    "- Answer the following questions:\n",
    "\n",
    "    * Look back at *Size of the `ArrayList`*. What does the code output and why?\n",
    "        1, there is one item in the arraylist.\n",
    "    * Look back at *Adding items to an `ArrayList`*. What does the code output and why? \n",
    "        It outputs the list... the list is being printed.\n",
    "    * What type of function is `void`, and what will be the return value?\n",
    "        Void is a function that has no return value, if you try to access it it will not return a value.\n",
    "    * Look back at Example 1. What two lines did we remove? Why?\n",
    "        We removed the lines with the wrong types because an arraylist can only take one type of object.\n",
    "    * If an `ArrayList` is being used as a parameter, what are the only two methods I can use from it? What would happen if I tried to use any other methods?\n",
    "        You would change the content or structure of the ArrayList being passed.\n",
    "\n",
    "- Using the Hack Helper, write code that will:\n",
    "\n",
    "    * Add 2 items to the list.\n",
    "    * Remove an item from the list anywhere of the user's choice.\n",
    "    * Replace am item anywhere in the list of the user's choice.\n",
    "    * Get the first and last element of the list, no matter the length.\n",
    "    * Return the items added, removed, replaced, and the list's size, in one string."
   ]
  },
  {
   "cell_type": "markdown",
   "metadata": {},
   "source": [
    "### Hack Helper"
   ]
  },
  {
   "cell_type": "code",
   "execution_count": 3,
   "metadata": {},
   "outputs": [],
   "source": [
    "import java.util.ArrayList;\n",
    "\n",
    "public class ArrayListMethodsExample {\n",
    "    private ArrayList<Integer> nums;\n",
    "\n",
    "    public ArrayListMethodsExample() {\n",
    "        this.nums = new ArrayList<>();\n",
    "    }\n",
    "\n",
    "    private String manipulateList(int item1, int item2, int removeIndex, int replaceIndex, int replaceValue) {\n",
    "        // 1. Add 2 items to the list.\n",
    "        nums.add(item1);\n",
    "        nums.add(item2);\n",
    "\n",
    "        // 2. Remove an item from the list anywhere of the user's choice.\n",
    "        int removedItem = nums.remove(removeIndex);\n",
    "\n",
    "        // 3. Replace an item anywhere in the list of the user's choice.\n",
    "        int replacedItem = nums.set(replaceIndex, replaceValue);\n",
    "\n",
    "        // 4. Get the first and last element of the list, no matter the length.\n",
    "        int firstItem = nums.get(0);\n",
    "        int lastItem = nums.get(nums.size() - 1);\n",
    "\n",
    "        // 5. Return the items added, removed, replaced, and the list's size, in one string.\n",
    "        return \"Added: \" + item1 + \", \" + item2 + \"\\n\" +\n",
    "               \"Removed: \" + removedItem + \"\\n\" +\n",
    "               \"Replaced: \" + replacedItem + \" with \" + replaceValue + \"\\n\" +\n",
    "               \"First Item: \" + firstItem + \"\\n\" +\n",
    "               \"Last Item: \" + lastItem + \"\\n\" +\n",
    "               \"List Size: \" + nums.size();\n",
    "    }\n",
    "\n",
    "    public static void main(String[] args) {\n",
    "        ArrayListMethodsExample example = new ArrayListMethodsExample();\n",
    "        \n",
    "        // Sample inputs for the method\n",
    "        String output = example.manipulateList(5, 10, 0, 1, 20);\n",
    "        System.out.println(output);\n",
    "    }\n",
    "}"
   ]
  },
  {
   "cell_type": "markdown",
   "metadata": {},
   "source": [
    "# 7.3: Traversing Arraylists"
   ]
  },
  {
   "cell_type": "markdown",
   "metadata": {},
   "source": [
    "### Learning Objectives:\n",
    "- With an Arraylist you can traverse objects using a for or while loop.\n",
    "\n",
    "- Traversing objects is similar to iterating through objects.\n",
    "\n",
    "### Essential Knowledge:\n",
    "- Iteration statements can be used to accsess all the elements in an Arraylist. This is called traversing the Arraylist.\n",
    "\n",
    "- Deleting elements during a traversal of an Arraylist requires special techniques to avoid skiping elements. This is called traversing the Arraylist.\n",
    "\n",
    "- The indicies of an Arraylist start at 0; If you try to use any value lower than 0, you will get an *ArrayIndexOutOfBoundsException* error"
   ]
  },
  {
   "cell_type": "code",
   "execution_count": 15,
   "metadata": {},
   "outputs": [],
   "source": [
    "import java.util.ArrayList;\n",
    "import java.util.List;\n",
    "\n",
    "public class Main {\n",
    "    public static void main(String[] args) {\n",
    "        ArrayList<String> roster = new ArrayList<>();\n",
    "        roster.add(\"Hello\");\n",
    "        roster.add(\"World\");\n",
    "        roster.add(\"Java\");\n",
    "        \n",
    "        int sum = 0;\n",
    "        for (int i = 0; i < roster.size(); i++) {\n",
    "            String element = roster.get(i);\n",
    "            if (element != null) {\n",
    "                sum += element.length();\n",
    "            }\n",
    "        }\n",
    "        System.out.println(sum);\n",
    "    }\n",
    "}\n",
    "\n"
   ]
  },
  {
   "cell_type": "markdown",
   "metadata": {},
   "source": [
    "#### Breakdown:\n",
    "- We are first declaring a new arraylist and adding a few elements.\n",
    "\n",
    "- Next, we set the \"sum\" variable as 0.\n",
    "\n",
    "- We set a for loop to traverse through the arraylist, iterating through all the indices in the arraylist and adding up the lengths of all the values.\n",
    "\n",
    "- Lastly, we print it out.\n",
    "\n",
    "#### Loop Conditions:\n",
    "\n",
    "- There are a few diffrent loop conditions you can use to traverse an Arraylist:\n",
    "\n",
    ">First, there are three major parts of a for loop:\n",
    ">Initialization, in which you declare the index, can be modified to change where you want to traverse from.\n",
    "\n",
    ">Boolean condition, in which you declare the stop condition, can be modified in order to change the index you want to stop traversing in.\n",
    "\n",
    ">Update, in which you declare how many indexes to go through, can be modified to skip certain indicies and traverse in a certain direction."
   ]
  },
  {
   "cell_type": "markdown",
   "metadata": {},
   "source": [
    "#### Practice:\n",
    "Suppose we have an arraylist named grades, and we want to remove the entries that are lower than 70.\n",
    "replace the question marks with code to solve the problem:"
   ]
  },
  {
   "cell_type": "code",
   "execution_count": 26,
   "metadata": {},
   "outputs": [
    {
     "name": "stdout",
     "output_type": "stream",
     "text": [
      "[71.0, 100.0, 80.0]\n"
     ]
    }
   ],
   "source": [
    "import java.util.ArrayList;\n",
    "import java.util.List;\n",
    "\n",
    "public class Main {\n",
    "    public static void main(String[] args) {\n",
    "        ArrayList<Double> grades = new ArrayList<>(); // Fix the arraylist\n",
    "        grades.add(68.9);\n",
    "        grades.add((double)71); // Casting\n",
    "        grades.add((double)100);\n",
    "        grades.add((double)80);\n",
    "        for(int i = 0; i < grades.size(); i++ ){\n",
    "            if(grades.get(i)<70){\n",
    "                grades.remove(i);\n",
    "            }\n",
    "        }\n",
    "        System.out.println(grades);\n",
    "    }\n",
    "}\n",
    "Main.main(null)"
   ]
  },
  {
   "cell_type": "markdown",
   "metadata": {},
   "source": [
    "#### Using Enhanced For-Loop With Traversing:\n",
    "\n",
    "- Using Enhanced for loop is easier to read and write and is also more concise and avoids errors.\n",
    "\n",
    "- Indexes are not explicitly used and copies of the current element are made at each iteration."
   ]
  },
  {
   "cell_type": "code",
   "execution_count": 27,
   "metadata": {},
   "outputs": [],
   "source": [
    "import java.util.ArrayList;\n",
    "import java.util.List;\n",
    "\n",
    "public class Main {\n",
    "    public static void main(String[] args) {\n",
    "        List<String> roster = new ArrayList<>();\n",
    "        roster.add(\"Hello\");\n",
    "        roster.add(\"World\");\n",
    "        roster.add(\"Java\");\n",
    "\n",
    "        // Using an enhanced for loop to iterate through the ArrayList\n",
    "        for (String element : roster) {\n",
    "            System.out.println(element);\n",
    "        }\n",
    "    }\n",
    "}"
   ]
  },
  {
   "cell_type": "markdown",
   "metadata": {},
   "source": [
    "#### Common mistakes:\n",
    "- Using the Wrong Data Type: Ensure that you declare your ArrayList with the correct data type. Using the wrong data type can lead to type mismatches and errors.\n",
    "\n",
    "- Incorrect Indexing: Be cautious when using a standard for loop. Off-by-one errors or accessing elements that don't exist can lead to runtime exceptions.\n",
    "\n",
    "- Modifying the List During Iteration: Modifying an ArrayList (adding or removing elements) while iterating over it can lead to a ConcurrentModificationException. To avoid this, use an Iterator or create a copy of the list if modifications are needed.\n",
    "\n",
    "- Not Checking for Null Elements: When using enhanced for loops or iterators, check for null elements if there's a possibility that your list contains them to avoid NullPointerExceptions.\n",
    "\n",
    "- Inefficient Searching: If you need to find a specific element, avoid using a linear search within a loop. Use appropriate methods like contains() or indexOf() to find elements efficiently."
   ]
  },
  {
   "cell_type": "markdown",
   "metadata": {},
   "source": [
    "## Hacks:\n",
    "- Create a scenario which requires the use of arraylist traversal and create code to solve it. \n",
    "- Extra points to creative scenarios\n",
    "- 90% credit to any working code and scenario\n",
    "- 80% credit to incomplete code if you provide explanation of it\n",
    "- -10% deduction for late submition\n",
    "\n",
    "\n",
    "Background:\n",
    "You are hosting a party and have decided to use an ArrayList to manage your guest list. As the date of the party approaches, you realize that some of your friends have common names, and you might have added them multiple times. You also remember that one of your friends recently moved away, so you need to remove them from the list. On the day of the party, you want to print out the list of guests in alphabetical order to check them in as they arrive."
   ]
  },
  {
   "cell_type": "code",
   "execution_count": 6,
   "metadata": {},
   "outputs": [
    {
     "name": "stdout",
     "output_type": "stream",
     "text": [
      "Final Guest List:\n",
      "Alice\n",
      "Bob\n",
      "Eve\n"
     ]
    }
   ],
   "source": [
    "import java.util.ArrayList;\n",
    "import java.util.Collections;\n",
    "\n",
    "public class PartyInvitationList {\n",
    "\n",
    "    private ArrayList<String> guestList;\n",
    "\n",
    "    public PartyInvitationList() {\n",
    "        guestList = new ArrayList<>();\n",
    "    }\n",
    "\n",
    "    // Add a guest to the list\n",
    "    public void addGuest(String name) {\n",
    "        guestList.add(name);\n",
    "    }\n",
    "\n",
    "    // Remove duplicates from the list\n",
    "    public void removeDuplicates() {\n",
    "        ArrayList<String> uniqueGuestList = new ArrayList<>();\n",
    "        for (String guest : guestList) {\n",
    "            if (!uniqueGuestList.contains(guest)) {\n",
    "                uniqueGuestList.add(guest);\n",
    "            }\n",
    "        }\n",
    "        guestList = uniqueGuestList;\n",
    "    }\n",
    "\n",
    "    // Remove a specific guest\n",
    "    public void removeGuest(String name) {\n",
    "        guestList.remove(name);\n",
    "    }\n",
    "\n",
    "    // Print the guest list in alphabetical order\n",
    "    public void printGuestList() {\n",
    "        Collections.sort(guestList);\n",
    "        for (String guest : guestList) {\n",
    "            System.out.println(guest);\n",
    "        }\n",
    "    }\n",
    "\n",
    "    public static void main(String[] args) {\n",
    "        PartyInvitationList party = new PartyInvitationList();\n",
    "        party.addGuest(\"Alice\");\n",
    "        party.addGuest(\"Bob\");\n",
    "        party.addGuest(\"Charlie\");\n",
    "        party.addGuest(\"Alice\");  // Oops, added Alice twice!\n",
    "        party.addGuest(\"Eve\");\n",
    "\n",
    "        party.removeDuplicates();  // Remove any duplicates\n",
    "        party.removeGuest(\"Charlie\");  // Charlie moved away\n",
    "\n",
    "        System.out.println(\"Final Guest List:\");\n",
    "        party.printGuestList();  // Print the guest list in alphabetical order\n",
    "    }\n",
    "}\n",
    "PartyInvitationList.main(null);\n"
   ]
  },
  {
   "cell_type": "markdown",
   "metadata": {},
   "source": [
    "# 7.4: Developing Algorithms Using ArrayLists"
   ]
  },
  {
   "cell_type": "markdown",
   "metadata": {},
   "source": [
    "### Learning Objectives\n",
    "\n",
    "In the context of `ArrayList` objects, this module aims to teach the following skills:\n",
    "\n",
    "a. Iterating through `ArrayLists` using `for` or `while` loops.\n",
    "\n",
    "b. Iterating through `ArrayLists` using enhanced `for` loops.\n",
    "\n",
    "In the realm of algorithms, within the context of specific requirements that demand the utilization of `ArrayList` traversals, students will be able to:\n",
    "\n",
    "- Recognize established algorithms.\n",
    "- Customize existing algorithms.\n",
    "- Create new algorithms.\n",
    "\n",
    "### Essential Knowledge\n",
    "\n",
    "- Iteration statements provide a means to access all the elements stored within an `ArrayList`. This process is referred to as \"traversing the `ArrayList`.\"\n",
    "\n",
    "- The following methods related to `ArrayLists`, their functions, and appropriate use are covered in the Java Quick Reference:\n",
    "\n",
    "    * `int size()` - Returns the count of elements within the list.\n",
    "    * `boolean add(E obj)` - Appends the object `obj` to the end of the list and returns `true`.\n",
    "    * `void add(int index, E obj)` - Inserts `obj` at the specified `index`, shifting elements at and above that position to the right (incrementing their indices by 1) and increasing the list's size by 1.\n",
    "    * `E get(int index)` - Retrieves the element at the given `index` in the list.\n",
    "    * `E set(int index, E obj)` - Replaces the element at the specified `index` with `obj` and returns the previous element at that index.\n",
    "    * `E remove(int index)` - Deletes the element at the specified `index`, shifting all subsequent elements one index to the left, reducing the list's size by one, and returning the removed element.\n",
    "\n",
    "- There exist established algorithms for `ArrayLists` that make use of traversals to:\n",
    "\n",
    "    * Insert elements.\n",
    "    * Remove elements.\n",
    "    * Apply the same algorithms commonly used with 1D arrays."
   ]
  },
  {
   "cell_type": "markdown",
   "metadata": {},
   "source": [
    "## Popcorn Hacks:\n",
    "\n",
    "Before you uncomment the code and run it, guess what the code will do based on what you've learned.\n",
    "\n",
    "This code will find the maximum value in the array 'nums' and prints it out."
   ]
  },
  {
   "cell_type": "markdown",
   "metadata": {},
   "source": [
    "### Let's Look at an Example (Example 1)"
   ]
  },
  {
   "cell_type": "code",
   "execution_count": 28,
   "metadata": {},
   "outputs": [
    {
     "name": "stdout",
     "output_type": "stream",
     "text": [
      "Maximum value: 69.0\n"
     ]
    }
   ],
   "source": [
    "public class ArrayListExample {\n",
    "    private double findMax(double[] values) {\n",
    "        double max = values[0];\n",
    "    \n",
    "        for (int index = 1; index < values.length; index++) {\n",
    "            if (values[index] > max) {\n",
    "                max = values[index];\n",
    "            }\n",
    "        }\n",
    "    \n",
    "        return max;\n",
    "    }\n",
    "    \n",
    "    public static void main(String[] args) {\n",
    "        double[] nums = {1.0, 3.0, 2.0, 2.0, 1.0, 69.0, 2.0, 4.0, 6.0, 2.0, 5.0, 10.0};\n",
    "        ArrayListExample example = new ArrayListExample();\n",
    "        double max = example.findMax(nums);\n",
    "        System.out.println(\"Maximum value: \" + max);\n",
    "    }\n",
    "}\n",
    "\n",
    "ArrayListExample.main(null);"
   ]
  },
  {
   "cell_type": "markdown",
   "metadata": {},
   "source": [
    "Take a closer look at the `findMax()` method. It takes in a list of doubles as parameters. It will then use a `for` loop to find the maximum value in the list. Now, using what we know, can we replace the list of doubles with an ArrayList of Doubles? We sure can! Take a look at how we can use ArrayList to do just that:"
   ]
  },
  {
   "cell_type": "code",
   "execution_count": 29,
   "metadata": {},
   "outputs": [
    {
     "name": "stdout",
     "output_type": "stream",
     "text": [
      "Maximum value: 69.0\n"
     ]
    }
   ],
   "source": [
    "public class ArrayListExample {\n",
    "    private double findMax(ArrayList<Double> values) {\n",
    "        double max = values.get(0);\n",
    "    \n",
    "        for (int index = 1; index < values.size(); index++) {\n",
    "            if (values.get(index) > max) {\n",
    "                max = values.get(index);\n",
    "            }\n",
    "        }\n",
    "    \n",
    "        return max;\n",
    "    }\n",
    "    \n",
    "    public static void main(String[] args) {\n",
    "        ArrayList<Double> nums = new ArrayList<>();\n",
    "        nums.add(1.0);\n",
    "        nums.add(3.0);\n",
    "        nums.add(2.0);\n",
    "        nums.add(2.0);\n",
    "        nums.add(1.0);\n",
    "        nums.add(69.0);\n",
    "        nums.add(2.0);\n",
    "        nums.add(4.0);\n",
    "        nums.add(6.0);\n",
    "        nums.add(2.0);\n",
    "        nums.add(5.0);\n",
    "        nums.add(10.0);\n",
    "        \n",
    "        ArrayListExample example = new ArrayListExample();\n",
    "        double max = example.findMax(nums);\n",
    "        System.out.println(\"Maximum value: \" + max);\n",
    "    }\n",
    "}\n",
    "\n",
    "ArrayListExample.main(null);"
   ]
  },
  {
   "cell_type": "markdown",
   "metadata": {},
   "source": [
    "### Let's Look at an Example (Example 2)\n",
    "\n",
    "Take a look at this code: This simply finds the minimum value in the array."
   ]
  },
  {
   "cell_type": "code",
   "execution_count": 30,
   "metadata": {},
   "outputs": [
    {
     "name": "stdout",
     "output_type": "stream",
     "text": [
      "Minimum value: 420\n"
     ]
    }
   ],
   "source": [
    "public class ArrayListExample {\n",
    "    private int findMin(int[] values) {\n",
    "        int min = Integer.MAX_VALUE;\n",
    "        for (int currentValue : values) {\n",
    "            if (currentValue < min) {\n",
    "                min = currentValue;\n",
    "            }\n",
    "        }\n",
    "        return min;\n",
    "    }\n",
    "\n",
    "    public static void main(String[] args) {\n",
    "        int[] nums = {420, 703, 2034, 582, 1047, 4545};\n",
    "        ArrayListExample example = new ArrayListExample();\n",
    "        int min = example.findMin(nums);\n",
    "        System.out.println(\"Minimum value: \" + min);\n",
    "    }\n",
    "}\n",
    "\n",
    "ArrayListExample.main(null);"
   ]
  },
  {
   "cell_type": "markdown",
   "metadata": {},
   "source": [
    "Now, can we use ArrayLists to make this code better? We sure can! Take a look at the new and improved code that uses ArrayLists:"
   ]
  },
  {
   "cell_type": "code",
   "execution_count": 31,
   "metadata": {},
   "outputs": [
    {
     "name": "stdout",
     "output_type": "stream",
     "text": [
      "Minimum value: 420\n"
     ]
    }
   ],
   "source": [
    "public class ArrayListExample {\n",
    "    private int findMin(ArrayList<Integer> values) {\n",
    "        int min = Integer.MAX_VALUE;\n",
    "        for (int currentValue : values) {\n",
    "            if (currentValue < min) {\n",
    "                min = currentValue;\n",
    "            }\n",
    "        }\n",
    "        return min;\n",
    "    }\n",
    "\n",
    "    public static void main(String[] args) {\n",
    "        ArrayList<Integer> nums = new ArrayList<>();\n",
    "        nums.add(420);\n",
    "        nums.add(703);\n",
    "        nums.add(2034);\n",
    "        nums.add(582);\n",
    "        nums.add(1047);\n",
    "        nums.add(4545);\n",
    "        ArrayListExample example = new ArrayListExample();\n",
    "        int min = example.findMin(nums);\n",
    "        System.out.println(\"Minimum value: \" + min);\n",
    "    }\n",
    "}\n",
    "\n",
    "ArrayListExample.main(null);"
   ]
  },
  {
   "cell_type": "markdown",
   "metadata": {},
   "source": [
    "### Hacks\n",
    "\n",
    "- Answer the questions: \n",
    "    * Look back at the examples. What's similar? What's different?\n",
    "    * Why do we use `ArrayList`? Why not just regular lists?\n",
    "- Demonstrate at least two `ArrayList` methods that aren't `ArrayList<>.size()` and `ArrayList<>.get()`.\n",
    "- Write the method `findSum()` using the Hack Helper and incorporating `ArrayList`."
   ]
  },
  {
   "cell_type": "markdown",
   "metadata": {},
   "source": [
    "# Answers:\n",
    "\n",
    "## 1. Look back at the examples. What's similar? What's different?\n",
    "\n",
    "### Similarities:\n",
    "- Both examples have a class named `ArrayListExample`.\n",
    "- Both have a method named `findMin` that finds the minimum value from a collection.\n",
    "- Both have a `main` method that initializes a collection, adds values to it, and then finds and prints the minimum value.\n",
    "\n",
    "### Differences:\n",
    "- The first example uses a regular array (`int[]`), while the second uses an `ArrayList<Integer>`.\n",
    "- The first example initializes the array with values directly, while the second initializes an empty `ArrayList` and then adds values using the `add` method.\n",
    "\n",
    "## 2. Why do we use `ArrayList`? Why not just regular lists?\n",
    "\n",
    "- `ArrayList` is a part of the Java Collections Framework and offers dynamic resizing. This means that unlike regular arrays, which have a fixed size once initialized, `ArrayList` can grow or shrink as needed.\n",
    "- `ArrayList` provides many built-in methods that make it easier to manipulate, search, and sort data.\n",
    "- Regular arrays are simpler and can be more efficient for fixed-size collections, but they lack the flexibility and utility methods of `ArrayList`.\n",
    "\n",
    "## 3. Demonstrate at least two `ArrayList` methods that aren't `ArrayList<>.size()` and `ArrayList<>.get()`.\n"
   ]
  },
  {
   "cell_type": "code",
   "execution_count": 7,
   "metadata": {},
   "outputs": [
    {
     "data": {
      "text/plain": [
       "420"
      ]
     },
     "execution_count": 7,
     "metadata": {},
     "output_type": "execute_result"
    }
   ],
   "source": [
    "ArrayList<Integer> nums = new ArrayList<>();\n",
    "nums.add(420);  // Adds the integer 420 to the list\n",
    "nums.remove(0);  // Removes the element at index 0"
   ]
  },
  {
   "cell_type": "markdown",
   "metadata": {},
   "source": [
    "## 4. Write the method findSum() using the Hack Helper and incorporating ArrayList.\n"
   ]
  },
  {
   "cell_type": "markdown",
   "metadata": {},
   "source": [
    "### Hack Helper"
   ]
  },
  {
   "cell_type": "code",
   "execution_count": 9,
   "metadata": {},
   "outputs": [
    {
     "name": "stdout",
     "output_type": "stream",
     "text": [
      "Sum of values: 9331\n"
     ]
    }
   ],
   "source": [
    "public class ArrayListExample {\n",
    "    private int findSum(ArrayList<Integer> values) {\n",
    "        int sum = 0;\n",
    "        for (int currentValue : values) {\n",
    "            sum += currentValue;\n",
    "        }\n",
    "        return sum;\n",
    "    }\n",
    "\n",
    "    public static void main(String[] args) {\n",
    "        ArrayList<Integer> nums = new ArrayList<>();\n",
    "        nums.add(420);\n",
    "        nums.add(703);\n",
    "        nums.add(2034);\n",
    "        nums.add(582);\n",
    "        nums.add(1047);\n",
    "        nums.add(4545);\n",
    "        ArrayListExample example = new ArrayListExample();\n",
    "        int sum = example.findSum(nums);\n",
    "        System.out.println(\"Sum of values: \" + sum);\n",
    "    }\n",
    "}\n",
    "\n",
    "ArrayListExample.main(null);\n"
   ]
  },
  {
   "cell_type": "markdown",
   "metadata": {},
   "source": [
    "# 7.5 Searching\n",
    "\n",
    "### Learning Objectives\n",
    "- Apply sequential/linear search algorithms to search for specific information in array or ``arraylist`` objects\n",
    "\n",
    "### Essential Knowledge:\n",
    "- Sequential/linear search alogorithms check each element in order untill the desired value is found or all elementsin the array or ``arraylist`` have been checked\n",
    "\n",
    "### Search Process\n",
    "- Linear searching fits a standard for loop perfectly! We need to specify each element, one at a time, and do not need to track the index after execution\n",
    "\n",
    "- Inside the for loop, we retrieve the value from the structure at the specified index and compare it to the searched value\n",
    "\n",
    "- If it matches we return the index, otherwise we keep looking!"
   ]
  },
  {
   "cell_type": "markdown",
   "metadata": {},
   "source": [
    "### Searching Linear Structures\n",
    "\n",
    "#### Finding information with a computer is something we need to know how to do. Linear search algorithms are BEST used when we do not have any idea about the order of the data and so we need to look at each element to determine if what we are looking for is in fact inside the array or ``ArrayList``.\n",
    "\n",
    "#### When searching, we do need to remember that different data types require comparisons!\n",
    "- When looking at ``int`` values, the == operator is the tool to use!\n",
    "- When searching for a ``double`` value, we need to make sure the value is close enough by doing some math!\n",
    "- ``Object`` instances should always use the ``.equals(otheThing)`` method to check for a match!"
   ]
  },
  {
   "cell_type": "markdown",
   "metadata": {},
   "source": [
    "## Searching an ``ArrayList`` of Double"
   ]
  },
  {
   "cell_type": "code",
   "execution_count": 35,
   "metadata": {},
   "outputs": [],
   "source": [
    "public int where(double magicNumber, ArrayList<Double> realNumbers, double delta)\n",
    "{\n",
    "    for (int index = 0; index < realNumbers.size(); index++)\n",
    "    {\n",
    "        if (Math.abs(magicNumber - realNumbers.get(index)) < delta)\n",
    "        {\n",
    "            return index;\n",
    "        }\n",
    "    }\n",
    "    return -1;\n",
    "}"
   ]
  },
  {
   "cell_type": "markdown",
   "metadata": {},
   "source": [
    "### Explanation\n",
    "> The where function searches through a list of numbers to find and return the position of the first number that is very close to a specific target number, known as magicNumber. If no number in the list is close enough to the target number, the function returns -1, indicating that no match was found."
   ]
  },
  {
   "cell_type": "markdown",
   "metadata": {},
   "source": [
    "## Searching an ``ArrayList`` of book for a ``String``"
   ]
  },
  {
   "cell_type": "code",
   "execution_count": null,
   "metadata": {},
   "outputs": [],
   "source": [
    "public int findTheWord(String searchedPhrase, ArrayList<Book> myBooks)\n",
    "{\n",
    "    for (int index = 0; index < myBooks.size(); index++)\n",
    "    {\n",
    "        Book currentBook = myBooks.get(index);\n",
    "        String currentPhrase = currentBook.getDescription();\n",
    "        if(currentPhrase.equals(searchedPhrase))\n",
    "        {\n",
    "            return index;\n",
    "        }\n",
    "    }\n",
    "    return -1;\n",
    "}"
   ]
  },
  {
   "cell_type": "markdown",
   "metadata": {},
   "source": [
    "### Explanation\n",
    ">This little code snippet is like a treasure hunt through a collection of books; it's on a mission to find the one book whose description matches exactly with a special phrase you're looking for. If it finds the perfect match, it'll excitedly tell you where it is in the collection, but if not, it'll sadly let you know with a -1 that the search was a bust.\n",
    "\n",
    "\n",
    "\n"
   ]
  },
  {
   "cell_type": "markdown",
   "metadata": {},
   "source": [
    "## Questions\n",
    "\n",
    "#### Should we use == when looking for an Object?\n",
    "> No, that only will return true if the variable and the element stored at that index point to the same memory, are aliases of each other\n",
    "\n",
    "#### Why did we subtract the double values?\n",
    "> To make sure that the lack of preciosin that is inherit in the data type is handled within our code"
   ]
  },
  {
   "cell_type": "markdown",
   "metadata": {},
   "source": [
    "## Why does order sometimes matter?\n",
    "\n",
    "#### When searching for a value to remove from a list, if we search forward we have to make sure to adjust the loop control variable, or we might skip what we are looking for when removing!"
   ]
  },
  {
   "cell_type": "markdown",
   "metadata": {},
   "source": [
    "# 7.6 Sorting\n",
    "\n",
    "### Learning Objectives\n",
    "- Apply selection sort and insertion sort algorithms to sort the elements of array or ``ArrayList`` objects.\n",
    "\n",
    "### Essential Knowledge:\n",
    "- Selection sort and insertion sort are iterative sorting algorithms that can be used to sort elements in an array or ``ArrayList``.\n",
    "\n"
   ]
  },
  {
   "cell_type": "markdown",
   "metadata": {},
   "source": [
    "## Selection Sort\n",
    "> This is one of the easiest sorts to demonstrate. The selection sort identifies either the maximum or minimum of the compared values and iterates over the structure checking if the item stored at the index matches that condition, if so, it will swap the value stored at that index and continue. This implementation uses a helper method to perform the swap operation since variables can hold only one value at a time!\n",
    "\n",
    "Example:"
   ]
  },
  {
   "cell_type": "code",
   "execution_count": null,
   "metadata": {},
   "outputs": [],
   "source": [
    "// with normal arrays\n",
    "for (int outerLoop = 0; outerLoop < myDucks.length; outerLoop ++)\n",
    "{\n",
    "    int minIndex = outerLoop;\n",
    "    for (int inner = outerLoop +1; inner < myDucks.length; inner++)\n",
    "    {\n",
    "        if (myDucks[inner].compareT(myDucks[minIndex]) < 0)\n",
    "        {\n",
    "            minIndex = inner;\n",
    "        }\n",
    "    }\n",
    "    if (minIndex != outerLoop)\n",
    "    {\n",
    "        swapItems(minIndex, outerloop, myDucks);\n",
    "    }\n",
    "}\n",
    "\n",
    "// with array lists\n",
    "for (int outerLoop = 0; outerLoop < myDucks.size(); outerLoop++) {\n",
    "    int minIndex = outerLoop;\n",
    "    for (int inner = outerLoop + 1; inner < myDucks.size(); inner++) \n",
    "    {\n",
    "        if (myDucks.get(inner).compareT(myDucks.get(minIndex)) < 0) \n",
    "        {\n",
    "            minIndex = inner;\n",
    "        }\n",
    "    }\n",
    "    if (minIndex != outerLoop) {\n",
    "        swapItems(minIndex, outerLoop, myDucks); \n",
    "    }\n",
    "}\n",
    "/*\n",
    "This code performs a selection sort on the myDucks ArrayList, ordering its elements based on the compareT method. \n",
    "During each iteration of the outer loop, it finds the index of the minimum element in the unsorted portion of the list and swaps it with the first element of the unsorted portion.\n",
    " */ "
   ]
  },
  {
   "cell_type": "markdown",
   "metadata": {},
   "source": [
    "## Insertion Sort Algorithm\n",
    "> The insertion sort is characterized by building a sorted structure as it proceeds. It inserts each value it finds at the appropriate location in the data structure. This is often accomplished by using a while loop as the inner loop.\n",
    "\n",
    "Example:"
   ]
  },
  {
   "cell_type": "code",
   "execution_count": null,
   "metadata": {},
   "outputs": [],
   "source": [
    "for (int outer = 1; outer < randomList.size(); outer++)\n",
    "{\n",
    "    DebugDuck tested = randomList.get(outer);\n",
    "    int inner = outer -1;\n",
    "\n",
    "    while ( innter >= 0 && tested.compareTo(randomList.get(inner)) < 0)\n",
    "    {\n",
    "        ramdomList.set(inner +1, randomList.get(inner));\n",
    "        inner--;\n",
    "    }\n",
    "    randomList.set(inner +1, tested)\n",
    "}\n",
    "// This code arranges a list of DebugDuck objects in order using the insertion sort method, \n",
    "// by moving through the list and putting each item in its proper place one by one."
   ]
  },
  {
   "cell_type": "markdown",
   "metadata": {},
   "source": [
    "# 7.7: Ethical Issues around Data Collection"
   ]
  },
  {
   "cell_type": "markdown",
   "metadata": {},
   "source": [
    "### Learning Objectives:\n",
    "- Explaining the risks of privacy from collecting and storing personal data on computer systems.\n",
    "\n",
    "### Essential Knowledge:\n",
    "- When using the computer, personal privacy is at risk. Programmers should attempt to safeguard personal privacy."
   ]
  },
  {
   "cell_type": "markdown",
   "metadata": {},
   "source": [
    "#### Privacy Protection:\n",
    "- A simple way to protect privacy is to delete personal user info after done using it.\n",
    "- Another way is to minimize the amount of data used by the program in order to protect privacy.\n",
    "- Anonymizing personal data via the object method *hashCode()* is another way."
   ]
  },
  {
   "cell_type": "markdown",
   "metadata": {},
   "source": [
    "## Hacks:\n",
    "- Think of other ways to safeguard user privacy (any other method not listed is fine)\n",
    "\n",
    "A method that is pretty cool is using a physical access key (microsoft has this on Windows 10). You can set up a device and burn it to have a long, specific key that no one knows and no one can retrieve, since it is physically burned on the device. However, when you plug it in, the computer can recognize it and authorize you. This is similar technology to ID cards being used to log into computers over Active Directory in hospitals like SHARP, and we also use AD when we type in our user id and password into the school computrs. \n",
    "\n",
    "- Extra points to creative solutions\n",
    "- 90% credit to any solution\n",
    "- 80% credit to incomplete solution (how did you do that?)\n",
    "- -10% deduction for late submition"
   ]
  },
  {
   "cell_type": "markdown",
   "metadata": {},
   "source": [
    "# Grading:\n",
    "\n",
    "- 7.2 Hacks (0.19)\n",
    "- 7.3 Hacks (0.19)\n",
    "- 7.4 Hacks (0.19)\n",
    "- 7.7 Hacks (0.19)\n",
    "- Popcorn Hacks (0.19)\n",
    "- Anything else creative or above-and-beyond showing your understanding of ArrayLists (0.05)"
   ]
  }
 ],
 "metadata": {
  "kernelspec": {
   "display_name": "Java",
   "language": "java",
   "name": "java"
  },
  "language_info": {
   "codemirror_mode": "java",
   "file_extension": ".jshell",
   "mimetype": "text/x-java-source",
   "name": "java",
   "pygments_lexer": "java",
   "version": "20.0.2+9-78"
  },
  "orig_nbformat": 4
 },
 "nbformat": 4,
 "nbformat_minor": 2
}
