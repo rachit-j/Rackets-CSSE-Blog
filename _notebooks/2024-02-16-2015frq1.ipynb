{
 "cells": [
  {
   "cell_type": "markdown",
   "metadata": {},
   "source": [
    "---\n",
    "toc: True\n",
    "comments: True\n",
    "layout: post\n",
    "title: Collegeboard 2015 FRQ 1\n",
    "description: Collegeboard 2015 1 FRQ Questions and Answers\n",
    "courses: {'labnotebook': {'week': 24}}\n",
    "type: tangibles\n",
    "---"
   ]
  },
  {
   "cell_type": "markdown",
   "metadata": {},
   "source": [
    "## Question 1\n",
    "**Type:** Array/2D Array\n",
    "\n",
    "**Blog**\n",
    "This FRQ was interesting and a good review in many ways because it required me to return back to basics but also requried me to think about new applications. The Key Algorithm was Array iteration and comparison, as it went over different types of arrays and how to get information from them, therefore iterating over them. This key algorithm fits into the type because array iteration and comparison falls into arrays.\n",
    "\n",
    "### Part A\n",
    "**Calculate Array Sum** - Iterate through an array and sum its elements\n",
    "\n",
    "![Question 1A](https://rackets-assets.vercel.app/assets/2015frq/1a.png)"
   ]
  },
  {
   "cell_type": "code",
   "execution_count": 1,
   "metadata": {
    "vscode": {
     "languageId": "java"
    }
   },
   "outputs": [],
   "source": [
    "public static int arraySum(int[] arr)\n",
    "{\n",
    "   int sum = 0;\n",
    "\n",
    "   for(int n : arr)\n",
    "     sum += n;\n",
    "\n",
    "   return sum;\n",
    "}\n"
   ]
  },
  {
   "cell_type": "code",
   "execution_count": 2,
   "metadata": {
    "vscode": {
     "languageId": "java"
    }
   },
   "outputs": [
    {
     "name": "stdout",
     "output_type": "stream",
     "text": [
      "Original Array: [1, 2, 3]\n",
      "Sum: 6"
     ]
    }
   ],
   "source": [
    "// Testing\n",
    "int[] array = {1, 2, 3};\n",
    "System.out.print(\"Original Array: \");\n",
    "System.out.println(Arrays.toString(array));\n",
    "\n",
    "System.out.print(\"Sum: \");\n",
    "System.out.print(arraySum(array)); // should return 6"
   ]
  },
  {
   "cell_type": "markdown",
   "metadata": {},
   "source": [
    "### Part B\n",
    "\n",
    "**Check Array Diversity** - Use the array sum to determine if arrays are diverse by comparing their sums.\n",
    "\n",
    "![Question 1B](https://rackets-assets.vercel.app/assets/2015frq/1b.png)"
   ]
  },
  {
   "cell_type": "code",
   "execution_count": 3,
   "metadata": {
    "vscode": {
     "languageId": "java"
    }
   },
   "outputs": [],
   "source": [
    "public static int[] rowSums(int[][] arr2D)\n",
    "{\n",
    "   int[] sums = new int[arr2D.length];\n",
    "\n",
    "   for(int i = 0; i < sums.length; i++) {\n",
    "      sums[i] = arraySum(arr2D[i]);\n",
    "   }\n",
    "\n",
    "   return sums;\n",
    "}"
   ]
  },
  {
   "cell_type": "code",
   "execution_count": 4,
   "metadata": {
    "vscode": {
     "languageId": "java"
    }
   },
   "outputs": [
    {
     "name": "stdout",
     "output_type": "stream",
     "text": [
      "Sample get: \n",
      "2\n",
      "Sum\n",
      "[6, 15, 24]"
     ]
    }
   ],
   "source": [
    "// Testing\n",
    "int[][] my2DArray = { {1, 2, 3}, {4, 5, 6}, {7, 8, 9}};\n",
    "\n",
    "System.out.println(\"Sample get: \");\n",
    "System.out.print(my2DArray[0][1]); // Output: 2\n",
    "\n",
    "System.out.println(\"\\nSum\");\n",
    "System.out.print(Arrays.toString(rowSums(my2DArray))); // Output: [6, 15, 24]\n"
   ]
  },
  {
   "cell_type": "markdown",
   "metadata": {},
   "source": [
    "### Part C\n",
    "\n",
    "**Diverse Arrays in 2D Array** - Check each row of a 2D array for diversity using the methods from parts (a) and (b).\n",
    "\n",
    "![Question 1C](https://rackets-assets.vercel.app/assets/2015frq/1c.png)"
   ]
  },
  {
   "cell_type": "code",
   "execution_count": 5,
   "metadata": {
    "vscode": {
     "languageId": "java"
    }
   },
   "outputs": [],
   "source": [
    "public static boolean isDiverse(int[][] arr2D)\n",
    " {\n",
    "    int[] sums = rowSums(arr2D);\n",
    "\n",
    "    for(int i = 0; i < sums.length; i++)\n",
    "       for(int j = i+1; j < sums.length; j++)\n",
    "          if(sums[i] == sums[j])\n",
    "             return false;\n",
    "\n",
    "    return true;\n",
    " }"
   ]
  },
  {
   "cell_type": "code",
   "execution_count": 6,
   "metadata": {
    "vscode": {
     "languageId": "java"
    }
   },
   "outputs": [
    {
     "name": "stdout",
     "output_type": "stream",
     "text": [
      "First Array Sum\n",
      "[6, 15, 24]Is the first array diverse? \n",
      "true\n",
      "\n",
      "Diverse Array Sum\n",
      "[6, 6, 6]\n",
      "Is the second array diverse? \n",
      "false"
     ]
    }
   ],
   "source": [
    "// Testing\n",
    "int[][] my2DArray = { {1, 2, 3}, {4, 5, 6}, {7, 8, 9}};\n",
    "System.out.println(\"First Array Sum\");\n",
    "System.out.print(Arrays.toString(rowSums(my2DArray)));\n",
    "System.out.println(\"Is the first array diverse? \");\n",
    "System.out.println(isDiverse(my2DArray));\n",
    "System.out.println();\n",
    "\n",
    "int[][] my2DArray2 = { {3, 2, 1}, {1, 2, 3}, {2, 3, 1}};\n",
    "\n",
    "System.out.println(\"Diverse Array Sum\");\n",
    "System.out.print(Arrays.toString(rowSums(my2DArray2)));\n",
    "System.out.println();\n",
    "System.out.println(\"Is the second array diverse? \");\n",
    "System.out.print(isDiverse(my2DArray2));"
   ]
  }
 ],
 "metadata": {
  "kernelspec": {
   "display_name": "Java",
   "language": "java",
   "name": "java"
  },
  "language_info": {
   "codemirror_mode": "java",
   "file_extension": ".jshell",
   "mimetype": "text/x-java-source",
   "name": "Java",
   "pygments_lexer": "java",
   "version": "20.0.2+9-78"
  }
 },
 "nbformat": 4,
 "nbformat_minor": 2
}
