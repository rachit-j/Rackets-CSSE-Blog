{
 "cells": [
  {
   "cell_type": "markdown",
   "metadata": {},
   "source": [
    "---\n",
    "toc: True\n",
    "comments: True\n",
    "layout: post\n",
    "title: Collegeboard 2015 FRQ 2\n",
    "description: Collegeboard 2015 2 FRQ Questions and Answers\n",
    "courses: {'labnotebook': {'week': 24}}\n",
    "type: tangibles\n",
    "---"
   ]
  },
  {
   "cell_type": "markdown",
   "metadata": {},
   "source": [
    "## Question 2\n",
    "\n",
    "**Type:** Method and Control Structures\n",
    "\n",
    "**Blog**\n",
    "This FRQ is about how to compare and perform operations with strings. I had to iterate through a guessed word and generate hints based on matching characters and presence in the hidden word, which is (un)surprisingly harder. Using methods and control structures and Java string operations, I was able to complete the hidden word challenge.  \n",
    "\n",
    "![Question 2](https://rackets-assets.vercel.app/assets/2015frq/2.png)"
   ]
  },
  {
   "cell_type": "code",
   "execution_count": 2,
   "metadata": {
    "vscode": {
     "languageId": "java"
    }
   },
   "outputs": [
    {
     "name": "stdout",
     "output_type": "stream",
     "text": [
      "*+*lo\n"
     ]
    }
   ],
   "source": [
    "public class HiddenWord {\n",
    "    private String hidden;\n",
    "\n",
    "    public HiddenWord(String h) {\n",
    "        hidden = h;\n",
    "    }\n",
    "\n",
    "    public String getHint(String guess) {\n",
    "        String r = \"\";\n",
    "\n",
    "        for (int i = 0; i < guess.length(); i++) {\n",
    "            if (guess.charAt(i) == hidden.charAt(i))\n",
    "                r += \"\" + guess.charAt(i);\n",
    "            else if (hidden.indexOf(guess.charAt(i)) > -1)\n",
    "                r += \"+\";\n",
    "            else\n",
    "                r += \"*\";\n",
    "        }\n",
    "\n",
    "        return r;\n",
    "    }\n",
    "    // Testing method\n",
    "    public static void main(String[] args) {\n",
    "        HiddenWord hw = new HiddenWord(\"hello\");\n",
    "        System.out.println(hw.getHint(\"blalo\")); // Example usage\n",
    "    }\n",
    "}\n",
    "HiddenWord.main(null);"
   ]
  }
 ],
 "metadata": {
  "kernelspec": {
   "display_name": "Java",
   "language": "java",
   "name": "java"
  },
  "language_info": {
   "codemirror_mode": "java",
   "file_extension": ".jshell",
   "mimetype": "text/x-java-source",
   "name": "Java",
   "pygments_lexer": "java",
   "version": "20.0.2+9-78"
  }
 },
 "nbformat": 4,
 "nbformat_minor": 2
}
