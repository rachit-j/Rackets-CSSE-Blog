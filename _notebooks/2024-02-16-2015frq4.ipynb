{
 "cells": [
  {
   "cell_type": "markdown",
   "metadata": {},
   "source": [
    "---\n",
    "toc: True\n",
    "comments: True\n",
    "layout: post\n",
    "title: Collegeboard 2015 FRQ 4\n",
    "description: Collegeboard 2015 4 FRQ Questions and Answers\n",
    "courses: {'labnotebook': {'week': 24}}\n",
    "type: tangibles\n",
    "---"
   ]
  },
  {
   "cell_type": "markdown",
   "metadata": {},
   "source": [
    "## Question 4\n",
    "\n",
    "**Type:** Classes\n",
    "\n",
    "**Blog**\n",
    "This question made me think a lot about how to impliment classes and how the Java's object-oriented structure could be put to use in different ways to make it a more beneficial programming language. This question explored the implementation of interfaces and the composite pattern through the NumberGroup interface and its implementations, while challenging me to apply these concepts to create a flexible system for checking if numbers belong to any of a collection of ranges, which demonstrates the power of abstraction and composition in object-oriented design.\n",
    "\n",
    "### Part A\n",
    "\n",
    "**Create an Interface** - Make an interface :|\n",
    "\n",
    "![Question 4A](https://rackets-assets.vercel.app/assets/2015frq/4a.png)"
   ]
  },
  {
   "cell_type": "code",
   "execution_count": 6,
   "metadata": {},
   "outputs": [],
   "source": [
    "public interface NumberGroup \n",
    "{\n",
    "     public boolean contains(int num);\n",
    "}"
   ]
  },
  {
   "cell_type": "code",
   "execution_count": 7,
   "metadata": {},
   "outputs": [
    {
     "name": "stdout",
     "output_type": "stream",
     "text": [
      "true\n",
      "true\n",
      "true\n",
      "false\n",
      "false\n"
     ]
    }
   ],
   "source": [
    "// Testing Stuff\n",
    "public class Range implements NumberGroup {\n",
    "    private int min;\n",
    "    private int max;\n",
    "\n",
    "    public Range(int min, int max) {\n",
    "        this.min = min;\n",
    "        this.max = max;\n",
    "    }\n",
    "\n",
    "    @Override\n",
    "    public boolean contains(int num) {\n",
    "        return num >= min && num <= max;\n",
    "    }\n",
    "}\n",
    "public class Main {\n",
    "    public static void main(String[] args) {\n",
    "        NumberGroup range = new Range(5, 10);\n",
    "\n",
    "        System.out.println(range.contains(5));  // true\n",
    "        System.out.println(range.contains(10)); // true\n",
    "        System.out.println(range.contains(7));  // true\n",
    "        System.out.println(range.contains(4));  // false\n",
    "        System.out.println(range.contains(11)); // false\n",
    "    }\n",
    "}\n",
    "Main.main(null);"
   ]
  },
  {
   "cell_type": "markdown",
   "metadata": {},
   "source": [
    "### Part B\n",
    "\n",
    "**Implementing Interface** - Implement the NumberGroup interface in a Range class to check if a number is within a range.\n",
    "\n",
    "![Question 4B](https://rackets-assets.vercel.app/assets/2015frq/4b.png)"
   ]
  },
  {
   "cell_type": "markdown",
   "metadata": {},
   "source": [
    "Whelp, I accedentally did that implimentation without realizing it! Here it is, reimplimented in a different way:"
   ]
  },
  {
   "cell_type": "code",
   "execution_count": 8,
   "metadata": {},
   "outputs": [
    {
     "name": "stdout",
     "output_type": "stream",
     "text": [
      "true\n",
      "true\n",
      "true\n",
      "false\n",
      "false\n"
     ]
    }
   ],
   "source": [
    "public class Range implements NumberGroup \n",
    "{\n",
    "   private int[] list;\n",
    "\n",
    "   public Range(int min, int max) \n",
    "   {\n",
    "      list = new int[Math.abs(max-min+1)];\n",
    "      for(int i = 0; i < list.length; i++)\n",
    "          list[i] = min + i;\n",
    "   }\n",
    "\n",
    "   public boolean contains(int num)\n",
    "   {\n",
    "      for(int n: list) \n",
    "         if(num == n)\n",
    "            return true;\n",
    "      return false;\n",
    "   }\n",
    "}\n",
    "\n",
    "// Testing Stuff\n",
    "public class Main {\n",
    "    public static void main(String[] args) {\n",
    "        NumberGroup range = new Range(5, 10);\n",
    "\n",
    "        System.out.println(range.contains(5));  // true\n",
    "        System.out.println(range.contains(10)); // true\n",
    "        System.out.println(range.contains(7));  // true\n",
    "        System.out.println(range.contains(4));  // false\n",
    "        System.out.println(range.contains(11)); // false\n",
    "    }\n",
    "}\n",
    "Main.main(null);"
   ]
  },
  {
   "cell_type": "markdown",
   "metadata": {},
   "source": [
    "### Part C\n",
    "\n",
    "**Composite Group** - Create a MultipleGroups class that holds multiple NumberGroup objects and checks if a number is in any of the groups.\n",
    "\n",
    "![Question 4C](https://rackets-assets.vercel.app/assets/2015frq/4c.png)"
   ]
  },
  {
   "cell_type": "code",
   "execution_count": 9,
   "metadata": {},
   "outputs": [],
   "source": [
    "public boolean contains(int num)\n",
    "{\n",
    "   for(NumberGroup n : groupList)\n",
    "      if(n.contains(num))\n",
    "         return true;\n",
    "   return false;\n",
    "}"
   ]
  },
  {
   "cell_type": "code",
   "execution_count": 10,
   "metadata": {},
   "outputs": [
    {
     "name": "stdout",
     "output_type": "stream",
     "text": [
      "true\n",
      "false\n",
      "false\n",
      "false\n",
      "false\n"
     ]
    }
   ],
   "source": [
    "// Testing\n",
    "public class MultipleGroups {\n",
    "    public static void main(String[] args) {\n",
    "        Range range1 = new Range(1, 5);\n",
    "        Range range2 = new Range(10, 15);\n",
    "        Range range3 = new Range(20, 25);\n",
    "\n",
    "        System.out.println(range1.contains(3));  // true (3 is in the range 1-5)\n",
    "        System.out.println(range2.contains(9));  // false (9 is not in the range 10-15)\n",
    "        System.out.println(range3.contains(12)); // false (12 is not in the range 20-25)\n",
    "        System.out.println(range1.contains(20)); // false (20 is not in the range 1-5)\n",
    "        System.out.println(range3.contains(30)); // false (30 is not in the range 20-25)\n",
    "    }\n",
    "}\n",
    "MultipleGroups.main(null);"
   ]
  }
 ],
 "metadata": {
  "kernelspec": {
   "display_name": "Java",
   "language": "java",
   "name": "java"
  },
  "language_info": {
   "codemirror_mode": "java",
   "file_extension": ".jshell",
   "mimetype": "text/x-java-source",
   "name": "java",
   "pygments_lexer": "java",
   "version": "20.0.2+9-78"
  }
 },
 "nbformat": 4,
 "nbformat_minor": 2
}
