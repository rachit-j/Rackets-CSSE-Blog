{
 "cells": [
  {
   "cell_type": "markdown",
   "metadata": {},
   "source": [
    "---\n",
    "toc: True\n",
    "comments: True\n",
    "layout: post\n",
    "title: Collegeboard 2015 FRQ\n",
    "description: Collegeboard 2015 FRQ Questions and Answers\n",
    "courses: {'labnotebook': {'week': 24}}\n",
    "type: tangibles\n",
    "---"
   ]
  },
  {
   "cell_type": "markdown",
   "metadata": {},
   "source": [
    "# AP CSA 2015 Free Response Questions\n",
    "\n",
    "## Question 1\n",
    "**Type:** Array/2D Array\n",
    "\n",
    "**Blog**\n",
    "This FRQ was interesting and a good review in many ways because it required me to return back to basics but also requried me to think about new applications. The Key Algorithm was Array iteration and comparison, as it went over different types of arrays and how to get information from them, therefore iterating over them. This key algorithm fits into the type because array iteration and comparison falls into arrays.\n",
    "\n",
    "### Part A\n",
    "**Calculate Array Sum** - Iterate through an array and sum its elements\n",
    "\n",
    "![Question 1A](https://rackets-assets.vercel.app/assets/2015frq/1a.png)"
   ]
  },
  {
   "cell_type": "code",
   "execution_count": 2,
   "metadata": {
    "vscode": {
     "languageId": "java"
    }
   },
   "outputs": [],
   "source": [
    "public static int arraySum(int[] arr)\n",
    "{\n",
    "   int sum = 0;\n",
    "\n",
    "   for(int n : arr)\n",
    "     sum += n;\n",
    "\n",
    "   return sum;\n",
    "}\n"
   ]
  },
  {
   "cell_type": "code",
   "execution_count": 3,
   "metadata": {
    "vscode": {
     "languageId": "java"
    }
   },
   "outputs": [
    {
     "name": "stdout",
     "output_type": "stream",
     "text": [
      "Original Array: [1, 2, 3]\n",
      "Sum: 6"
     ]
    }
   ],
   "source": [
    "// Testing\n",
    "int[] array = {1, 2, 3};\n",
    "System.out.print(\"Original Array: \");\n",
    "System.out.println(Arrays.toString(array));\n",
    "\n",
    "System.out.print(\"Sum: \");\n",
    "System.out.print(arraySum(array)); // should return 6"
   ]
  },
  {
   "cell_type": "markdown",
   "metadata": {},
   "source": [
    "### Part B\n",
    "\n",
    "**Check Array Diversity** - Use the array sum to determine if arrays are diverse by comparing their sums.\n",
    "\n",
    "![Question 1B](https://rackets-assets.vercel.app/assets/2015frq/1b.png)"
   ]
  },
  {
   "cell_type": "code",
   "execution_count": 4,
   "metadata": {
    "vscode": {
     "languageId": "java"
    }
   },
   "outputs": [],
   "source": [
    "public static int[] rowSums(int[][] arr2D)\n",
    "{\n",
    "   int[] sums = new int[arr2D.length];\n",
    "\n",
    "   for(int i = 0; i < sums.length; i++) {\n",
    "      sums[i] = arraySum(arr2D[i]);\n",
    "   }\n",
    "\n",
    "   return sums;\n",
    "}"
   ]
  },
  {
   "cell_type": "code",
   "execution_count": 5,
   "metadata": {
    "vscode": {
     "languageId": "java"
    }
   },
   "outputs": [
    {
     "name": "stdout",
     "output_type": "stream",
     "text": [
      "Sample get: \n",
      "2\n",
      "Sum\n",
      "[6, 15, 24]"
     ]
    }
   ],
   "source": [
    "// Testing\n",
    "int[][] my2DArray = { {1, 2, 3}, {4, 5, 6}, {7, 8, 9}};\n",
    "\n",
    "System.out.println(\"Sample get: \");\n",
    "System.out.print(my2DArray[0][1]); // Output: 2\n",
    "\n",
    "System.out.println(\"\\nSum\");\n",
    "System.out.print(Arrays.toString(rowSums(my2DArray))); // Output: [6, 15, 24]\n"
   ]
  },
  {
   "cell_type": "markdown",
   "metadata": {},
   "source": [
    "### Part C\n",
    "\n",
    "**Diverse Arrays in 2D Array** - Check each row of a 2D array for diversity using the methods from parts (a) and (b).\n",
    "\n",
    "![Question 1C](https://rackets-assets.vercel.app/assets/2015frq/1c.png)"
   ]
  },
  {
   "cell_type": "code",
   "execution_count": 6,
   "metadata": {
    "vscode": {
     "languageId": "java"
    }
   },
   "outputs": [],
   "source": [
    "public static boolean isDiverse(int[][] arr2D)\n",
    " {\n",
    "    int[] sums = rowSums(arr2D);\n",
    "\n",
    "    for(int i = 0; i < sums.length; i++)\n",
    "       for(int j = i+1; j < sums.length; j++)\n",
    "          if(sums[i] == sums[j])\n",
    "             return false;\n",
    "\n",
    "    return true;\n",
    " }"
   ]
  },
  {
   "cell_type": "code",
   "execution_count": 7,
   "metadata": {
    "vscode": {
     "languageId": "java"
    }
   },
   "outputs": [
    {
     "name": "stdout",
     "output_type": "stream",
     "text": [
      "First Array Sum\n",
      "[6, 15, 24]Is the first array diverse? \n",
      "true\n",
      "\n",
      "Diverse Array Sum\n",
      "[6, 6, 6]\n",
      "Is the second array diverse? \n",
      "false"
     ]
    }
   ],
   "source": [
    "// Testing\n",
    "int[][] my2DArray = { {1, 2, 3}, {4, 5, 6}, {7, 8, 9}};\n",
    "System.out.println(\"First Array Sum\");\n",
    "System.out.print(Arrays.toString(rowSums(my2DArray)));\n",
    "System.out.println(\"Is the first array diverse? \");\n",
    "System.out.println(isDiverse(my2DArray));\n",
    "System.out.println();\n",
    "\n",
    "int[][] my2DArray2 = { {3, 2, 1}, {1, 2, 3}, {2, 3, 1}};\n",
    "\n",
    "System.out.println(\"Diverse Array Sum\");\n",
    "System.out.print(Arrays.toString(rowSums(my2DArray2)));\n",
    "System.out.println();\n",
    "System.out.println(\"Is the second array diverse? \");\n",
    "System.out.print(isDiverse(my2DArray2));"
   ]
  },
  {
   "cell_type": "markdown",
   "metadata": {},
   "source": [
    "## Question 2\n",
    "\n",
    "**Type:** Method and Control Structures\n",
    "\n",
    "**Blog**\n",
    "This FRQ is about how to compare and perform operations with strings. I had to iterate through a guessed word and generate hints based on matching characters and presence in the hidden word, which is (un)surprisingly harder. Using methods and control structures and Java string operations, I was able to complete the hidden word challenge.  \n",
    "\n",
    "![Question 2](https://rackets-assets.vercel.app/assets/2015frq/2.png)"
   ]
  },
  {
   "cell_type": "code",
   "execution_count": 8,
   "metadata": {
    "vscode": {
     "languageId": "java"
    }
   },
   "outputs": [
    {
     "name": "stdout",
     "output_type": "stream",
     "text": [
      "*+*lo\n"
     ]
    }
   ],
   "source": [
    "public class HiddenWord {\n",
    "    private String hidden;\n",
    "\n",
    "    public HiddenWord(String h) {\n",
    "        hidden = h;\n",
    "    }\n",
    "\n",
    "    public String getHint(String guess) {\n",
    "        String r = \"\";\n",
    "\n",
    "        for (int i = 0; i < guess.length(); i++) {\n",
    "            if (guess.charAt(i) == hidden.charAt(i))\n",
    "                r += \"\" + guess.charAt(i);\n",
    "            else if (hidden.indexOf(guess.charAt(i)) > -1)\n",
    "                r += \"+\";\n",
    "            else\n",
    "                r += \"*\";\n",
    "        }\n",
    "\n",
    "        return r;\n",
    "    }\n",
    "    // Testing method\n",
    "    public static void main(String[] args) {\n",
    "        HiddenWord hw = new HiddenWord(\"hello\");\n",
    "        System.out.println(hw.getHint(\"blalo\")); // Example usage\n",
    "    }\n",
    "}\n",
    "HiddenWord.main(null);"
   ]
  },
  {
   "cell_type": "markdown",
   "metadata": {},
   "source": [
    "## Quesiton 3\n",
    "\n",
    "**Type:** List/List Iteration\n",
    "\n",
    "**Blog**\n",
    "This question taught me to review how classes worked with lists to manipulate data. In a sparse array, which is an efficient way to store and manipulate data with a significant number of zero or null values, I was tested on navigating and modifying a list of SparseArrayEntry objects to retrieve values and remove columns, showcasing the importance of list iteration and modification in data structure management. This ties back into list iteration because these list operations were simple, but they had to be executed through a variety of classes, increasing the complexity of the quesiton.\n",
    "\n",
    "\n",
    "![Question 3-1](https://rackets-assets.vercel.app/assets/2015frq/3-1.png)\n",
    "![Question 3-2](https://rackets-assets.vercel.app/assets/2015frq/3-2.png)\n",
    "![Question 3-3](https://rackets-assets.vercel.app/assets/2015frq/3-3.png)\n",
    "\n",
    "### Part A\n",
    "**Value Retrieval** - Iterate through a list of SparseArrayEntry objects to find the value at a specific row and column.\n",
    "\n",
    "![Question 3A](https://rackets-assets.vercel.app/assets/2015frq/3a.png)"
   ]
  },
  {
   "cell_type": "code",
   "execution_count": 9,
   "metadata": {
    "vscode": {
     "languageId": "java"
    }
   },
   "outputs": [
    {
     "name": "stdout",
     "output_type": "stream",
     "text": [
      "Should print 3:\n",
      "3\n",
      "Should print 5:\n",
      "5\n",
      "Should print 0:\n",
      "0\n"
     ]
    }
   ],
   "source": [
    "import java.util.ArrayList;\n",
    "import java.util.List;\n",
    "\n",
    "// Class to represent an entry in the sparse array\n",
    "class SparseArrayEntry {\n",
    "    private int row;\n",
    "    private int col;\n",
    "    private int value;\n",
    "\n",
    "    public SparseArrayEntry(int row, int col, int value) {\n",
    "        this.row = row;\n",
    "        this.col = col;\n",
    "        this.value = value;\n",
    "    }\n",
    "\n",
    "    public int getRow() {\n",
    "        return row;\n",
    "    }\n",
    "\n",
    "    public int getCol() {\n",
    "        return col;\n",
    "    }\n",
    "\n",
    "    public int getValue() {\n",
    "        return value;\n",
    "    }\n",
    "}\n",
    "\n",
    "// Class to represent the sparse array\n",
    "class SparseArray {\n",
    "    private List<SparseArrayEntry> entries;\n",
    "    private int numRows;\n",
    "    private int numCols;\n",
    "\n",
    "    public SparseArray(int numRows, int numCols) {\n",
    "        this.numRows = numRows;\n",
    "        this.numCols = numCols;\n",
    "        entries = new ArrayList<>();\n",
    "    }\n",
    "\n",
    "    public void addEntry(int row, int col, int value) {\n",
    "        entries.add(new SparseArrayEntry(row, col, value));\n",
    "    }\n",
    "\n",
    "    public int getValueAt(int row, int col) {\n",
    "        for (SparseArrayEntry e : entries) {\n",
    "            if (e.getRow() == row && e.getCol() == col) {\n",
    "                return e.getValue();\n",
    "            }\n",
    "        }\n",
    "        return 0;\n",
    "    }\n",
    "\n",
    "    public int getNumRows() {\n",
    "        return numRows;\n",
    "    }\n",
    "\n",
    "    public int getNumCols() {\n",
    "        return numCols;\n",
    "    }\n",
    "}\n",
    "\n",
    "// Example usage\n",
    "public class Main {\n",
    "    public static void main(String[] args) {\n",
    "        SparseArray sparseArray = new SparseArray(5, 5); // 5x5 sparse array\n",
    "        sparseArray.addEntry(1, 2, 3); // Add an entry at row 1, column 2 with value 3\n",
    "        sparseArray.addEntry(3, 4, 5); // Add another entry at row 3, column 4 with value 5\n",
    "\n",
    "        System.out.println(\"Should print 3:\");\n",
    "        System.out.println(sparseArray.getValueAt(1, 2)); // Should print 3\n",
    "        System.out.println(\"Should print 5:\");\n",
    "        System.out.println(sparseArray.getValueAt(3, 4)); // Should print 5\n",
    "        System.out.println(\"Should print 0:\");\n",
    "        System.out.println(sparseArray.getValueAt(0, 0)); // Should print 0 (default value)\n",
    "    }\n",
    "}\n",
    "Main.main(null);"
   ]
  },
  {
   "cell_type": "markdown",
   "metadata": {},
   "source": [
    "### Part B\n",
    "\n",
    "**Column Removal** - Modify the list of SparseArrayEntry objects to remove entries in a specific column and adjust the column indices of remaining entries.\n",
    "\n",
    "![Question 3B1](https://rackets-assets.vercel.app/assets/2015frq/3b-1.png)\n",
    "![Question 3B2](https://rackets-assets.vercel.app/assets/2015frq/3b-2.png)"
   ]
  },
  {
   "cell_type": "code",
   "execution_count": 10,
   "metadata": {
    "vscode": {
     "languageId": "java"
    }
   },
   "outputs": [
    {
     "name": "stdout",
     "output_type": "stream",
     "text": [
      "Original Array\n",
      "Should print 3:\n",
      "3\n",
      "Should print 5:\n",
      "5\n",
      "Should print 7:\n",
      "7\n",
      "\n",
      "Shifted Array\n",
      "Should print 3:\n",
      "3\n",
      "Should print 5:\n",
      "5\n",
      "Should print 7:\n",
      "0\n"
     ]
    }
   ],
   "source": [
    "import java.util.ArrayList;\n",
    "import java.util.List;\n",
    "\n",
    "class SparseArrayEntry {\n",
    "    private int row;\n",
    "    private int col;\n",
    "    private int value;\n",
    "\n",
    "    public SparseArrayEntry(int row, int col, int value) {\n",
    "        this.row = row;\n",
    "        this.col = col;\n",
    "        this.value = value;\n",
    "    }\n",
    "\n",
    "    public int getRow() {\n",
    "        return row;\n",
    "    }\n",
    "\n",
    "    public int getCol() {\n",
    "        return col;\n",
    "    }\n",
    "\n",
    "    public int getValue() {\n",
    "        return value;\n",
    "    }\n",
    "}\n",
    "\n",
    "class SparseArray {\n",
    "    private List<SparseArrayEntry> entries;\n",
    "    private int numRows;\n",
    "    private int numCols;\n",
    "\n",
    "    public SparseArray(int numRows, int numCols) {\n",
    "        this.numRows = numRows;\n",
    "        this.numCols = numCols;\n",
    "        entries = new ArrayList<>();\n",
    "    }\n",
    "\n",
    "    public void addEntry(int row, int col, int value) {\n",
    "        entries.add(new SparseArrayEntry(row, col, value));\n",
    "    }\n",
    "\n",
    "    public int getValueAt(int row, int col) {\n",
    "        for (SparseArrayEntry e : entries) {\n",
    "            if (e.getRow() == row && e.getCol() == col) {\n",
    "                return e.getValue();\n",
    "            }\n",
    "        }\n",
    "        return 0;\n",
    "    }\n",
    "\n",
    "    public void removeColumn(int col) { // new thingy\n",
    "        numCols--;\n",
    "\n",
    "        for (int i = entries.size() - 1; i >= 0; i--) {\n",
    "            if (entries.get(i).getCol() == col) {\n",
    "                entries.remove(i);\n",
    "            }\n",
    "        }\n",
    "\n",
    "        for (int i = 0; i < entries.size(); i++) {\n",
    "            if (entries.get(i).getCol() > col) {\n",
    "                SparseArrayEntry h = entries.get(i);\n",
    "                SparseArrayEntry e = new SparseArrayEntry(h.getRow(), (h.getCol() - 1), h.getValue());\n",
    "                entries.set(i, e);\n",
    "            }\n",
    "        }\n",
    "    }\n",
    "\n",
    "    public int getNumRows() {\n",
    "        return numRows;\n",
    "    }\n",
    "\n",
    "    public int getNumCols() {\n",
    "        return numCols;\n",
    "    }\n",
    "}\n",
    "// Testing\n",
    "public class Main {\n",
    "    public static void main(String[] args) {\n",
    "        SparseArray sparseArray = new SparseArray(5, 5);\n",
    "        sparseArray.addEntry(1, 2, 3);\n",
    "        sparseArray.addEntry(3, 4, 5);\n",
    "        sparseArray.addEntry(2, 3, 7);\n",
    "\n",
    "        System.out.println(\"Original Array\");\n",
    "        System.out.println(\"Should print 3:\");\n",
    "        System.out.println(sparseArray.getValueAt(1, 2)); // Should print 3\n",
    "        System.out.println(\"Should print 5:\");\n",
    "        System.out.println(sparseArray.getValueAt(3, 4)); // Should print 5\n",
    "        System.out.println(\"Should print 7:\");\n",
    "        System.out.println(sparseArray.getValueAt(2, 3)); // Should print 7\n",
    "        System.out.println(\"\");\n",
    "\n",
    "        sparseArray.removeColumn(3);\n",
    "\n",
    "        System.out.println(\"Shifted Array\");\n",
    "        System.out.println(\"Should print 3:\");\n",
    "        System.out.println(sparseArray.getValueAt(1, 2)); // Should print 3\n",
    "        System.out.println(\"Should print 5:\");\n",
    "        System.out.println(sparseArray.getValueAt(3, 3)); // Should print 5 (shifted from column 4 to 3)\n",
    "        System.out.println(\"Should print 7:\");\n",
    "        System.out.println(sparseArray.getValueAt(2, 2)); // Should print 7 (shifted from column 3 to 2)\n",
    "    }\n",
    "}\n",
    "Main.main(null);\n"
   ]
  },
  {
   "cell_type": "markdown",
   "metadata": {},
   "source": [
    "## Question 4\n",
    "\n",
    "**Type:** Classes\n",
    "\n",
    "**Blog**\n",
    "This question made me think a lot about how to impliment classes and how the Java's object-oriented structure could be put to use in different ways to make it a more beneficial programming language. This question explored the implementation of interfaces and the composite pattern through the NumberGroup interface and its implementations, while challenging me to apply these concepts to create a flexible system for checking if numbers belong to any of a collection of ranges, which demonstrates the power of abstraction and composition in object-oriented design.\n",
    "\n",
    "### Part A\n",
    "\n",
    "**Create an Interface** - Make an interface :|\n",
    "\n",
    "![Question 4A](https://rackets-assets.vercel.app/assets/2015frq/4a.png)"
   ]
  },
  {
   "cell_type": "code",
   "execution_count": 11,
   "metadata": {
    "vscode": {
     "languageId": "java"
    }
   },
   "outputs": [],
   "source": [
    "public interface NumberGroup \n",
    "{\n",
    "     public boolean contains(int num);\n",
    "}"
   ]
  },
  {
   "cell_type": "code",
   "execution_count": 12,
   "metadata": {
    "vscode": {
     "languageId": "java"
    }
   },
   "outputs": [
    {
     "name": "stdout",
     "output_type": "stream",
     "text": [
      "true\n",
      "true\n",
      "true\n",
      "false\n",
      "false\n"
     ]
    }
   ],
   "source": [
    "// Testing Stuff\n",
    "public class Range implements NumberGroup {\n",
    "    private int min;\n",
    "    private int max;\n",
    "\n",
    "    public Range(int min, int max) {\n",
    "        this.min = min;\n",
    "        this.max = max;\n",
    "    }\n",
    "\n",
    "    @Override\n",
    "    public boolean contains(int num) {\n",
    "        return num >= min && num <= max;\n",
    "    }\n",
    "}\n",
    "public class Main {\n",
    "    public static void main(String[] args) {\n",
    "        NumberGroup range = new Range(5, 10);\n",
    "\n",
    "        System.out.println(range.contains(5));  // true\n",
    "        System.out.println(range.contains(10)); // true\n",
    "        System.out.println(range.contains(7));  // true\n",
    "        System.out.println(range.contains(4));  // false\n",
    "        System.out.println(range.contains(11)); // false\n",
    "    }\n",
    "}\n",
    "Main.main(null);"
   ]
  },
  {
   "cell_type": "markdown",
   "metadata": {},
   "source": [
    "### Part B\n",
    "\n",
    "**Implementing Interface** - Implement the NumberGroup interface in a Range class to check if a number is within a range.\n",
    "\n",
    "![Question 4B](https://rackets-assets.vercel.app/assets/2015frq/4b.png)"
   ]
  },
  {
   "cell_type": "markdown",
   "metadata": {},
   "source": [
    "Whelp, I accedentally did that implimentation without realizing it! Here it is, reimplimented in a different way:"
   ]
  },
  {
   "cell_type": "code",
   "execution_count": 13,
   "metadata": {
    "vscode": {
     "languageId": "java"
    }
   },
   "outputs": [
    {
     "name": "stdout",
     "output_type": "stream",
     "text": [
      "true\n",
      "true\n",
      "true\n",
      "false\n",
      "false\n"
     ]
    }
   ],
   "source": [
    "public class Range implements NumberGroup \n",
    "{\n",
    "   private int[] list;\n",
    "\n",
    "   public Range(int min, int max) \n",
    "   {\n",
    "      list = new int[Math.abs(max-min+1)];\n",
    "      for(int i = 0; i < list.length; i++)\n",
    "          list[i] = min + i;\n",
    "   }\n",
    "\n",
    "   public boolean contains(int num)\n",
    "   {\n",
    "      for(int n: list) \n",
    "         if(num == n)\n",
    "            return true;\n",
    "      return false;\n",
    "   }\n",
    "}\n",
    "\n",
    "// Testing Stuff\n",
    "public class Main {\n",
    "    public static void main(String[] args) {\n",
    "        NumberGroup range = new Range(5, 10);\n",
    "\n",
    "        System.out.println(range.contains(5));  // true\n",
    "        System.out.println(range.contains(10)); // true\n",
    "        System.out.println(range.contains(7));  // true\n",
    "        System.out.println(range.contains(4));  // false\n",
    "        System.out.println(range.contains(11)); // false\n",
    "    }\n",
    "}\n",
    "Main.main(null);"
   ]
  },
  {
   "cell_type": "markdown",
   "metadata": {},
   "source": [
    "### Part C\n",
    "\n",
    "**Composite Group** - Create a MultipleGroups class that holds multiple NumberGroup objects and checks if a number is in any of the groups.\n",
    "\n",
    "![Question 4C](https://rackets-assets.vercel.app/assets/2015frq/4c.png)"
   ]
  },
  {
   "cell_type": "code",
   "execution_count": 14,
   "metadata": {
    "vscode": {
     "languageId": "java"
    }
   },
   "outputs": [],
   "source": [
    "public boolean contains(int num)\n",
    "{\n",
    "   for(NumberGroup n : groupList)\n",
    "      if(n.contains(num))\n",
    "         return true;\n",
    "   return false;\n",
    "}"
   ]
  },
  {
   "cell_type": "code",
   "execution_count": 15,
   "metadata": {
    "vscode": {
     "languageId": "java"
    }
   },
   "outputs": [
    {
     "name": "stdout",
     "output_type": "stream",
     "text": [
      "true\n",
      "false\n",
      "false\n",
      "false\n",
      "false\n"
     ]
    }
   ],
   "source": [
    "// Testing\n",
    "public class MultipleGroups {\n",
    "    public static void main(String[] args) {\n",
    "        Range range1 = new Range(1, 5);\n",
    "        Range range2 = new Range(10, 15);\n",
    "        Range range3 = new Range(20, 25);\n",
    "\n",
    "        System.out.println(range1.contains(3));  // true (3 is in the range 1-5)\n",
    "        System.out.println(range2.contains(9));  // false (9 is not in the range 10-15)\n",
    "        System.out.println(range3.contains(12)); // false (12 is not in the range 20-25)\n",
    "        System.out.println(range1.contains(20)); // false (20 is not in the range 1-5)\n",
    "        System.out.println(range3.contains(30)); // false (30 is not in the range 20-25)\n",
    "    }\n",
    "}\n",
    "MultipleGroups.main(null);"
   ]
  }
 ],
 "metadata": {
  "kernelspec": {
   "display_name": "Java",
   "language": "java",
   "name": "java"
  },
  "language_info": {
   "codemirror_mode": "java",
   "file_extension": ".jshell",
   "mimetype": "text/x-java-source",
   "name": "Java",
   "pygments_lexer": "java",
   "version": "20.0.2+9-78"
  }
 },
 "nbformat": 4,
 "nbformat_minor": 2
}
