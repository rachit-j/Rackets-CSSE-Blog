{
 "cells": [
  {
   "cell_type": "markdown",
   "metadata": {},
   "source": [
    "---\n",
    "toc: True\n",
    "comments: True\n",
    "layout: post\n",
    "title: Primitive Data Types\n",
    "description: Primitive Data Types Lesson\n",
    "courses: {'labnotebook': {'week': 26}}\n",
    "type: tangibles\n",
    "---"
   ]
  },
  {
   "cell_type": "markdown",
   "metadata": {},
   "source": [
    "## Primitive Data Types - A list\n",
    "\n",
    "There are 8 different primitive data types in Java:\n",
    "\n",
    "- Boolean\n",
    "- Char\n",
    "- Byte\n",
    "- Short\n",
    "- Int\n",
    "- Long\n",
    "- Float\n",
    "- Double\n",
    "\n",
    "They are categorized in the following way...\n",
    "\n",
    "![Categorized](https://images.shiksha.com/mediadata/ugcDocuments/images/wordpressImages/2022_05_image-162.jpg)"
   ]
  },
  {
   "cell_type": "markdown",
   "metadata": {},
   "source": [
    "## 1. Booleans\n",
    "\n",
    "Booleans are a datatype that can store either true or false. They can be used to check whether two values are equal or not (basically in conditional statements to return True or False). The default boolean value is false, and the system memory for this variable varies per JDK."
   ]
  },
  {
   "cell_type": "code",
   "execution_count": 6,
   "metadata": {},
   "outputs": [
    {
     "name": "stdout",
     "output_type": "stream",
     "text": [
      "Boolean value is True\n"
     ]
    }
   ],
   "source": [
    "class BooleanDataTypes\n",
    "{\n",
    "  public static void main(String args[]) {\n",
    "      boolean var1 = true; // change this!\n",
    "      if (var1 == true) //checks if the value is true or false\n",
    "      {\n",
    "          System.out.println(\"Boolean value is True\");\n",
    "      }\n",
    "      else\n",
    "      {\n",
    "          System.out.println(\"Boolean value is False\");  \n",
    "      }\n",
    "  }\n",
    "}\n",
    "BooleanDataTypes.main(null);"
   ]
  },
  {
   "cell_type": "markdown",
   "metadata": {},
   "source": [
    "## 2. Character Type - char\n",
    "This datatype stores a single character, lowercase and uppercase. It takes a memory space of 16 bits or 2 bytes."
   ]
  },
  {
   "cell_type": "code",
   "execution_count": 7,
   "metadata": {},
   "outputs": [
    {
     "name": "stdout",
     "output_type": "stream",
     "text": [
      "A\n",
      "d\n"
     ]
    }
   ],
   "source": [
    "class CharDataType {\n",
    "    public static void main(String[] args) {\n",
    "        char var1 = 'A';\n",
    "        char var2 = 'd';\n",
    "        System.out.println(var1);\n",
    "        System.out.println(var2);\n",
    "    }\n",
    "}\n",
    "CharDataType.main(null);"
   ]
  },
  {
   "cell_type": "markdown",
   "metadata": {},
   "source": [
    "## Integer Type\n",
    "This type has 4 integer types: byte, short, int, and long. These types, since they are integers, do not contain decimals but are whole numbers.\n",
    "\n",
    "### Byte\n",
    "A byte is an 8-bit integer. It can hold values from -128 to 127. \n",
    "\n",
    "`byte b = 50;`\n",
    "\n",
    "### Short\n",
    "A short is a 16-bit integer. It can hold values from -32,768 to 32,767.\n",
    "\n",
    "`short s = 9999`\n",
    "\n",
    "### Int\n",
    "An int is a 32-bit signed integer and it can hold values from -2,147,483,648 to 2,147,483,647. This is the standard data type for most integers in Java programs.\n",
    "\n",
    "`int i = 4294967`\n",
    "\n",
    "### Long\n",
    "A long is a 64-bit integer and it can hold values from -9,223,372,036,854,775,808 to 9,223,372,036,854,775,807. This data type ends with ‘L’ or ‘l’.\n",
    "\n",
    "`long lng = 9223372036854775807L;`"
   ]
  },
  {
   "cell_type": "code",
   "execution_count": 8,
   "metadata": {},
   "outputs": [
    {
     "name": "stdout",
     "output_type": "stream",
     "text": [
      "The integer variable is 10\n",
      "\n",
      "The short variable is 2\n",
      "\n",
      "The byte variable is 6\n",
      "\n",
      "The long variable is 125362133223\n"
     ]
    }
   ],
   "source": [
    "class IntegerDataTypes\n",
    "{\n",
    "  public static void main(String args[]) {\n",
    "    int a = 10;\n",
    "    short s = 2;\n",
    "    byte b = 6;\n",
    "    long l = 125362133223l;\n",
    " \n",
    "    System.out.println(\"The integer variable is \" + a + '\\n');\n",
    "    System.out.println(\"The short variable is \" + s  + '\\n');\n",
    "    System.out.println(\"The byte variable is \" + b + '\\n');\n",
    "    System.out.println(\"The long variable is \" + l);\n",
    " \n",
    "  }\n",
    "}\n",
    "IntegerDataTypes.main(null);"
   ]
  },
  {
   "cell_type": "markdown",
   "metadata": {},
   "source": [
    "## Float Type\n",
    "\n",
    "A float type is a number with a decimal. It has two types: float and double.\n",
    "\n",
    "### Float\n",
    "Float is a floating point data type that stores the values, including the decimal precision. It is not used for precise data.\n",
    "A Float value:\n",
    "\n",
    "- is a single-precision 32-bit or 4 bytes IEEE 754 floating-point\n",
    "- can have a 7-digit decimal precision\n",
    "- ends with an ‘f’ or ‘F’\n",
    "- default value = 0.0f\n",
    "- stores fractional numbers ranging from 3.4e-038 to 3.4e+038\n",
    "\n",
    "`float floatVariable;`\n",
    "\n",
    "### Double\n",
    "The double data type is similar to float. The difference between the two is that is double twice the float in the case of decimal precision. It is used for decimal values just like float and should not be used for precise values.\n",
    "\n",
    "A double value:\n",
    "\n",
    "- is a double-precision 64-bit or 8 bytes IEEE 754 floating-point\n",
    "- can have a 15-digit decimal precision\n",
    "- default value = 0.0d\n",
    "- stores fractional numbers ranging from 1.7e-308 to 1.7e+308\n",
    "\n",
    "`double doubleVariable;`\n"
   ]
  },
  {
   "cell_type": "code",
   "execution_count": 9,
   "metadata": {},
   "outputs": [
    {
     "name": "stdout",
     "output_type": "stream",
     "text": [
      "The float variable is 65.20298\n",
      "The double variable is 876.765\n"
     ]
    }
   ],
   "source": [
    "class FloatDataTypes\n",
    "{\n",
    "  public static void main(String args[]) {\n",
    " \n",
    "    float f = 65.20298f;\n",
    "    double d = 876.765d;\n",
    " \n",
    "    System.out.println(\"The float variable is \" + f);\n",
    "    System.out.println(\"The double variable is \" + d);\n",
    "  }\n",
    "}\n",
    "FloatDataTypes.main(null);"
   ]
  },
  {
   "cell_type": "markdown",
   "metadata": {},
   "source": [
    "## Hacks\n",
    "\n",
    "1. Make a table of all the information of the different types of primitive data\n",
    "2. Create a class that utilizes these values to make a calculator, one for integers or one for floats. Find some way to include booleans, and show how each type has its own advantages (such as using a long for a large number calculator)"
   ]
  }
 ],
 "metadata": {
  "kernelspec": {
   "display_name": "Java",
   "language": "java",
   "name": "java"
  },
  "language_info": {
   "codemirror_mode": "java",
   "file_extension": ".jshell",
   "mimetype": "text/x-java-source",
   "name": "java",
   "pygments_lexer": "java",
   "version": "20.0.2+9-78"
  }
 },
 "nbformat": 4,
 "nbformat_minor": 2
}
